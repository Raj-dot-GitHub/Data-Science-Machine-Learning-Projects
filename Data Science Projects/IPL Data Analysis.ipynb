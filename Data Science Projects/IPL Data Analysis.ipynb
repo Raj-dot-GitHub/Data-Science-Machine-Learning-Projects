{
 "cells": [
  {
   "cell_type": "markdown",
   "id": "47caee16",
   "metadata": {},
   "source": [
    "**Description:-** In this Data Analysis Project, we will analyze the history of IPL (Indian Premier League) right from the start of the League in 2008 uptill 2020."
   ]
  },
  {
   "cell_type": "code",
   "execution_count": 1,
   "id": "f9015541",
   "metadata": {},
   "outputs": [],
   "source": [
    "# Importing the libraries:\n",
    "import numpy as np\n",
    "import pandas as pd\n",
    "import matplotlib.pyplot as plt\n",
    "import seaborn as sns\n",
    "%matplotlib inline"
   ]
  },
  {
   "cell_type": "code",
   "execution_count": 2,
   "id": "53639c5c",
   "metadata": {},
   "outputs": [],
   "source": [
    "# Loading the datasets:\n",
    "ipl_data1 = pd.read_csv(\"ipl_data.csv\")\n",
    "ipl_data2 = pd.read_csv(\"deliveries.csv\")\n",
    "match_data = pd.read_csv(\"matches.csv\")"
   ]
  },
  {
   "cell_type": "markdown",
   "id": "28da67ea",
   "metadata": {},
   "source": [
    "In this project we will make use of all the 3 datasets for analyzing the history of matches played in IPL from season 2008-2020 (13 seasons).\n",
    "\n",
    "**Note:-** *ipl_data.csv* has ball-by-ball data ranging from 2008 to 2020 (13)seasons. Whereas, *deliveries.csv* and *matches.csv* consists of information for 2008 to 2016 (9)seasons.  "
   ]
  },
  {
   "cell_type": "code",
   "execution_count": 3,
   "id": "f42afc1e",
   "metadata": {
    "collapsed": true
   },
   "outputs": [
    {
     "data": {
      "text/html": [
       "<div>\n",
       "<style scoped>\n",
       "    .dataframe tbody tr th:only-of-type {\n",
       "        vertical-align: middle;\n",
       "    }\n",
       "\n",
       "    .dataframe tbody tr th {\n",
       "        vertical-align: top;\n",
       "    }\n",
       "\n",
       "    .dataframe thead th {\n",
       "        text-align: right;\n",
       "    }\n",
       "</style>\n",
       "<table border=\"1\" class=\"dataframe\">\n",
       "  <thead>\n",
       "    <tr style=\"text-align: right;\">\n",
       "      <th></th>\n",
       "      <th>match_id</th>\n",
       "      <th>season</th>\n",
       "      <th>start_date</th>\n",
       "      <th>venue</th>\n",
       "      <th>innings</th>\n",
       "      <th>ball</th>\n",
       "      <th>batting_team</th>\n",
       "      <th>bowling_team</th>\n",
       "      <th>striker</th>\n",
       "      <th>non_striker</th>\n",
       "      <th>...</th>\n",
       "      <th>runs_off_bat</th>\n",
       "      <th>extras</th>\n",
       "      <th>wides</th>\n",
       "      <th>noballs</th>\n",
       "      <th>byes</th>\n",
       "      <th>legbyes</th>\n",
       "      <th>wicket_type</th>\n",
       "      <th>player_dismissed</th>\n",
       "      <th>run</th>\n",
       "      <th>over</th>\n",
       "    </tr>\n",
       "  </thead>\n",
       "  <tbody>\n",
       "    <tr>\n",
       "      <th>0</th>\n",
       "      <td>335982</td>\n",
       "      <td>2008</td>\n",
       "      <td>2008-04-18</td>\n",
       "      <td>M.Chinnaswamy Stadium</td>\n",
       "      <td>1</td>\n",
       "      <td>0.1</td>\n",
       "      <td>Kolkata Knight Riders</td>\n",
       "      <td>Royal Challengers Bangalore</td>\n",
       "      <td>SC Ganguly</td>\n",
       "      <td>BB McCullum</td>\n",
       "      <td>...</td>\n",
       "      <td>0</td>\n",
       "      <td>1</td>\n",
       "      <td>0.0</td>\n",
       "      <td>0.0</td>\n",
       "      <td>0.0</td>\n",
       "      <td>1.0</td>\n",
       "      <td></td>\n",
       "      <td></td>\n",
       "      <td>1</td>\n",
       "      <td>0</td>\n",
       "    </tr>\n",
       "    <tr>\n",
       "      <th>1</th>\n",
       "      <td>335982</td>\n",
       "      <td>2008</td>\n",
       "      <td>2008-04-18</td>\n",
       "      <td>M.Chinnaswamy Stadium</td>\n",
       "      <td>1</td>\n",
       "      <td>0.2</td>\n",
       "      <td>Kolkata Knight Riders</td>\n",
       "      <td>Royal Challengers Bangalore</td>\n",
       "      <td>BB McCullum</td>\n",
       "      <td>SC Ganguly</td>\n",
       "      <td>...</td>\n",
       "      <td>0</td>\n",
       "      <td>0</td>\n",
       "      <td>0.0</td>\n",
       "      <td>0.0</td>\n",
       "      <td>0.0</td>\n",
       "      <td>0.0</td>\n",
       "      <td></td>\n",
       "      <td></td>\n",
       "      <td>0</td>\n",
       "      <td>0</td>\n",
       "    </tr>\n",
       "    <tr>\n",
       "      <th>2</th>\n",
       "      <td>335982</td>\n",
       "      <td>2008</td>\n",
       "      <td>2008-04-18</td>\n",
       "      <td>M.Chinnaswamy Stadium</td>\n",
       "      <td>1</td>\n",
       "      <td>0.3</td>\n",
       "      <td>Kolkata Knight Riders</td>\n",
       "      <td>Royal Challengers Bangalore</td>\n",
       "      <td>BB McCullum</td>\n",
       "      <td>SC Ganguly</td>\n",
       "      <td>...</td>\n",
       "      <td>0</td>\n",
       "      <td>1</td>\n",
       "      <td>1.0</td>\n",
       "      <td>0.0</td>\n",
       "      <td>0.0</td>\n",
       "      <td>0.0</td>\n",
       "      <td></td>\n",
       "      <td></td>\n",
       "      <td>1</td>\n",
       "      <td>0</td>\n",
       "    </tr>\n",
       "  </tbody>\n",
       "</table>\n",
       "<p>3 rows × 21 columns</p>\n",
       "</div>"
      ],
      "text/plain": [
       "   match_id  season  start_date                  venue  innings  ball  \\\n",
       "0    335982    2008  2008-04-18  M.Chinnaswamy Stadium        1   0.1   \n",
       "1    335982    2008  2008-04-18  M.Chinnaswamy Stadium        1   0.2   \n",
       "2    335982    2008  2008-04-18  M.Chinnaswamy Stadium        1   0.3   \n",
       "\n",
       "            batting_team                 bowling_team      striker  \\\n",
       "0  Kolkata Knight Riders  Royal Challengers Bangalore   SC Ganguly   \n",
       "1  Kolkata Knight Riders  Royal Challengers Bangalore  BB McCullum   \n",
       "2  Kolkata Knight Riders  Royal Challengers Bangalore  BB McCullum   \n",
       "\n",
       "   non_striker  ... runs_off_bat  extras  wides  noballs  byes  legbyes  \\\n",
       "0  BB McCullum  ...            0       1    0.0      0.0   0.0      1.0   \n",
       "1   SC Ganguly  ...            0       0    0.0      0.0   0.0      0.0   \n",
       "2   SC Ganguly  ...            0       1    1.0      0.0   0.0      0.0   \n",
       "\n",
       "   wicket_type player_dismissed run  over  \n",
       "0                                 1     0  \n",
       "1                                 0     0  \n",
       "2                                 1     0  \n",
       "\n",
       "[3 rows x 21 columns]"
      ]
     },
     "execution_count": 3,
     "metadata": {},
     "output_type": "execute_result"
    }
   ],
   "source": [
    "ipl_data1.head(3)"
   ]
  },
  {
   "cell_type": "code",
   "execution_count": 4,
   "id": "e3dc052a",
   "metadata": {},
   "outputs": [
    {
     "data": {
      "text/plain": [
       "Index(['match_id', 'season', 'start_date', 'venue', 'innings', 'ball',\n",
       "       'batting_team', 'bowling_team', 'striker', 'non_striker', 'bowler',\n",
       "       'runs_off_bat', 'extras', 'wides', 'noballs', 'byes', 'legbyes',\n",
       "       'wicket_type', 'player_dismissed', 'run', 'over'],\n",
       "      dtype='object')"
      ]
     },
     "execution_count": 4,
     "metadata": {},
     "output_type": "execute_result"
    }
   ],
   "source": [
    "ipl_data1.columns"
   ]
  },
  {
   "cell_type": "code",
   "execution_count": 5,
   "id": "984c0b52",
   "metadata": {
    "collapsed": true
   },
   "outputs": [
    {
     "name": "stdout",
     "output_type": "stream",
     "text": [
      "<class 'pandas.core.frame.DataFrame'>\n",
      "RangeIndex: 194354 entries, 0 to 194353\n",
      "Data columns (total 21 columns):\n",
      " #   Column            Non-Null Count   Dtype  \n",
      "---  ------            --------------   -----  \n",
      " 0   match_id          194354 non-null  int64  \n",
      " 1   season            194354 non-null  int64  \n",
      " 2   start_date        194354 non-null  object \n",
      " 3   venue             194354 non-null  object \n",
      " 4   innings           194354 non-null  int64  \n",
      " 5   ball              194354 non-null  float64\n",
      " 6   batting_team      194354 non-null  object \n",
      " 7   bowling_team      194354 non-null  object \n",
      " 8   striker           194354 non-null  object \n",
      " 9   non_striker       194354 non-null  object \n",
      " 10  bowler            194354 non-null  object \n",
      " 11  runs_off_bat      194354 non-null  int64  \n",
      " 12  extras            194354 non-null  int64  \n",
      " 13  wides             194354 non-null  float64\n",
      " 14  noballs           194354 non-null  float64\n",
      " 15  byes              194354 non-null  float64\n",
      " 16  legbyes           194354 non-null  float64\n",
      " 17  wicket_type       194354 non-null  object \n",
      " 18  player_dismissed  194354 non-null  object \n",
      " 19  run               194354 non-null  int64  \n",
      " 20  over              194354 non-null  int64  \n",
      "dtypes: float64(5), int64(7), object(9)\n",
      "memory usage: 31.1+ MB\n"
     ]
    }
   ],
   "source": [
    "ipl_data1.info()"
   ]
  },
  {
   "cell_type": "code",
   "execution_count": 6,
   "id": "ea04ede6",
   "metadata": {
    "collapsed": true
   },
   "outputs": [
    {
     "data": {
      "text/plain": [
       "match_id            0\n",
       "season              0\n",
       "start_date          0\n",
       "venue               0\n",
       "innings             0\n",
       "ball                0\n",
       "batting_team        0\n",
       "bowling_team        0\n",
       "striker             0\n",
       "non_striker         0\n",
       "bowler              0\n",
       "runs_off_bat        0\n",
       "extras              0\n",
       "wides               0\n",
       "noballs             0\n",
       "byes                0\n",
       "legbyes             0\n",
       "wicket_type         0\n",
       "player_dismissed    0\n",
       "run                 0\n",
       "over                0\n",
       "dtype: int64"
      ]
     },
     "execution_count": 6,
     "metadata": {},
     "output_type": "execute_result"
    }
   ],
   "source": [
    "ipl_data1.isnull().sum()"
   ]
  },
  {
   "cell_type": "code",
   "execution_count": 7,
   "id": "8255f832",
   "metadata": {
    "collapsed": true
   },
   "outputs": [
    {
     "data": {
      "text/html": [
       "<div>\n",
       "<style scoped>\n",
       "    .dataframe tbody tr th:only-of-type {\n",
       "        vertical-align: middle;\n",
       "    }\n",
       "\n",
       "    .dataframe tbody tr th {\n",
       "        vertical-align: top;\n",
       "    }\n",
       "\n",
       "    .dataframe thead th {\n",
       "        text-align: right;\n",
       "    }\n",
       "</style>\n",
       "<table border=\"1\" class=\"dataframe\">\n",
       "  <thead>\n",
       "    <tr style=\"text-align: right;\">\n",
       "      <th></th>\n",
       "      <th>match_id</th>\n",
       "      <th>inning</th>\n",
       "      <th>batting_team</th>\n",
       "      <th>bowling_team</th>\n",
       "      <th>over</th>\n",
       "      <th>ball</th>\n",
       "      <th>batsman</th>\n",
       "      <th>non_striker</th>\n",
       "      <th>bowler</th>\n",
       "      <th>is_super_over</th>\n",
       "      <th>...</th>\n",
       "      <th>bye_runs</th>\n",
       "      <th>legbye_runs</th>\n",
       "      <th>noball_runs</th>\n",
       "      <th>penalty_runs</th>\n",
       "      <th>batsman_runs</th>\n",
       "      <th>extra_runs</th>\n",
       "      <th>total_runs</th>\n",
       "      <th>player_dismissed</th>\n",
       "      <th>dismissal_kind</th>\n",
       "      <th>fielder</th>\n",
       "    </tr>\n",
       "  </thead>\n",
       "  <tbody>\n",
       "    <tr>\n",
       "      <th>0</th>\n",
       "      <td>1</td>\n",
       "      <td>1</td>\n",
       "      <td>Sunrisers Hyderabad</td>\n",
       "      <td>Royal Challengers Bangalore</td>\n",
       "      <td>1</td>\n",
       "      <td>1</td>\n",
       "      <td>DA Warner</td>\n",
       "      <td>S Dhawan</td>\n",
       "      <td>TS Mills</td>\n",
       "      <td>0</td>\n",
       "      <td>...</td>\n",
       "      <td>0</td>\n",
       "      <td>0</td>\n",
       "      <td>0</td>\n",
       "      <td>0</td>\n",
       "      <td>0</td>\n",
       "      <td>0</td>\n",
       "      <td>0</td>\n",
       "      <td>NaN</td>\n",
       "      <td>NaN</td>\n",
       "      <td>NaN</td>\n",
       "    </tr>\n",
       "    <tr>\n",
       "      <th>1</th>\n",
       "      <td>1</td>\n",
       "      <td>1</td>\n",
       "      <td>Sunrisers Hyderabad</td>\n",
       "      <td>Royal Challengers Bangalore</td>\n",
       "      <td>1</td>\n",
       "      <td>2</td>\n",
       "      <td>DA Warner</td>\n",
       "      <td>S Dhawan</td>\n",
       "      <td>TS Mills</td>\n",
       "      <td>0</td>\n",
       "      <td>...</td>\n",
       "      <td>0</td>\n",
       "      <td>0</td>\n",
       "      <td>0</td>\n",
       "      <td>0</td>\n",
       "      <td>0</td>\n",
       "      <td>0</td>\n",
       "      <td>0</td>\n",
       "      <td>NaN</td>\n",
       "      <td>NaN</td>\n",
       "      <td>NaN</td>\n",
       "    </tr>\n",
       "    <tr>\n",
       "      <th>2</th>\n",
       "      <td>1</td>\n",
       "      <td>1</td>\n",
       "      <td>Sunrisers Hyderabad</td>\n",
       "      <td>Royal Challengers Bangalore</td>\n",
       "      <td>1</td>\n",
       "      <td>3</td>\n",
       "      <td>DA Warner</td>\n",
       "      <td>S Dhawan</td>\n",
       "      <td>TS Mills</td>\n",
       "      <td>0</td>\n",
       "      <td>...</td>\n",
       "      <td>0</td>\n",
       "      <td>0</td>\n",
       "      <td>0</td>\n",
       "      <td>0</td>\n",
       "      <td>4</td>\n",
       "      <td>0</td>\n",
       "      <td>4</td>\n",
       "      <td>NaN</td>\n",
       "      <td>NaN</td>\n",
       "      <td>NaN</td>\n",
       "    </tr>\n",
       "  </tbody>\n",
       "</table>\n",
       "<p>3 rows × 21 columns</p>\n",
       "</div>"
      ],
      "text/plain": [
       "   match_id  inning         batting_team                 bowling_team  over  \\\n",
       "0         1       1  Sunrisers Hyderabad  Royal Challengers Bangalore     1   \n",
       "1         1       1  Sunrisers Hyderabad  Royal Challengers Bangalore     1   \n",
       "2         1       1  Sunrisers Hyderabad  Royal Challengers Bangalore     1   \n",
       "\n",
       "   ball    batsman non_striker    bowler  is_super_over  ...  bye_runs  \\\n",
       "0     1  DA Warner    S Dhawan  TS Mills              0  ...         0   \n",
       "1     2  DA Warner    S Dhawan  TS Mills              0  ...         0   \n",
       "2     3  DA Warner    S Dhawan  TS Mills              0  ...         0   \n",
       "\n",
       "   legbye_runs  noball_runs  penalty_runs  batsman_runs  extra_runs  \\\n",
       "0            0            0             0             0           0   \n",
       "1            0            0             0             0           0   \n",
       "2            0            0             0             4           0   \n",
       "\n",
       "   total_runs  player_dismissed dismissal_kind fielder  \n",
       "0           0               NaN            NaN     NaN  \n",
       "1           0               NaN            NaN     NaN  \n",
       "2           4               NaN            NaN     NaN  \n",
       "\n",
       "[3 rows x 21 columns]"
      ]
     },
     "execution_count": 7,
     "metadata": {},
     "output_type": "execute_result"
    }
   ],
   "source": [
    "ipl_data2.head(3)"
   ]
  },
  {
   "cell_type": "code",
   "execution_count": 8,
   "id": "9cf1ec7c",
   "metadata": {
    "collapsed": true
   },
   "outputs": [
    {
     "data": {
      "text/plain": [
       "Index(['match_id', 'inning', 'batting_team', 'bowling_team', 'over', 'ball',\n",
       "       'batsman', 'non_striker', 'bowler', 'is_super_over', 'wide_runs',\n",
       "       'bye_runs', 'legbye_runs', 'noball_runs', 'penalty_runs',\n",
       "       'batsman_runs', 'extra_runs', 'total_runs', 'player_dismissed',\n",
       "       'dismissal_kind', 'fielder'],\n",
       "      dtype='object')"
      ]
     },
     "execution_count": 8,
     "metadata": {},
     "output_type": "execute_result"
    }
   ],
   "source": [
    "ipl_data2.columns"
   ]
  },
  {
   "cell_type": "code",
   "execution_count": 9,
   "id": "44262671",
   "metadata": {
    "collapsed": true
   },
   "outputs": [
    {
     "name": "stdout",
     "output_type": "stream",
     "text": [
      "<class 'pandas.core.frame.DataFrame'>\n",
      "RangeIndex: 150460 entries, 0 to 150459\n",
      "Data columns (total 21 columns):\n",
      " #   Column            Non-Null Count   Dtype \n",
      "---  ------            --------------   ----- \n",
      " 0   match_id          150460 non-null  int64 \n",
      " 1   inning            150460 non-null  int64 \n",
      " 2   batting_team      150460 non-null  object\n",
      " 3   bowling_team      150460 non-null  object\n",
      " 4   over              150460 non-null  int64 \n",
      " 5   ball              150460 non-null  int64 \n",
      " 6   batsman           150460 non-null  object\n",
      " 7   non_striker       150460 non-null  object\n",
      " 8   bowler            150460 non-null  object\n",
      " 9   is_super_over     150460 non-null  int64 \n",
      " 10  wide_runs         150460 non-null  int64 \n",
      " 11  bye_runs          150460 non-null  int64 \n",
      " 12  legbye_runs       150460 non-null  int64 \n",
      " 13  noball_runs       150460 non-null  int64 \n",
      " 14  penalty_runs      150460 non-null  int64 \n",
      " 15  batsman_runs      150460 non-null  int64 \n",
      " 16  extra_runs        150460 non-null  int64 \n",
      " 17  total_runs        150460 non-null  int64 \n",
      " 18  player_dismissed  7438 non-null    object\n",
      " 19  dismissal_kind    7438 non-null    object\n",
      " 20  fielder           5369 non-null    object\n",
      "dtypes: int64(13), object(8)\n",
      "memory usage: 24.1+ MB\n"
     ]
    }
   ],
   "source": [
    "ipl_data2.info()"
   ]
  },
  {
   "cell_type": "code",
   "execution_count": 10,
   "id": "16265ab1",
   "metadata": {
    "collapsed": true
   },
   "outputs": [
    {
     "data": {
      "text/plain": [
       "match_id                 0\n",
       "inning                   0\n",
       "batting_team             0\n",
       "bowling_team             0\n",
       "over                     0\n",
       "ball                     0\n",
       "batsman                  0\n",
       "non_striker              0\n",
       "bowler                   0\n",
       "is_super_over            0\n",
       "wide_runs                0\n",
       "bye_runs                 0\n",
       "legbye_runs              0\n",
       "noball_runs              0\n",
       "penalty_runs             0\n",
       "batsman_runs             0\n",
       "extra_runs               0\n",
       "total_runs               0\n",
       "player_dismissed    143022\n",
       "dismissal_kind      143022\n",
       "fielder             145091\n",
       "dtype: int64"
      ]
     },
     "execution_count": 10,
     "metadata": {},
     "output_type": "execute_result"
    }
   ],
   "source": [
    "ipl_data2.isnull().sum()"
   ]
  },
  {
   "cell_type": "code",
   "execution_count": 11,
   "id": "320d89ba",
   "metadata": {
    "collapsed": true
   },
   "outputs": [
    {
     "data": {
      "text/html": [
       "<div>\n",
       "<style scoped>\n",
       "    .dataframe tbody tr th:only-of-type {\n",
       "        vertical-align: middle;\n",
       "    }\n",
       "\n",
       "    .dataframe tbody tr th {\n",
       "        vertical-align: top;\n",
       "    }\n",
       "\n",
       "    .dataframe thead th {\n",
       "        text-align: right;\n",
       "    }\n",
       "</style>\n",
       "<table border=\"1\" class=\"dataframe\">\n",
       "  <thead>\n",
       "    <tr style=\"text-align: right;\">\n",
       "      <th></th>\n",
       "      <th>id</th>\n",
       "      <th>season</th>\n",
       "      <th>city</th>\n",
       "      <th>date</th>\n",
       "      <th>team1</th>\n",
       "      <th>team2</th>\n",
       "      <th>toss_winner</th>\n",
       "      <th>toss_decision</th>\n",
       "      <th>result</th>\n",
       "      <th>dl_applied</th>\n",
       "      <th>winner</th>\n",
       "      <th>win_by_runs</th>\n",
       "      <th>win_by_wickets</th>\n",
       "      <th>player_of_match</th>\n",
       "      <th>venue</th>\n",
       "      <th>umpire1</th>\n",
       "      <th>umpire2</th>\n",
       "      <th>umpire3</th>\n",
       "    </tr>\n",
       "  </thead>\n",
       "  <tbody>\n",
       "    <tr>\n",
       "      <th>0</th>\n",
       "      <td>1</td>\n",
       "      <td>2017</td>\n",
       "      <td>Hyderabad</td>\n",
       "      <td>2017-04-05</td>\n",
       "      <td>Sunrisers Hyderabad</td>\n",
       "      <td>Royal Challengers Bangalore</td>\n",
       "      <td>Royal Challengers Bangalore</td>\n",
       "      <td>field</td>\n",
       "      <td>normal</td>\n",
       "      <td>0</td>\n",
       "      <td>Sunrisers Hyderabad</td>\n",
       "      <td>35</td>\n",
       "      <td>0</td>\n",
       "      <td>Yuvraj Singh</td>\n",
       "      <td>Rajiv Gandhi International Stadium, Uppal</td>\n",
       "      <td>AY Dandekar</td>\n",
       "      <td>NJ Llong</td>\n",
       "      <td>NaN</td>\n",
       "    </tr>\n",
       "    <tr>\n",
       "      <th>1</th>\n",
       "      <td>2</td>\n",
       "      <td>2017</td>\n",
       "      <td>Pune</td>\n",
       "      <td>2017-04-06</td>\n",
       "      <td>Mumbai Indians</td>\n",
       "      <td>Rising Pune Supergiant</td>\n",
       "      <td>Rising Pune Supergiant</td>\n",
       "      <td>field</td>\n",
       "      <td>normal</td>\n",
       "      <td>0</td>\n",
       "      <td>Rising Pune Supergiant</td>\n",
       "      <td>0</td>\n",
       "      <td>7</td>\n",
       "      <td>SPD Smith</td>\n",
       "      <td>Maharashtra Cricket Association Stadium</td>\n",
       "      <td>A Nand Kishore</td>\n",
       "      <td>S Ravi</td>\n",
       "      <td>NaN</td>\n",
       "    </tr>\n",
       "    <tr>\n",
       "      <th>2</th>\n",
       "      <td>3</td>\n",
       "      <td>2017</td>\n",
       "      <td>Rajkot</td>\n",
       "      <td>2017-04-07</td>\n",
       "      <td>Gujarat Lions</td>\n",
       "      <td>Kolkata Knight Riders</td>\n",
       "      <td>Kolkata Knight Riders</td>\n",
       "      <td>field</td>\n",
       "      <td>normal</td>\n",
       "      <td>0</td>\n",
       "      <td>Kolkata Knight Riders</td>\n",
       "      <td>0</td>\n",
       "      <td>10</td>\n",
       "      <td>CA Lynn</td>\n",
       "      <td>Saurashtra Cricket Association Stadium</td>\n",
       "      <td>Nitin Menon</td>\n",
       "      <td>CK Nandan</td>\n",
       "      <td>NaN</td>\n",
       "    </tr>\n",
       "  </tbody>\n",
       "</table>\n",
       "</div>"
      ],
      "text/plain": [
       "   id  season       city        date                team1  \\\n",
       "0   1    2017  Hyderabad  2017-04-05  Sunrisers Hyderabad   \n",
       "1   2    2017       Pune  2017-04-06       Mumbai Indians   \n",
       "2   3    2017     Rajkot  2017-04-07        Gujarat Lions   \n",
       "\n",
       "                         team2                  toss_winner toss_decision  \\\n",
       "0  Royal Challengers Bangalore  Royal Challengers Bangalore         field   \n",
       "1       Rising Pune Supergiant       Rising Pune Supergiant         field   \n",
       "2        Kolkata Knight Riders        Kolkata Knight Riders         field   \n",
       "\n",
       "   result  dl_applied                  winner  win_by_runs  win_by_wickets  \\\n",
       "0  normal           0     Sunrisers Hyderabad           35               0   \n",
       "1  normal           0  Rising Pune Supergiant            0               7   \n",
       "2  normal           0   Kolkata Knight Riders            0              10   \n",
       "\n",
       "  player_of_match                                      venue         umpire1  \\\n",
       "0    Yuvraj Singh  Rajiv Gandhi International Stadium, Uppal     AY Dandekar   \n",
       "1       SPD Smith    Maharashtra Cricket Association Stadium  A Nand Kishore   \n",
       "2         CA Lynn     Saurashtra Cricket Association Stadium     Nitin Menon   \n",
       "\n",
       "     umpire2  umpire3  \n",
       "0   NJ Llong      NaN  \n",
       "1     S Ravi      NaN  \n",
       "2  CK Nandan      NaN  "
      ]
     },
     "execution_count": 11,
     "metadata": {},
     "output_type": "execute_result"
    }
   ],
   "source": [
    "match_data.head(3)"
   ]
  },
  {
   "cell_type": "code",
   "execution_count": 12,
   "id": "de65ecf5",
   "metadata": {},
   "outputs": [
    {
     "data": {
      "text/plain": [
       "Index(['id', 'season', 'city', 'date', 'team1', 'team2', 'toss_winner',\n",
       "       'toss_decision', 'result', 'dl_applied', 'winner', 'win_by_runs',\n",
       "       'win_by_wickets', 'player_of_match', 'venue', 'umpire1', 'umpire2',\n",
       "       'umpire3'],\n",
       "      dtype='object')"
      ]
     },
     "execution_count": 12,
     "metadata": {},
     "output_type": "execute_result"
    }
   ],
   "source": [
    "match_data.columns"
   ]
  },
  {
   "cell_type": "code",
   "execution_count": 13,
   "id": "b28252aa",
   "metadata": {
    "collapsed": true
   },
   "outputs": [
    {
     "name": "stdout",
     "output_type": "stream",
     "text": [
      "<class 'pandas.core.frame.DataFrame'>\n",
      "RangeIndex: 636 entries, 0 to 635\n",
      "Data columns (total 18 columns):\n",
      " #   Column           Non-Null Count  Dtype  \n",
      "---  ------           --------------  -----  \n",
      " 0   id               636 non-null    int64  \n",
      " 1   season           636 non-null    int64  \n",
      " 2   city             629 non-null    object \n",
      " 3   date             636 non-null    object \n",
      " 4   team1            636 non-null    object \n",
      " 5   team2            636 non-null    object \n",
      " 6   toss_winner      636 non-null    object \n",
      " 7   toss_decision    636 non-null    object \n",
      " 8   result           636 non-null    object \n",
      " 9   dl_applied       636 non-null    int64  \n",
      " 10  winner           633 non-null    object \n",
      " 11  win_by_runs      636 non-null    int64  \n",
      " 12  win_by_wickets   636 non-null    int64  \n",
      " 13  player_of_match  633 non-null    object \n",
      " 14  venue            636 non-null    object \n",
      " 15  umpire1          635 non-null    object \n",
      " 16  umpire2          635 non-null    object \n",
      " 17  umpire3          0 non-null      float64\n",
      "dtypes: float64(1), int64(5), object(12)\n",
      "memory usage: 89.6+ KB\n"
     ]
    }
   ],
   "source": [
    "match_data.info()"
   ]
  },
  {
   "cell_type": "code",
   "execution_count": 14,
   "id": "bfb74317",
   "metadata": {
    "collapsed": true
   },
   "outputs": [
    {
     "data": {
      "text/plain": [
       "id                   0\n",
       "season               0\n",
       "city                 7\n",
       "date                 0\n",
       "team1                0\n",
       "team2                0\n",
       "toss_winner          0\n",
       "toss_decision        0\n",
       "result               0\n",
       "dl_applied           0\n",
       "winner               3\n",
       "win_by_runs          0\n",
       "win_by_wickets       0\n",
       "player_of_match      3\n",
       "venue                0\n",
       "umpire1              1\n",
       "umpire2              1\n",
       "umpire3            636\n",
       "dtype: int64"
      ]
     },
     "execution_count": 14,
     "metadata": {},
     "output_type": "execute_result"
    }
   ],
   "source": [
    "match_data.isnull().sum()"
   ]
  },
  {
   "cell_type": "markdown",
   "id": "8482b933",
   "metadata": {},
   "source": [
    "Performing the above steps we got to know some of the details about the data. In the next step we will start our analysis part."
   ]
  },
  {
   "cell_type": "markdown",
   "id": "225aa489",
   "metadata": {},
   "source": [
    "**1. When and where was the first IPL match played? Also, which were the two teams competing against each other?**"
   ]
  },
  {
   "cell_type": "markdown",
   "id": "343f3ceb",
   "metadata": {},
   "source": [
    "To answer this question, we will use the *ipl_data1* dataset which contains the ball-by-ball information of all the matches played between 2008-2020 and some matches of 2021 (season 14)."
   ]
  },
  {
   "cell_type": "code",
   "execution_count": 15,
   "id": "69a2cad8",
   "metadata": {},
   "outputs": [
    {
     "data": {
      "text/plain": [
       "match_id                                 335982\n",
       "season                                     2008\n",
       "start_date                           2008-04-18\n",
       "venue                     M.Chinnaswamy Stadium\n",
       "innings                                       1\n",
       "ball                                        0.1\n",
       "batting_team              Kolkata Knight Riders\n",
       "bowling_team        Royal Challengers Bangalore\n",
       "striker                              SC Ganguly\n",
       "non_striker                         BB McCullum\n",
       "bowler                                  P Kumar\n",
       "runs_off_bat                                  0\n",
       "extras                                        1\n",
       "wides                                       0.0\n",
       "noballs                                     0.0\n",
       "byes                                        0.0\n",
       "legbyes                                     1.0\n",
       "wicket_type                                    \n",
       "player_dismissed                               \n",
       "run                                           1\n",
       "over                                          0\n",
       "Name: 0, dtype: object"
      ]
     },
     "execution_count": 15,
     "metadata": {},
     "output_type": "execute_result"
    }
   ],
   "source": [
    "ipl_data1.iloc[0]     # First instance (row) of the dataset."
   ]
  },
  {
   "cell_type": "markdown",
   "id": "b2659897",
   "metadata": {},
   "source": [
    "So the first ever IPL match was played on **2008-04-18** at **M.Chinnaswamy Stadium** between **Kolkata Knight Riders** and **The Royal Challengers Bangalore**."
   ]
  },
  {
   "cell_type": "code",
   "execution_count": 16,
   "id": "5ca9f56e",
   "metadata": {},
   "outputs": [
    {
     "data": {
      "text/plain": [
       "array([2008, 2009, 2010, 2011, 2012, 2013, 2014, 2015, 2016, 2017, 2019,\n",
       "       2018, 2020, 2021], dtype=int64)"
      ]
     },
     "execution_count": 16,
     "metadata": {},
     "output_type": "execute_result"
    }
   ],
   "source": [
    "ipl_data1.season.unique()        # List of seasons"
   ]
  },
  {
   "cell_type": "markdown",
   "id": "15c4b47b",
   "metadata": {},
   "source": [
    "We have access to data from 2008 to 2021"
   ]
  },
  {
   "cell_type": "markdown",
   "id": "ebc3b90a",
   "metadata": {},
   "source": [
    "**2. What is the number of matches played in each season of IPL history? Mention the year when maximum number of matches were played.**"
   ]
  },
  {
   "cell_type": "code",
   "execution_count": 92,
   "id": "07489731",
   "metadata": {},
   "outputs": [],
   "source": [
    "data = ipl_data1.groupby(['match_id','season']).count().index.droplevel(level=0).value_counts().sort_index()"
   ]
  },
  {
   "cell_type": "code",
   "execution_count": 93,
   "id": "5683294a",
   "metadata": {
    "scrolled": true
   },
   "outputs": [
    {
     "data": {
      "text/plain": [
       "2008    58\n",
       "2009    57\n",
       "2010    60\n",
       "2011    73\n",
       "2012    74\n",
       "2013    76\n",
       "2014    60\n",
       "2015    59\n",
       "2016    60\n",
       "2017    59\n",
       "2018    60\n",
       "2019    60\n",
       "2020    60\n",
       "2021     3\n",
       "Name: season, dtype: int64"
      ]
     },
     "execution_count": 93,
     "metadata": {},
     "output_type": "execute_result"
    }
   ],
   "source": [
    "data"
   ]
  },
  {
   "cell_type": "code",
   "execution_count": 94,
   "id": "73ab6c66",
   "metadata": {
    "scrolled": true
   },
   "outputs": [
    {
     "data": {
      "text/plain": [
       "76"
      ]
     },
     "execution_count": 94,
     "metadata": {},
     "output_type": "execute_result"
    }
   ],
   "source": [
    "data.max()"
   ]
  },
  {
   "cell_type": "code",
   "execution_count": 95,
   "id": "c0deec53",
   "metadata": {
    "scrolled": true
   },
   "outputs": [
    {
     "data": {
      "text/plain": [
       "2013"
      ]
     },
     "execution_count": 95,
     "metadata": {},
     "output_type": "execute_result"
    }
   ],
   "source": [
    "data.idxmax()"
   ]
  },
  {
   "cell_type": "code",
   "execution_count": 96,
   "id": "4a448712",
   "metadata": {},
   "outputs": [
    {
     "data": {
      "image/png": "[encoded data removed]",
      "text/plain": [
       "<Figure size 720x576 with 1 Axes>"
      ]
     },
     "metadata": {
      "needs_background": "light"
     },
     "output_type": "display_data"
    }
   ],
   "source": [
    "# Let's visualize this data:\n",
    "plt.figure(figsize=(10,8))\n",
    "sns.barplot(y=data.index,x=data,orient='h')\n",
    "plt.xlabel('Matches Played')\n",
    "plt.ylabel('Season')\n",
    "plt.show()"
   ]
  },
  {
   "cell_type": "markdown",
   "id": "e476a03e",
   "metadata": {},
   "source": [
    "Clearly, IPL season 2013 had the most (76) number of matches."
   ]
  },
  {
   "cell_type": "markdown",
   "id": "d607112c",
   "metadata": {},
   "source": [
    "**3. How many different venues have been used for playing IPL uptill now?**"
   ]
  },
  {
   "cell_type": "code",
   "execution_count": 22,
   "id": "438b9557",
   "metadata": {},
   "outputs": [
    {
     "data": {
      "text/plain": [
       "34"
      ]
     },
     "execution_count": 22,
     "metadata": {},
     "output_type": "execute_result"
    }
   ],
   "source": [
    "ipl_data1.venue.nunique()"
   ]
  },
  {
   "cell_type": "markdown",
   "id": "7fea929d",
   "metadata": {},
   "source": [
    "**4. List top 10 venues, where most of the matches were played.**"
   ]
  },
  {
   "cell_type": "code",
   "execution_count": 23,
   "id": "3a23d375",
   "metadata": {},
   "outputs": [
    {
     "data": {
      "text/plain": [
       "M.Chinnaswamy Stadium                                   80\n",
       "Eden Gardens                                            77\n",
       "Arun Jaitley Stadium                                    74\n",
       "Wankhede Stadium, Mumbai                                74\n",
       "Rajiv Gandhi International Stadium, Uppal               64\n",
       "MA Chidambaram Stadium, Chepauk, Chennai                59\n",
       "Punjab Cricket Association IS Bindra Stadium, Mohali    56\n",
       "Sawai Mansingh Stadium                                  47\n",
       "Dubai International Cricket Stadium                     33\n",
       "Sheikh Zayed Stadium                                    29\n",
       "Name: venue, dtype: int64"
      ]
     },
     "execution_count": 23,
     "metadata": {},
     "output_type": "execute_result"
    }
   ],
   "source": [
    "ipl_data1.groupby(['venue', 'match_id']).count().droplevel(level=1).index.value_counts()[:10]"
   ]
  },
  {
   "cell_type": "markdown",
   "id": "e37135a0",
   "metadata": {},
   "source": [
    "**5. Mention the names of all the IPL team franchise in the history of IPL.**"
   ]
  },
  {
   "cell_type": "code",
   "execution_count": 24,
   "id": "db9f488b",
   "metadata": {
    "scrolled": true
   },
   "outputs": [
    {
     "data": {
      "text/plain": [
       "array(['Kolkata Knight Riders', 'Royal Challengers Bangalore',\n",
       "       'Chennai Super Kings', 'Kings XI Punjab', 'Rajasthan Royals',\n",
       "       'Delhi Daredevils', 'Deccan Chargers', 'Mumbai Indians',\n",
       "       'Kochi Tuskers Kerala', 'Pune Warriors', 'Sunrisers Hyderabad',\n",
       "       'Rising Pune Supergiant', 'Gujarat Lions', 'Delhi Capitals'],\n",
       "      dtype=object)"
      ]
     },
     "execution_count": 24,
     "metadata": {},
     "output_type": "execute_result"
    }
   ],
   "source": [
    "ipl_data1.batting_team.unique()"
   ]
  },
  {
   "cell_type": "markdown",
   "id": "1572690b",
   "metadata": {},
   "source": [
    "**6. What is the number of matches played by each teams in IPL? Which team played the most number of matches in the IPL history?**"
   ]
  },
  {
   "cell_type": "code",
   "execution_count": 25,
   "id": "aecc1f4e",
   "metadata": {},
   "outputs": [
    {
     "data": {
      "image/png": "[encoded data removed]",
      "text/plain": [
       "<Figure size 720x576 with 1 Axes>"
      ]
     },
     "metadata": {
      "needs_background": "light"
     },
     "output_type": "display_data"
    }
   ],
   "source": [
    "plt.figure(figsize=(10,8))\n",
    "data = ipl_data1['bowling_team'].value_counts().sort_values(ascending=False)\n",
    "sns.barplot(y=data.index,x=data,orient='h')\n",
    "plt.xlabel('Matches Played')\n",
    "plt.ylabel('Team')\n",
    "plt.show()"
   ]
  },
  {
   "cell_type": "markdown",
   "id": "58e11664",
   "metadata": {},
   "source": [
    "Mumbai Indians (MI) followed by RCB and KKR have played the most number of matches."
   ]
  },
  {
   "cell_type": "markdown",
   "id": "86aa9a7d",
   "metadata": {},
   "source": [
    "**7. Which team has won the most number of tosses?**"
   ]
  },
  {
   "cell_type": "markdown",
   "id": "157855fd",
   "metadata": {},
   "source": [
    "To answer this question we will use the match_data dataset that consists of match details like toss_winner, toss_result, etc."
   ]
  },
  {
   "cell_type": "code",
   "execution_count": 26,
   "id": "cbe4a44b",
   "metadata": {},
   "outputs": [
    {
     "data": {
      "text/plain": [
       "Index(['id', 'season', 'city', 'date', 'team1', 'team2', 'toss_winner',\n",
       "       'toss_decision', 'result', 'dl_applied', 'winner', 'win_by_runs',\n",
       "       'win_by_wickets', 'player_of_match', 'venue', 'umpire1', 'umpire2',\n",
       "       'umpire3'],\n",
       "      dtype='object')"
      ]
     },
     "execution_count": 26,
     "metadata": {},
     "output_type": "execute_result"
    }
   ],
   "source": [
    "match_data.columns"
   ]
  },
  {
   "cell_type": "code",
   "execution_count": 27,
   "id": "55eb19fa",
   "metadata": {},
   "outputs": [
    {
     "data": {
      "text/plain": [
       "Mumbai Indians                 85\n",
       "Kolkata Knight Riders          78\n",
       "Delhi Daredevils               72\n",
       "Royal Challengers Bangalore    70\n",
       "Kings XI Punjab                68\n",
       "Chennai Super Kings            66\n",
       "Rajasthan Royals               63\n",
       "Deccan Chargers                43\n",
       "Sunrisers Hyderabad            35\n",
       "Pune Warriors                  20\n",
       "Gujarat Lions                  15\n",
       "Kochi Tuskers Kerala            8\n",
       "Rising Pune Supergiants         7\n",
       "Rising Pune Supergiant          6\n",
       "Name: toss_winner, dtype: int64"
      ]
     },
     "execution_count": 27,
     "metadata": {},
     "output_type": "execute_result"
    }
   ],
   "source": [
    "match_data[\"toss_winner\"].value_counts()"
   ]
  },
  {
   "cell_type": "markdown",
   "id": "154c5acc",
   "metadata": {},
   "source": [
    "Mumbai Indians are lucky enough to win most number of tosses between the season 2008-2016."
   ]
  },
  {
   "cell_type": "markdown",
   "id": "10334599",
   "metadata": {},
   "source": [
    "**8. What is the most prefered decision by the teams after winning the toss?**"
   ]
  },
  {
   "cell_type": "code",
   "execution_count": 28,
   "id": "c96abaec",
   "metadata": {},
   "outputs": [
    {
     "data": {
      "text/plain": [
       "<AxesSubplot:xlabel='toss_decision', ylabel='count'>"
      ]
     },
     "execution_count": 28,
     "metadata": {},
     "output_type": "execute_result"
    },
    {
     "data": {
      "image/png": "[encoded data removed]",
      "text/plain": [
       "<Figure size 360x216 with 1 Axes>"
      ]
     },
     "metadata": {
      "needs_background": "light"
     },
     "output_type": "display_data"
    }
   ],
   "source": [
    "plt.figure(figsize = (5,3))\n",
    "sns.countplot(x = match_data[\"toss_decision\"])"
   ]
  },
  {
   "cell_type": "markdown",
   "id": "8eed0e09",
   "metadata": {},
   "source": [
    "It seems like teams are comfortable chasing in majority of the cases."
   ]
  },
  {
   "cell_type": "markdown",
   "id": "55d72a39",
   "metadata": {},
   "source": [
    "**9. What are the total number of runs scored by Individuals teams?**"
   ]
  },
  {
   "cell_type": "code",
   "execution_count": 29,
   "id": "20a0aca2",
   "metadata": {
    "scrolled": true
   },
   "outputs": [
    {
     "data": {
      "text/plain": [
       "batting_team\n",
       "Mumbai Indians                 32488\n",
       "Royal Challengers Bangalore    30415\n",
       "Kings XI Punjab                30064\n",
       "Kolkata Knight Riders          29606\n",
       "Chennai Super Kings            28560\n",
       "Rajasthan Royals               24542\n",
       "Delhi Daredevils               24296\n",
       "Sunrisers Hyderabad            19539\n",
       "Deccan Chargers                11463\n",
       "Pune Warriors                   6358\n",
       "Delhi Capitals                  5499\n",
       "Gujarat Lions                   4862\n",
       "Rising Pune Supergiant          4533\n",
       "Kochi Tuskers Kerala            1901\n",
       "Name: run, dtype: int64"
      ]
     },
     "execution_count": 29,
     "metadata": {},
     "output_type": "execute_result"
    }
   ],
   "source": [
    "ipl_data1.groupby(['batting_team'])['run'].sum().sort_values(ascending=False)"
   ]
  },
  {
   "cell_type": "markdown",
   "id": "a1e9e50b",
   "metadata": {},
   "source": [
    "**10. Which team on an average have scored the most runs in powerplay?**"
   ]
  },
  {
   "cell_type": "code",
   "execution_count": 30,
   "id": "9e7f0598",
   "metadata": {},
   "outputs": [
    {
     "data": {
      "text/plain": [
       "batting_team\n",
       "Delhi Capitals                 48.176471\n",
       "Sunrisers Hyderabad            47.856000\n",
       "Rising Pune Supergiant         47.433333\n",
       "Kings XI Punjab                47.126316\n",
       "Kolkata Knight Riders          46.409326\n",
       "Delhi Daredevils               45.714286\n",
       "Deccan Chargers                45.560000\n",
       "Mumbai Indians                 45.529412\n",
       "Chennai Super Kings            45.195531\n",
       "Rajasthan Royals               44.912500\n",
       "Royal Challengers Bangalore    44.826531\n",
       "Pune Warriors                  42.111111\n",
       "Name: run, dtype: float64"
      ]
     },
     "execution_count": 30,
     "metadata": {},
     "output_type": "execute_result"
    }
   ],
   "source": [
    "ipl_data1[ipl_data1['over']<6].groupby(['match_id','batting_team']).sum()['run'].groupby('batting_team').mean().sort_values(ascending=False)[2:]"
   ]
  },
  {
   "cell_type": "markdown",
   "id": "7009471b",
   "metadata": {},
   "source": [
    "Delhi Capitals have performed better in powerplay in comparison with other franchise of IPL."
   ]
  },
  {
   "cell_type": "markdown",
   "id": "6e13b4fa",
   "metadata": {},
   "source": [
    "**11. Top 5 batsman who have scored the most number of runs in IPL?**"
   ]
  },
  {
   "cell_type": "code",
   "execution_count": 31,
   "id": "4f392450",
   "metadata": {},
   "outputs": [
    {
     "data": {
      "image/png": "[encoded data removed]",
      "text/plain": [
       "<Figure size 504x360 with 1 Axes>"
      ]
     },
     "metadata": {
      "needs_background": "light"
     },
     "output_type": "display_data"
    }
   ],
   "source": [
    "plt.figure(figsize=(7,5))\n",
    "data = ipl_data1.groupby(['striker'])['runs_off_bat'].sum().sort_values(ascending=False)[:5]\n",
    "sns.barplot(y=data.index,x=data, orient = 'h')\n",
    "plt.xlabel('Batsman')\n",
    "plt.ylabel('Runs')\n",
    "plt.show()"
   ]
  },
  {
   "cell_type": "markdown",
   "id": "622229d5",
   "metadata": {},
   "source": [
    "King Kohli has scored the most number of runs in IPL with close to 6000 runs. Followed him is Suresh Raina and the Gabbar, Shikhar Dhawan."
   ]
  },
  {
   "cell_type": "markdown",
   "id": "dcc68f9b",
   "metadata": {},
   "source": [
    "**12. Which player has scored the most number of centuries?**"
   ]
  },
  {
   "cell_type": "code",
   "execution_count": 32,
   "id": "942f529b",
   "metadata": {},
   "outputs": [
    {
     "data": {
      "text/plain": [
       "striker\n",
       "CH Gayle          6\n",
       "V Kohli           5\n",
       "DA Warner         4\n",
       "SR Watson         4\n",
       "AB de Villiers    3\n",
       "HM Amla           2\n",
       "M Vijay           2\n",
       "KL Rahul          2\n",
       "SV Samson         2\n",
       "S Dhawan          2\n",
       "Name: runs_off_bat, dtype: int64"
      ]
     },
     "execution_count": 32,
     "metadata": {},
     "output_type": "execute_result"
    }
   ],
   "source": [
    "runs = ipl_data1.groupby(['striker','match_id'])['runs_off_bat'].sum()\n",
    "runs[runs >= 100].droplevel(level=1).groupby('striker').count().sort_values(ascending=False)[:10]"
   ]
  },
  {
   "cell_type": "markdown",
   "id": "dce9389b",
   "metadata": {},
   "source": [
    "When talking about centuries, who can forget the universal boss, Chris Gayle."
   ]
  },
  {
   "cell_type": "markdown",
   "id": "bd7e897f",
   "metadata": {},
   "source": [
    "**13. Which player has scored the most number of fifties in IPL?**"
   ]
  },
  {
   "cell_type": "code",
   "execution_count": 33,
   "id": "7ff3019f",
   "metadata": {},
   "outputs": [
    {
     "data": {
      "image/png": "[encoded data removed]",
      "text/plain": [
       "<Figure size 720x576 with 1 Axes>"
      ]
     },
     "metadata": {
      "needs_background": "light"
     },
     "output_type": "display_data"
    }
   ],
   "source": [
    "plt.figure(figsize=(10,8))\n",
    "runs = ipl_data1.groupby(['striker','start_date'])['runs_off_bat'].sum()\n",
    "data = runs[runs >= 50].droplevel(level=1).groupby('striker').count().sort_values(ascending=False)[:10]\n",
    "sns.barplot(y=data.index,x=data,orient='h')\n",
    "plt.xlabel('Half-Centuries')\n",
    "plt.ylabel('Batsman')\n",
    "plt.show()"
   ]
  },
  {
   "cell_type": "markdown",
   "id": "6fb653a8",
   "metadata": {},
   "source": [
    "David Warner have perform marvolusly well when talking about the number of fifties. Second in the list is the run-machine, King Kohli."
   ]
  },
  {
   "cell_type": "markdown",
   "id": "a76aeae1",
   "metadata": {},
   "source": [
    "**14. Give the list of Orange cap holders in each season of IPL and also the number of runs scored by them.**"
   ]
  },
  {
   "cell_type": "code",
   "execution_count": 38,
   "id": "9ea7d3c2",
   "metadata": {
    "scrolled": true
   },
   "outputs": [
    {
     "name": "stdout",
     "output_type": "stream",
     "text": [
      "Season    Player              Runs                          \n",
      "2008 \t  SE Marsh \t\t 616\n",
      "2009 \t  ML Hayden \t\t 572\n",
      "2010 \t  SR Tendulkar \t\t 618\n",
      "2011 \t  CH Gayle \t\t 608\n",
      "2012 \t  CH Gayle \t\t 733\n",
      "2013 \t  MEK Hussey \t\t 733\n",
      "2014 \t  RV Uthappa \t\t 660\n",
      "2015 \t  DA Warner \t\t 562\n",
      "2016 \t  V Kohli \t\t 973\n",
      "2017 \t  DA Warner \t\t 641\n",
      "2018 \t  KS Williamson \t\t 735\n",
      "2019 \t  DA Warner \t\t 692\n",
      "2020 \t  KL Rahul \t\t 676\n",
      "2021 \t  S Dhawan \t\t 85\n"
     ]
    }
   ],
   "source": [
    "data = ipl_data1.groupby(['season','striker'])['runs_off_bat'].sum().groupby('season').max()\n",
    "temp_df=pd.DataFrame(ipl_data1.groupby(['season','striker'])['runs_off_bat'].sum())\n",
    "print(\"{0:10}{1:20}{2:30}\".format(\"Season\",\"Player\",\"Runs\"))\n",
    "for season,run in data.items():\n",
    "    player = temp_df.loc[season][temp_df.loc[season]['runs_off_bat'] == run].index[0]\n",
    "    print(season,'\\t ',player,'\\t\\t',run)"
   ]
  },
  {
   "cell_type": "markdown",
   "id": "68effebf",
   "metadata": {},
   "source": [
    "**15. Most runs scored by a batsman in any season of IPL?**"
   ]
  },
  {
   "cell_type": "code",
   "execution_count": 44,
   "id": "ce15991c",
   "metadata": {
    "scrolled": true
   },
   "outputs": [
    {
     "data": {
      "text/plain": [
       "striker         season\n",
       "V Kohli         2016      973\n",
       "DA Warner       2016      848\n",
       "KS Williamson   2018      735\n",
       "MEK Hussey      2013      733\n",
       "CH Gayle        2012      733\n",
       "                2013      720\n",
       "DA Warner       2019      692\n",
       "AB de Villiers  2016      687\n",
       "RR Pant         2018      684\n",
       "KL Rahul        2020      676\n",
       "Name: runs_off_bat, dtype: int64"
      ]
     },
     "execution_count": 44,
     "metadata": {},
     "output_type": "execute_result"
    }
   ],
   "source": [
    "ipl_data1.groupby(['striker','season'])['runs_off_bat'].sum().sort_values(ascending=False)[:10]"
   ]
  },
  {
   "cell_type": "markdown",
   "id": "f899771f",
   "metadata": {},
   "source": [
    "2016 season was an iconic season for the run machine Virat Kohli, where he hits the most number of runs in any IPL seasons, thanks to his 4 centuries in a row."
   ]
  },
  {
   "cell_type": "markdown",
   "id": "76dc5258",
   "metadata": {},
   "source": [
    "**16. List of Top 10 batsmans who have hit the most number of sixes in an inning?**"
   ]
  },
  {
   "cell_type": "code",
   "execution_count": 39,
   "id": "27593f33",
   "metadata": {},
   "outputs": [
    {
     "data": {
      "text/plain": [
       "striker\n",
       "CH Gayle          17\n",
       "BB McCullum       13\n",
       "CH Gayle          13\n",
       "CH Gayle          12\n",
       "AB de Villiers    12\n",
       "M Vijay           11\n",
       "CH Gayle          11\n",
       "AD Russell        11\n",
       "ST Jayasuriya     11\n",
       "SS Iyer           10\n",
       "Name: season, dtype: int64"
      ]
     },
     "execution_count": 39,
     "metadata": {},
     "output_type": "execute_result"
    }
   ],
   "source": [
    "ipl_data1[ipl_data1['runs_off_bat'] == 6].groupby(['start_date','striker']).count()['season'].sort_values(ascending=False).droplevel(level=0)[:10]"
   ]
  },
  {
   "cell_type": "markdown",
   "id": "2e71b8f3",
   "metadata": {},
   "source": [
    "Chris Gayle is a true legend and a hard hitting batsman. Second in this list is Brendon McCullum, thanks to his knock of 158 against RCB in the first ever IPL match."
   ]
  },
  {
   "cell_type": "markdown",
   "id": "38788eae",
   "metadata": {},
   "source": [
    "**17. List of top 5 players who have hit the most number of sixes in IPL history?**"
   ]
  },
  {
   "cell_type": "code",
   "execution_count": 41,
   "id": "62ee4c4c",
   "metadata": {},
   "outputs": [
    {
     "data": {
      "image/png": "[encoded data removed]",
      "text/plain": [
       "<Figure size 504x360 with 1 Axes>"
      ]
     },
     "metadata": {
      "needs_background": "light"
     },
     "output_type": "display_data"
    }
   ],
   "source": [
    "plt.figure(figsize=(7,5))\n",
    "data = ipl_data1[ipl_data1['runs_off_bat'] == 6]['striker'].value_counts()[:5]\n",
    "sns.barplot(y=data.index,x=data,orient='h')\n",
    "plt.xlabel('Sixes')\n",
    "plt.ylabel('Batsman')\n",
    "plt.show()"
   ]
  },
  {
   "cell_type": "markdown",
   "id": "2a56b645",
   "metadata": {},
   "source": [
    "Again, Chris Gayle tops this list. Chris is a six hitting machine."
   ]
  },
  {
   "cell_type": "markdown",
   "id": "c1288cff",
   "metadata": {},
   "source": [
    "**18. Top 5 players who have hit the most number of 4's in an inning?**"
   ]
  },
  {
   "cell_type": "code",
   "execution_count": 42,
   "id": "494f01dd",
   "metadata": {},
   "outputs": [
    {
     "data": {
      "text/plain": [
       "striker\n",
       "PC Valthaty       19\n",
       "AB de Villiers    19\n",
       "MJ Lumb           16\n",
       "AM Rahane         16\n",
       "GJ Maxwell        15\n",
       "Name: season, dtype: int64"
      ]
     },
     "execution_count": 42,
     "metadata": {},
     "output_type": "execute_result"
    }
   ],
   "source": [
    "ipl_data1[ipl_data1['runs_off_bat'] == 4].groupby(['start_date','striker']).count()['season'].sort_values(ascending=False).droplevel(level=0)[:5]"
   ]
  },
  {
   "cell_type": "markdown",
   "id": "5599c1ac",
   "metadata": {},
   "source": [
    "Paul Valthaty and AB de Villiers have top this list with almost 80 runs coming from just 4's."
   ]
  },
  {
   "cell_type": "markdown",
   "id": "460b0f3f",
   "metadata": {},
   "source": [
    "**19. Most boundaries (4's) hit by a batsman in IPL.**"
   ]
  },
  {
   "cell_type": "code",
   "execution_count": 43,
   "id": "deb7c222",
   "metadata": {},
   "outputs": [
    {
     "data": {
      "image/png": "[encoded data removed]",
      "text/plain": [
       "<Figure size 720x576 with 1 Axes>"
      ]
     },
     "metadata": {
      "needs_background": "light"
     },
     "output_type": "display_data"
    }
   ],
   "source": [
    "plt.figure(figsize=(10,8))\n",
    "data = ipl_data1[ipl_data1['runs_off_bat'] == 4]['striker'].value_counts()[:10]\n",
    "sns.barplot(y=data.index,x=data,orient='h')\n",
    "plt.xlabel('Fours')\n",
    "plt.ylabel('Batsman')\n",
    "plt.show()"
   ]
  },
  {
   "cell_type": "markdown",
   "id": "c74f0144",
   "metadata": {},
   "source": [
    "The Gabbar, Shikhar Dhawan is a master player for his ability to find the gaps between the field."
   ]
  },
  {
   "cell_type": "markdown",
   "id": "730d9a1e",
   "metadata": {},
   "source": [
    "**20. Mention the list of Top 5 highest team scores in IPL.**"
   ]
  },
  {
   "cell_type": "code",
   "execution_count": 45,
   "id": "4df7ee16",
   "metadata": {
    "scrolled": true
   },
   "outputs": [
    {
     "data": {
      "text/plain": [
       "batting_team\n",
       "Royal Challengers Bangalore    263\n",
       "Royal Challengers Bangalore    248\n",
       "Chennai Super Kings            246\n",
       "Kolkata Knight Riders          245\n",
       "Chennai Super Kings            240\n",
       "Name: run, dtype: int64"
      ]
     },
     "execution_count": 45,
     "metadata": {},
     "output_type": "execute_result"
    }
   ],
   "source": [
    "ipl_data1.groupby(['start_date','batting_team']).sum()['run'].droplevel(level=0).sort_values(ascending=False)[:5]"
   ]
  },
  {
   "cell_type": "markdown",
   "id": "a2b29ca6",
   "metadata": {},
   "source": [
    "**21. Who have scored the highest individual score in IPL?**"
   ]
  },
  {
   "cell_type": "code",
   "execution_count": 51,
   "id": "5ce3513f",
   "metadata": {
    "scrolled": false
   },
   "outputs": [
    {
     "data": {
      "text/plain": [
       "striker         start_date\n",
       "CH Gayle        2013-04-23    175\n",
       "BB McCullum     2008-04-18    158\n",
       "AB de Villiers  2015-05-10    133\n",
       "KL Rahul        2020-09-24    132\n",
       "AB de Villiers  2016-05-14    129\n",
       "CH Gayle        2012-05-17    128\n",
       "RR Pant         2018-05-10    128\n",
       "M Vijay         2010-04-03    127\n",
       "DA Warner       2017-04-30    126\n",
       "V Sehwag        2014-05-30    122\n",
       "Name: runs_off_bat, dtype: int64"
      ]
     },
     "execution_count": 51,
     "metadata": {},
     "output_type": "execute_result"
    }
   ],
   "source": [
    "ipl_data1.groupby(['striker','start_date'])['runs_off_bat'].sum().sort_values(ascending=False)[:10]"
   ]
  },
  {
   "cell_type": "markdown",
   "id": "3b582471",
   "metadata": {},
   "source": [
    "Chris Gayle has been a successful player in IPL, having records for the highest ever individual score in an IPL match, most number of sixes in an inning and most number of sixes in all IPL seasons. He is a destructive player and a nightmare for many indian and overseas bowlers."
   ]
  },
  {
   "cell_type": "code",
   "execution_count": 46,
   "id": "938d1f5a",
   "metadata": {},
   "outputs": [
    {
     "data": {
      "text/html": [
       "<div>\n",
       "<style scoped>\n",
       "    .dataframe tbody tr th:only-of-type {\n",
       "        vertical-align: middle;\n",
       "    }\n",
       "\n",
       "    .dataframe tbody tr th {\n",
       "        vertical-align: top;\n",
       "    }\n",
       "\n",
       "    .dataframe thead th {\n",
       "        text-align: right;\n",
       "    }\n",
       "</style>\n",
       "<table border=\"1\" class=\"dataframe\">\n",
       "  <thead>\n",
       "    <tr style=\"text-align: right;\">\n",
       "      <th></th>\n",
       "      <th>id</th>\n",
       "      <th>season</th>\n",
       "      <th>city</th>\n",
       "      <th>date</th>\n",
       "      <th>team1</th>\n",
       "      <th>team2</th>\n",
       "      <th>toss_winner</th>\n",
       "      <th>toss_decision</th>\n",
       "      <th>result</th>\n",
       "      <th>dl_applied</th>\n",
       "      <th>winner</th>\n",
       "      <th>win_by_runs</th>\n",
       "      <th>win_by_wickets</th>\n",
       "      <th>player_of_match</th>\n",
       "      <th>venue</th>\n",
       "      <th>umpire1</th>\n",
       "      <th>umpire2</th>\n",
       "      <th>umpire3</th>\n",
       "    </tr>\n",
       "  </thead>\n",
       "  <tbody>\n",
       "    <tr>\n",
       "      <th>0</th>\n",
       "      <td>1</td>\n",
       "      <td>2017</td>\n",
       "      <td>Hyderabad</td>\n",
       "      <td>2017-04-05</td>\n",
       "      <td>Sunrisers Hyderabad</td>\n",
       "      <td>Royal Challengers Bangalore</td>\n",
       "      <td>Royal Challengers Bangalore</td>\n",
       "      <td>field</td>\n",
       "      <td>normal</td>\n",
       "      <td>0</td>\n",
       "      <td>Sunrisers Hyderabad</td>\n",
       "      <td>35</td>\n",
       "      <td>0</td>\n",
       "      <td>Yuvraj Singh</td>\n",
       "      <td>Rajiv Gandhi International Stadium, Uppal</td>\n",
       "      <td>AY Dandekar</td>\n",
       "      <td>NJ Llong</td>\n",
       "      <td>NaN</td>\n",
       "    </tr>\n",
       "    <tr>\n",
       "      <th>1</th>\n",
       "      <td>2</td>\n",
       "      <td>2017</td>\n",
       "      <td>Pune</td>\n",
       "      <td>2017-04-06</td>\n",
       "      <td>Mumbai Indians</td>\n",
       "      <td>Rising Pune Supergiant</td>\n",
       "      <td>Rising Pune Supergiant</td>\n",
       "      <td>field</td>\n",
       "      <td>normal</td>\n",
       "      <td>0</td>\n",
       "      <td>Rising Pune Supergiant</td>\n",
       "      <td>0</td>\n",
       "      <td>7</td>\n",
       "      <td>SPD Smith</td>\n",
       "      <td>Maharashtra Cricket Association Stadium</td>\n",
       "      <td>A Nand Kishore</td>\n",
       "      <td>S Ravi</td>\n",
       "      <td>NaN</td>\n",
       "    </tr>\n",
       "    <tr>\n",
       "      <th>2</th>\n",
       "      <td>3</td>\n",
       "      <td>2017</td>\n",
       "      <td>Rajkot</td>\n",
       "      <td>2017-04-07</td>\n",
       "      <td>Gujarat Lions</td>\n",
       "      <td>Kolkata Knight Riders</td>\n",
       "      <td>Kolkata Knight Riders</td>\n",
       "      <td>field</td>\n",
       "      <td>normal</td>\n",
       "      <td>0</td>\n",
       "      <td>Kolkata Knight Riders</td>\n",
       "      <td>0</td>\n",
       "      <td>10</td>\n",
       "      <td>CA Lynn</td>\n",
       "      <td>Saurashtra Cricket Association Stadium</td>\n",
       "      <td>Nitin Menon</td>\n",
       "      <td>CK Nandan</td>\n",
       "      <td>NaN</td>\n",
       "    </tr>\n",
       "    <tr>\n",
       "      <th>3</th>\n",
       "      <td>4</td>\n",
       "      <td>2017</td>\n",
       "      <td>Indore</td>\n",
       "      <td>2017-04-08</td>\n",
       "      <td>Rising Pune Supergiant</td>\n",
       "      <td>Kings XI Punjab</td>\n",
       "      <td>Kings XI Punjab</td>\n",
       "      <td>field</td>\n",
       "      <td>normal</td>\n",
       "      <td>0</td>\n",
       "      <td>Kings XI Punjab</td>\n",
       "      <td>0</td>\n",
       "      <td>6</td>\n",
       "      <td>GJ Maxwell</td>\n",
       "      <td>Holkar Cricket Stadium</td>\n",
       "      <td>AK Chaudhary</td>\n",
       "      <td>C Shamshuddin</td>\n",
       "      <td>NaN</td>\n",
       "    </tr>\n",
       "    <tr>\n",
       "      <th>4</th>\n",
       "      <td>5</td>\n",
       "      <td>2017</td>\n",
       "      <td>Bangalore</td>\n",
       "      <td>2017-04-08</td>\n",
       "      <td>Royal Challengers Bangalore</td>\n",
       "      <td>Delhi Daredevils</td>\n",
       "      <td>Royal Challengers Bangalore</td>\n",
       "      <td>bat</td>\n",
       "      <td>normal</td>\n",
       "      <td>0</td>\n",
       "      <td>Royal Challengers Bangalore</td>\n",
       "      <td>15</td>\n",
       "      <td>0</td>\n",
       "      <td>KM Jadhav</td>\n",
       "      <td>M Chinnaswamy Stadium</td>\n",
       "      <td>NaN</td>\n",
       "      <td>NaN</td>\n",
       "      <td>NaN</td>\n",
       "    </tr>\n",
       "  </tbody>\n",
       "</table>\n",
       "</div>"
      ],
      "text/plain": [
       "   id  season       city        date                        team1  \\\n",
       "0   1    2017  Hyderabad  2017-04-05          Sunrisers Hyderabad   \n",
       "1   2    2017       Pune  2017-04-06               Mumbai Indians   \n",
       "2   3    2017     Rajkot  2017-04-07                Gujarat Lions   \n",
       "3   4    2017     Indore  2017-04-08       Rising Pune Supergiant   \n",
       "4   5    2017  Bangalore  2017-04-08  Royal Challengers Bangalore   \n",
       "\n",
       "                         team2                  toss_winner toss_decision  \\\n",
       "0  Royal Challengers Bangalore  Royal Challengers Bangalore         field   \n",
       "1       Rising Pune Supergiant       Rising Pune Supergiant         field   \n",
       "2        Kolkata Knight Riders        Kolkata Knight Riders         field   \n",
       "3              Kings XI Punjab              Kings XI Punjab         field   \n",
       "4             Delhi Daredevils  Royal Challengers Bangalore           bat   \n",
       "\n",
       "   result  dl_applied                       winner  win_by_runs  \\\n",
       "0  normal           0          Sunrisers Hyderabad           35   \n",
       "1  normal           0       Rising Pune Supergiant            0   \n",
       "2  normal           0        Kolkata Knight Riders            0   \n",
       "3  normal           0              Kings XI Punjab            0   \n",
       "4  normal           0  Royal Challengers Bangalore           15   \n",
       "\n",
       "   win_by_wickets player_of_match                                      venue  \\\n",
       "0               0    Yuvraj Singh  Rajiv Gandhi International Stadium, Uppal   \n",
       "1               7       SPD Smith    Maharashtra Cricket Association Stadium   \n",
       "2              10         CA Lynn     Saurashtra Cricket Association Stadium   \n",
       "3               6      GJ Maxwell                     Holkar Cricket Stadium   \n",
       "4               0       KM Jadhav                      M Chinnaswamy Stadium   \n",
       "\n",
       "          umpire1        umpire2  umpire3  \n",
       "0     AY Dandekar       NJ Llong      NaN  \n",
       "1  A Nand Kishore         S Ravi      NaN  \n",
       "2     Nitin Menon      CK Nandan      NaN  \n",
       "3    AK Chaudhary  C Shamshuddin      NaN  \n",
       "4             NaN            NaN      NaN  "
      ]
     },
     "execution_count": 46,
     "metadata": {},
     "output_type": "execute_result"
    }
   ],
   "source": [
    "match_data.head()"
   ]
  },
  {
   "cell_type": "markdown",
   "id": "f37667c1",
   "metadata": {},
   "source": [
    "**22. Which team has won the most number of matches between the season 2008-2016?**"
   ]
  },
  {
   "cell_type": "code",
   "execution_count": 54,
   "id": "be8ee51f",
   "metadata": {},
   "outputs": [
    {
     "data": {
      "text/plain": [
       "Mumbai Indians                 92\n",
       "Chennai Super Kings            79\n",
       "Kolkata Knight Riders          77\n",
       "Royal Challengers Bangalore    73\n",
       "Kings XI Punjab                70\n",
       "Rajasthan Royals               63\n",
       "Delhi Daredevils               62\n",
       "Sunrisers Hyderabad            42\n",
       "Deccan Chargers                29\n",
       "Gujarat Lions                  13\n",
       "Pune Warriors                  12\n",
       "Rising Pune Supergiant         10\n",
       "Kochi Tuskers Kerala            6\n",
       "Rising Pune Supergiants         5\n",
       "Name: winner, dtype: int64"
      ]
     },
     "execution_count": 54,
     "metadata": {},
     "output_type": "execute_result"
    }
   ],
   "source": [
    "match_data['winner'].value_counts()"
   ]
  },
  {
   "cell_type": "markdown",
   "id": "61f2d412",
   "metadata": {},
   "source": [
    "Mumbai Indians have been a successful campaign for many seasons, thanks to their great mixture of experienced and young hard hitting players."
   ]
  },
  {
   "cell_type": "markdown",
   "id": "af614e0e",
   "metadata": {},
   "source": [
    "In the match_data dataset, we have win_by_runs (batting first) and win_by_wickets (batting second) columns. These columns can help us to analyze the success rate of batting first and batting second."
   ]
  },
  {
   "cell_type": "code",
   "execution_count": 60,
   "id": "d103f9fb",
   "metadata": {},
   "outputs": [],
   "source": [
    "win_by_batting_1st = match_data[match_data[\"win_by_runs\"] != 0]"
   ]
  },
  {
   "cell_type": "code",
   "execution_count": 61,
   "id": "97d5ac4b",
   "metadata": {},
   "outputs": [
    {
     "data": {
      "text/plain": [
       "287"
      ]
     },
     "execution_count": 61,
     "metadata": {},
     "output_type": "execute_result"
    }
   ],
   "source": [
    "len(win_by_batting_1st)"
   ]
  },
  {
   "cell_type": "code",
   "execution_count": 62,
   "id": "4ecd3140",
   "metadata": {},
   "outputs": [],
   "source": [
    "win_by_batting_2nd = match_data[match_data[\"win_by_wickets\"] != 0]"
   ]
  },
  {
   "cell_type": "code",
   "execution_count": 63,
   "id": "763b4c50",
   "metadata": {},
   "outputs": [
    {
     "data": {
      "text/plain": [
       "339"
      ]
     },
     "execution_count": 63,
     "metadata": {},
     "output_type": "execute_result"
    }
   ],
   "source": [
    "len(win_by_batting_2nd)"
   ]
  },
  {
   "cell_type": "markdown",
   "id": "9e4c184b",
   "metadata": {},
   "source": [
    "**23. What is the percentage of matches won by teams batting 1st?**"
   ]
  },
  {
   "cell_type": "code",
   "execution_count": 64,
   "id": "a65237fb",
   "metadata": {},
   "outputs": [
    {
     "data": {
      "text/plain": [
       "45.125786163522015"
      ]
     },
     "execution_count": 64,
     "metadata": {},
     "output_type": "execute_result"
    }
   ],
   "source": [
    "len(win_by_batting_1st) / len(match_data) * 100"
   ]
  },
  {
   "cell_type": "markdown",
   "id": "acf2831e",
   "metadata": {},
   "source": [
    "**24. What is the percentage of matches won by teams batting 2nd?**"
   ]
  },
  {
   "cell_type": "code",
   "execution_count": 65,
   "id": "03ff2005",
   "metadata": {},
   "outputs": [
    {
     "data": {
      "text/plain": [
       "53.301886792452834"
      ]
     },
     "execution_count": 65,
     "metadata": {},
     "output_type": "execute_result"
    }
   ],
   "source": [
    "len(win_by_batting_2nd) / len(match_data) * 100"
   ]
  },
  {
   "cell_type": "code",
   "execution_count": 77,
   "id": "243fb143",
   "metadata": {},
   "outputs": [],
   "source": [
    "# Bowling Performance:"
   ]
  },
  {
   "cell_type": "markdown",
   "id": "aad1babc",
   "metadata": {},
   "source": [
    "**25. List all the Purple cap holders in different seasons of IPL.**"
   ]
  },
  {
   "cell_type": "code",
   "execution_count": 78,
   "id": "0da70a15",
   "metadata": {},
   "outputs": [
    {
     "name": "stdout",
     "output_type": "stream",
     "text": [
      "Season    Player              Wickets                       \n",
      "2008 \t  Sohail Tanvir \t\t 22\n",
      "2009 \t  A Kumble \t\t 21\n",
      "2011 \t  MM Patel \t\t 22\n",
      "2012 \t  M Morkel \t\t 25\n",
      "2013 \t  DJ Bravo \t\t 32\n",
      "2014 \t  MM Sharma \t\t 23\n",
      "2015 \t  A Nehra \t\t 22\n",
      "2016 \t  B Kumar \t\t 23\n",
      "2017 \t  B Kumar \t\t 26\n",
      "2018 \t  AJ Tye \t\t 24\n",
      "2019 \t  DL Chahar \t\t 22\n",
      "2020 \t  A Nortje \t\t 22\n"
     ]
    }
   ],
   "source": [
    "lst = ['caught','bowled','lbw','stumped','caught and bowled','hit wicket']\n",
    "data = ipl_data1[ipl_data1['wicket_type'].apply(lambda x: True if x in lst and x != np.nan else False)].groupby(['season','bowler']).count()['ball']\n",
    "data=data.sort_values(ascending=False)[:30].sort_index(level=0)\n",
    "val=0\n",
    "lst=[]\n",
    "print(\"{0:10}{1:20}{2:30}\".format(\"Season\",\"Player\",\"Wickets\"))\n",
    "for (season,bowler),wicket in data.items():\n",
    "    if season == val:\n",
    "        lst.append(wicket)        \n",
    "    else:\n",
    "        print(season,'\\t ',bowler,'\\t\\t',wicket)\n",
    "        val = season\n",
    "        lst=[]"
   ]
  },
  {
   "cell_type": "markdown",
   "id": "8ec8cea4",
   "metadata": {},
   "source": [
    "**26. Which bowler has taken the most number of wickets in IPL?**"
   ]
  },
  {
   "cell_type": "code",
   "execution_count": 80,
   "id": "76c2761a",
   "metadata": {},
   "outputs": [
    {
     "data": {
      "text/plain": [
       "SL Malinga    170\n",
       "Name: bowler, dtype: int64"
      ]
     },
     "execution_count": 80,
     "metadata": {},
     "output_type": "execute_result"
    }
   ],
   "source": [
    "lst = ['caught','bowled','lbw','stumped','caught and bowled','hit wicket']\n",
    "ipl_data1[ipl_data1['wicket_type'].apply(lambda x: True if x in lst and x != ' ' else False)]['bowler'].value_counts()[:1]"
   ]
  },
  {
   "cell_type": "markdown",
   "id": "af70e2ab",
   "metadata": {},
   "source": [
    "Lasith Malinga a Sri-Lankan fast bowler has trouble many legendary batsmans with his perfect yorkers. He has taken the most number of wickets in IPL uptill now. Surprisingly, Malinga has never won the Purple Cap for any seasons."
   ]
  },
  {
   "cell_type": "markdown",
   "id": "e716e982",
   "metadata": {},
   "source": [
    "**27. List Top 6 bowlers that have bowled the most number of dot balls.**"
   ]
  },
  {
   "cell_type": "code",
   "execution_count": 81,
   "id": "a8f90693",
   "metadata": {},
   "outputs": [
    {
     "data": {
      "image/png": "[encoded data removed]",
      "text/plain": [
       "<Figure size 432x288 with 1 Axes>"
      ]
     },
     "metadata": {
      "needs_background": "light"
     },
     "output_type": "display_data"
    }
   ],
   "source": [
    "plt.figure(figsize=(6,4))\n",
    "data = ipl_data1[ipl_data1['run'] == 0].groupby('bowler').count()['match_id'].sort_values(ascending=False)[:6]\n",
    "sns.barplot(y=data.index,x=data,orient='h')\n",
    "plt.xlabel('Dot Balls')\n",
    "plt.ylabel('bowler')\n",
    "plt.show()"
   ]
  },
  {
   "cell_type": "markdown",
   "id": "561d6e59",
   "metadata": {},
   "source": [
    "Before the tournament was even started, some of the most experienced cricketers in the world had predicted that spinners in IPL will be the ones who will conceed the most punishment. But after soo many seasons it is clear that the trend is reversed with Harbhajan Singh (Indian Right arm off spinner) being one of the most economical bowlers."
   ]
  },
  {
   "cell_type": "markdown",
   "id": "041e6dcc",
   "metadata": {},
   "source": [
    "**28. Most Maiden overs by a bowler?**"
   ]
  },
  {
   "cell_type": "code",
   "execution_count": 82,
   "id": "3ec15024",
   "metadata": {},
   "outputs": [
    {
     "data": {
      "text/plain": [
       "P Kumar           12\n",
       "IK Pathan          9\n",
       "SL Malinga         8\n",
       "DW Steyn           8\n",
       "B Kumar            7\n",
       "DS Kulkarni        7\n",
       "Sandeep Sharma     6\n",
       "DJ Bravo           6\n",
       "R Ashwin           5\n",
       "Z Khan             5\n",
       "Name: bowler, dtype: int64"
      ]
     },
     "execution_count": 82,
     "metadata": {},
     "output_type": "execute_result"
    }
   ],
   "source": [
    "data = ipl_data1.groupby(['start_date','bowler','over'])['run'].sum()\n",
    "data = data[data.values == 0].droplevel(level=[0,2])\n",
    "data.index.value_counts()[:10]"
   ]
  },
  {
   "cell_type": "markdown",
   "id": "a5a2317c",
   "metadata": {},
   "source": [
    "Pravin kumar has bowled the most number (12) of maiden overs in the history of IPL."
   ]
  },
  {
   "cell_type": "markdown",
   "id": "263acff7",
   "metadata": {},
   "source": [
    "**29. Which team has taken the most number of wickets in IPL?**"
   ]
  },
  {
   "cell_type": "code",
   "execution_count": 84,
   "id": "dd7fa301",
   "metadata": {},
   "outputs": [
    {
     "data": {
      "image/png": "[encoded data removed]",
      "text/plain": [
       "<Figure size 720x576 with 1 Axes>"
      ]
     },
     "metadata": {
      "needs_background": "light"
     },
     "output_type": "display_data"
    }
   ],
   "source": [
    "plt.figure(figsize=(10,8))\n",
    "lst = ['caught','bowled','lbw','stumped','caught and bowled','hit wicket']\n",
    "data = ipl_data1[ipl_data1['wicket_type'].apply(lambda x: True if x in lst and x != ' ' else False)]['bowling_team'].value_counts()\n",
    "ipl_data1.groupby(['batting_team'])['extras'].agg('sum').sort_values(ascending=False)\n",
    "sns.barplot(y=data.index,x=data,orient='h')\n",
    "plt.xlabel('Wickets')\n",
    "plt.ylabel('Teams')\n",
    "plt.show()"
   ]
  },
  {
   "cell_type": "markdown",
   "id": "91b52bf9",
   "metadata": {},
   "source": [
    "**30. Which bowler has bowled the most number of 'No Balls' in IPL?**"
   ]
  },
  {
   "cell_type": "code",
   "execution_count": 85,
   "id": "3c4886eb",
   "metadata": {},
   "outputs": [
    {
     "data": {
      "text/plain": [
       "S Sreesanth    23\n",
       "JJ Bumrah      23\n",
       "A Mishra       21\n",
       "I Sharma       21\n",
       "UT Yadav       19\n",
       "SL Malinga     18\n",
       "AB Dinda       14\n",
       "JA Morkel      13\n",
       "M Morkel       13\n",
       "RP Singh       13\n",
       "Name: bowler, dtype: int64"
      ]
     },
     "execution_count": 85,
     "metadata": {},
     "output_type": "execute_result"
    }
   ],
   "source": [
    "ipl_data1[ipl_data1['noballs'] != 0]['bowler'].value_counts()[:10]"
   ]
  },
  {
   "cell_type": "markdown",
   "id": "a3b70211",
   "metadata": {},
   "source": [
    "We have two best Indian fast bowlers who have bowled the most number of 'No Balls'."
   ]
  },
  {
   "cell_type": "markdown",
   "id": "032ed3a4",
   "metadata": {},
   "source": [
    "**31. Most runs given by teams as extras?**"
   ]
  },
  {
   "cell_type": "code",
   "execution_count": 86,
   "id": "9e60b480",
   "metadata": {},
   "outputs": [
    {
     "data": {
      "image/png": "[encoded data removed]",
      "text/plain": [
       "<Figure size 720x576 with 1 Axes>"
      ]
     },
     "metadata": {
      "needs_background": "light"
     },
     "output_type": "display_data"
    }
   ],
   "source": [
    "plt.figure(figsize=(10,8))\n",
    "data = ipl_data1.groupby(['batting_team'])['extras'].agg('sum').sort_values(ascending=False)\n",
    "sns.barplot(y=data.index,x=data,orient='h')\n",
    "plt.xlabel('Runs')\n",
    "plt.ylabel('Teams')\n",
    "plt.show()"
   ]
  },
  {
   "cell_type": "code",
   "execution_count": 88,
   "id": "86f1e942",
   "metadata": {},
   "outputs": [
    {
     "data": {
      "text/html": [
       "<div>\n",
       "<style scoped>\n",
       "    .dataframe tbody tr th:only-of-type {\n",
       "        vertical-align: middle;\n",
       "    }\n",
       "\n",
       "    .dataframe tbody tr th {\n",
       "        vertical-align: top;\n",
       "    }\n",
       "\n",
       "    .dataframe thead th {\n",
       "        text-align: right;\n",
       "    }\n",
       "</style>\n",
       "<table border=\"1\" class=\"dataframe\">\n",
       "  <thead>\n",
       "    <tr style=\"text-align: right;\">\n",
       "      <th></th>\n",
       "      <th>id</th>\n",
       "      <th>season</th>\n",
       "      <th>city</th>\n",
       "      <th>date</th>\n",
       "      <th>team1</th>\n",
       "      <th>team2</th>\n",
       "      <th>toss_winner</th>\n",
       "      <th>toss_decision</th>\n",
       "      <th>result</th>\n",
       "      <th>dl_applied</th>\n",
       "      <th>winner</th>\n",
       "      <th>win_by_runs</th>\n",
       "      <th>win_by_wickets</th>\n",
       "      <th>player_of_match</th>\n",
       "      <th>venue</th>\n",
       "      <th>umpire1</th>\n",
       "      <th>umpire2</th>\n",
       "      <th>umpire3</th>\n",
       "    </tr>\n",
       "  </thead>\n",
       "  <tbody>\n",
       "    <tr>\n",
       "      <th>0</th>\n",
       "      <td>1</td>\n",
       "      <td>2017</td>\n",
       "      <td>Hyderabad</td>\n",
       "      <td>2017-04-05</td>\n",
       "      <td>Sunrisers Hyderabad</td>\n",
       "      <td>Royal Challengers Bangalore</td>\n",
       "      <td>Royal Challengers Bangalore</td>\n",
       "      <td>field</td>\n",
       "      <td>normal</td>\n",
       "      <td>0</td>\n",
       "      <td>Sunrisers Hyderabad</td>\n",
       "      <td>35</td>\n",
       "      <td>0</td>\n",
       "      <td>Yuvraj Singh</td>\n",
       "      <td>Rajiv Gandhi International Stadium, Uppal</td>\n",
       "      <td>AY Dandekar</td>\n",
       "      <td>NJ Llong</td>\n",
       "      <td>NaN</td>\n",
       "    </tr>\n",
       "    <tr>\n",
       "      <th>1</th>\n",
       "      <td>2</td>\n",
       "      <td>2017</td>\n",
       "      <td>Pune</td>\n",
       "      <td>2017-04-06</td>\n",
       "      <td>Mumbai Indians</td>\n",
       "      <td>Rising Pune Supergiant</td>\n",
       "      <td>Rising Pune Supergiant</td>\n",
       "      <td>field</td>\n",
       "      <td>normal</td>\n",
       "      <td>0</td>\n",
       "      <td>Rising Pune Supergiant</td>\n",
       "      <td>0</td>\n",
       "      <td>7</td>\n",
       "      <td>SPD Smith</td>\n",
       "      <td>Maharashtra Cricket Association Stadium</td>\n",
       "      <td>A Nand Kishore</td>\n",
       "      <td>S Ravi</td>\n",
       "      <td>NaN</td>\n",
       "    </tr>\n",
       "  </tbody>\n",
       "</table>\n",
       "</div>"
      ],
      "text/plain": [
       "   id  season       city        date                team1  \\\n",
       "0   1    2017  Hyderabad  2017-04-05  Sunrisers Hyderabad   \n",
       "1   2    2017       Pune  2017-04-06       Mumbai Indians   \n",
       "\n",
       "                         team2                  toss_winner toss_decision  \\\n",
       "0  Royal Challengers Bangalore  Royal Challengers Bangalore         field   \n",
       "1       Rising Pune Supergiant       Rising Pune Supergiant         field   \n",
       "\n",
       "   result  dl_applied                  winner  win_by_runs  win_by_wickets  \\\n",
       "0  normal           0     Sunrisers Hyderabad           35               0   \n",
       "1  normal           0  Rising Pune Supergiant            0               7   \n",
       "\n",
       "  player_of_match                                      venue         umpire1  \\\n",
       "0    Yuvraj Singh  Rajiv Gandhi International Stadium, Uppal     AY Dandekar   \n",
       "1       SPD Smith    Maharashtra Cricket Association Stadium  A Nand Kishore   \n",
       "\n",
       "    umpire2  umpire3  \n",
       "0  NJ Llong      NaN  \n",
       "1    S Ravi      NaN  "
      ]
     },
     "execution_count": 88,
     "metadata": {},
     "output_type": "execute_result"
    }
   ],
   "source": [
    "match_data.head(2)"
   ]
  },
  {
   "cell_type": "markdown",
   "id": "50bd9add",
   "metadata": {},
   "source": [
    "**32. Which player has won the most number of Player of the Match awards?**"
   ]
  },
  {
   "cell_type": "code",
   "execution_count": 89,
   "id": "d5a06ce2",
   "metadata": {},
   "outputs": [
    {
     "data": {
      "text/plain": [
       "CH Gayle          18\n",
       "YK Pathan         16\n",
       "DA Warner         15\n",
       "AB de Villiers    15\n",
       "RG Sharma         14\n",
       "                  ..\n",
       "AD Mathews         1\n",
       "LR Shukla          1\n",
       "R Bhatia           1\n",
       "A Singh            1\n",
       "BCJ Cutting        1\n",
       "Name: player_of_match, Length: 201, dtype: int64"
      ]
     },
     "execution_count": 89,
     "metadata": {},
     "output_type": "execute_result"
    }
   ],
   "source": [
    "match_data[\"player_of_match\"].value_counts()"
   ]
  },
  {
   "cell_type": "markdown",
   "id": "1289bf70",
   "metadata": {},
   "source": [
    "Christopher Henry Gayle has won the most number of \"Player of the Match\" awards in IPL."
   ]
  },
  {
   "cell_type": "markdown",
   "id": "e88195c0",
   "metadata": {},
   "source": [
    "## END OF ANALYSIS"
   ]
  },
  {
   "cell_type": "code",
   "execution_count": null,
   "id": "97296485",
   "metadata": {},
   "outputs": [],
   "source": []
  }
 ],
 "metadata": {
  "kernelspec": {
   "display_name": "Python 3 (ipykernel)",
   "language": "python",
   "name": "python3"
  },
  "language_info": {
   "codemirror_mode": {
    "name": "ipython",
    "version": 3
   },
   "file_extension": ".py",
   "mimetype": "text/x-python",
   "name": "python",
   "nbconvert_exporter": "python",
   "pygments_lexer": "ipython3",
   "version": "3.8.12"
  }
 },
 "nbformat": 4,
 "nbformat_minor": 5
}
