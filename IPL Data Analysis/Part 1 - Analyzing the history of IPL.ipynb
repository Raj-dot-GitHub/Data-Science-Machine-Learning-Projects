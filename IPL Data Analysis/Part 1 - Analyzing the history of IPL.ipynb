{
 "cells": [
  {
   "cell_type": "markdown",
   "id": "2480338d",
   "metadata": {},
   "source": [
    "**Description:-** IPL is a popular cricket tournament, featuring some of the exciting cricketing talents in the world playing against each other. Data Analytics has proved to be one of the most important tools in Cricket, today. In this **Part 1** notebook on **IPL Data Analytics**, we are going to analyze the history of IPL. If you are a cricket fan or someone who is interested to know some of the key facts of this tournament, then get ready to get your hands dirty with data.\n",
    "\n",
    "**Note:-** To follow-on with this notebook, you should have a good understanding of working with Pandas (Dataframes, Groupby functions, etc) and Python visualization libraries like Matplotlib and Seaborn."
   ]
  },
  {
   "cell_type": "code",
   "execution_count": 1,
   "id": "162a6b91",
   "metadata": {},
   "outputs": [],
   "source": [
    "# Importing the libraries:-\n",
    "\n",
    "import math\n",
    "import datetime\n",
    "import numpy as np\n",
    "import pandas as pd\n",
    "import seaborn as sns\n",
    "import matplotlib.pyplot as plt\n",
    "\n",
    "import warnings\n",
    "warnings.filterwarnings('ignore')\n",
    "sns.set_style('whitegrid')\n",
    "%matplotlib inline"
   ]
  },
  {
   "cell_type": "code",
   "execution_count": 2,
   "id": "012f1b53",
   "metadata": {},
   "outputs": [],
   "source": [
    "# Loading the datasets:-\n",
    "\n",
    "ipl_data1 = ipl_data1 = pd.read_csv('C:\\\\Users\\\\raj28\\\\OneDrive\\\\Desktop\\\\Machine Learning Projects\\\\Data Science Projects\\\\IPL Data Analysis Project\\\\IPL Data Analysis Main\\\\Data\\\\ipl_data.csv', parse_dates=True)\n",
    "ipl_data2 = pd.read_csv('C:\\\\Users\\\\raj28\\\\OneDrive\\Desktop\\\\Machine Learning Projects\\\\Data Science Projects\\\\IPL Data Analysis Project\\\\IPL Data Analysis Main\\\\Data\\\\deliveries.csv', parse_dates = True)\n",
    "match_data = pd.read_csv('C:\\\\Users\\\\raj28\\\\OneDrive\\\\Desktop\\\\Machine Learning Projects\\\\Data Science Projects\\\\IPL Data Analysis Project\\\\IPL Data Analysis Main\\\\Data\\\\matches.csv', parse_dates = True)\n",
    "model_data = pd.read_csv('C:\\\\Users\\\\raj28\\\\OneDrive\\\\Desktop\\\\Machine Learning Projects\\\\Data Science Projects\\\\IPL Data Analysis Project\\\\IPL Data Analysis Main\\\\Data\\\\ipl.csv', parse_dates = True)"
   ]
  },
  {
   "cell_type": "markdown",
   "id": "6012aff0",
   "metadata": {},
   "source": [
    "**> About the Datasets:-**\n",
    "\n",
    "**deliveries :-** This dataset has bowl by bowl information of the matches played between different teams in IPL. One very important aspect which is missing in this data is the date.\n",
    "\n",
    "**ipl_data :-** This dataset has bowl by bowl information of all the matches played in IPL from 2008 to 2021 (incomplete).\n",
    "\n",
    "**matches :-** This data is very similar to the ipl_data dataset. One difference is that the data is available uptill 2017 season."
   ]
  },
  {
   "cell_type": "markdown",
   "id": "70ddf672",
   "metadata": {},
   "source": [
    "**> Checking the head and info of all the datasets:-**"
   ]
  },
  {
   "cell_type": "code",
   "execution_count": 3,
   "id": "b2c0e829",
   "metadata": {},
   "outputs": [
    {
     "data": {
      "text/html": [
       "<div>\n",
       "<style scoped>\n",
       "    .dataframe tbody tr th:only-of-type {\n",
       "        vertical-align: middle;\n",
       "    }\n",
       "\n",
       "    .dataframe tbody tr th {\n",
       "        vertical-align: top;\n",
       "    }\n",
       "\n",
       "    .dataframe thead th {\n",
       "        text-align: right;\n",
       "    }\n",
       "</style>\n",
       "<table border=\"1\" class=\"dataframe\">\n",
       "  <thead>\n",
       "    <tr style=\"text-align: right;\">\n",
       "      <th></th>\n",
       "      <th>match_id</th>\n",
       "      <th>season</th>\n",
       "      <th>start_date</th>\n",
       "      <th>venue</th>\n",
       "      <th>innings</th>\n",
       "      <th>ball</th>\n",
       "      <th>batting_team</th>\n",
       "      <th>bowling_team</th>\n",
       "      <th>striker</th>\n",
       "      <th>non_striker</th>\n",
       "      <th>...</th>\n",
       "      <th>runs_off_bat</th>\n",
       "      <th>extras</th>\n",
       "      <th>wides</th>\n",
       "      <th>noballs</th>\n",
       "      <th>byes</th>\n",
       "      <th>legbyes</th>\n",
       "      <th>wicket_type</th>\n",
       "      <th>player_dismissed</th>\n",
       "      <th>run</th>\n",
       "      <th>over</th>\n",
       "    </tr>\n",
       "  </thead>\n",
       "  <tbody>\n",
       "    <tr>\n",
       "      <th>0</th>\n",
       "      <td>335982</td>\n",
       "      <td>2008</td>\n",
       "      <td>2008-04-18</td>\n",
       "      <td>M.Chinnaswamy Stadium</td>\n",
       "      <td>1</td>\n",
       "      <td>0.1</td>\n",
       "      <td>Kolkata Knight Riders</td>\n",
       "      <td>Royal Challengers Bangalore</td>\n",
       "      <td>SC Ganguly</td>\n",
       "      <td>BB McCullum</td>\n",
       "      <td>...</td>\n",
       "      <td>0</td>\n",
       "      <td>1</td>\n",
       "      <td>0.0</td>\n",
       "      <td>0.0</td>\n",
       "      <td>0.0</td>\n",
       "      <td>1.0</td>\n",
       "      <td></td>\n",
       "      <td></td>\n",
       "      <td>1</td>\n",
       "      <td>0</td>\n",
       "    </tr>\n",
       "    <tr>\n",
       "      <th>1</th>\n",
       "      <td>335982</td>\n",
       "      <td>2008</td>\n",
       "      <td>2008-04-18</td>\n",
       "      <td>M.Chinnaswamy Stadium</td>\n",
       "      <td>1</td>\n",
       "      <td>0.2</td>\n",
       "      <td>Kolkata Knight Riders</td>\n",
       "      <td>Royal Challengers Bangalore</td>\n",
       "      <td>BB McCullum</td>\n",
       "      <td>SC Ganguly</td>\n",
       "      <td>...</td>\n",
       "      <td>0</td>\n",
       "      <td>0</td>\n",
       "      <td>0.0</td>\n",
       "      <td>0.0</td>\n",
       "      <td>0.0</td>\n",
       "      <td>0.0</td>\n",
       "      <td></td>\n",
       "      <td></td>\n",
       "      <td>0</td>\n",
       "      <td>0</td>\n",
       "    </tr>\n",
       "    <tr>\n",
       "      <th>2</th>\n",
       "      <td>335982</td>\n",
       "      <td>2008</td>\n",
       "      <td>2008-04-18</td>\n",
       "      <td>M.Chinnaswamy Stadium</td>\n",
       "      <td>1</td>\n",
       "      <td>0.3</td>\n",
       "      <td>Kolkata Knight Riders</td>\n",
       "      <td>Royal Challengers Bangalore</td>\n",
       "      <td>BB McCullum</td>\n",
       "      <td>SC Ganguly</td>\n",
       "      <td>...</td>\n",
       "      <td>0</td>\n",
       "      <td>1</td>\n",
       "      <td>1.0</td>\n",
       "      <td>0.0</td>\n",
       "      <td>0.0</td>\n",
       "      <td>0.0</td>\n",
       "      <td></td>\n",
       "      <td></td>\n",
       "      <td>1</td>\n",
       "      <td>0</td>\n",
       "    </tr>\n",
       "    <tr>\n",
       "      <th>3</th>\n",
       "      <td>335982</td>\n",
       "      <td>2008</td>\n",
       "      <td>2008-04-18</td>\n",
       "      <td>M.Chinnaswamy Stadium</td>\n",
       "      <td>1</td>\n",
       "      <td>0.4</td>\n",
       "      <td>Kolkata Knight Riders</td>\n",
       "      <td>Royal Challengers Bangalore</td>\n",
       "      <td>BB McCullum</td>\n",
       "      <td>SC Ganguly</td>\n",
       "      <td>...</td>\n",
       "      <td>0</td>\n",
       "      <td>0</td>\n",
       "      <td>0.0</td>\n",
       "      <td>0.0</td>\n",
       "      <td>0.0</td>\n",
       "      <td>0.0</td>\n",
       "      <td></td>\n",
       "      <td></td>\n",
       "      <td>0</td>\n",
       "      <td>0</td>\n",
       "    </tr>\n",
       "    <tr>\n",
       "      <th>4</th>\n",
       "      <td>335982</td>\n",
       "      <td>2008</td>\n",
       "      <td>2008-04-18</td>\n",
       "      <td>M.Chinnaswamy Stadium</td>\n",
       "      <td>1</td>\n",
       "      <td>0.5</td>\n",
       "      <td>Kolkata Knight Riders</td>\n",
       "      <td>Royal Challengers Bangalore</td>\n",
       "      <td>BB McCullum</td>\n",
       "      <td>SC Ganguly</td>\n",
       "      <td>...</td>\n",
       "      <td>0</td>\n",
       "      <td>0</td>\n",
       "      <td>0.0</td>\n",
       "      <td>0.0</td>\n",
       "      <td>0.0</td>\n",
       "      <td>0.0</td>\n",
       "      <td></td>\n",
       "      <td></td>\n",
       "      <td>0</td>\n",
       "      <td>0</td>\n",
       "    </tr>\n",
       "  </tbody>\n",
       "</table>\n",
       "<p>5 rows × 21 columns</p>\n",
       "</div>"
      ],
      "text/plain": [
       "   match_id  season  start_date                  venue  innings  ball  \\\n",
       "0    335982    2008  2008-04-18  M.Chinnaswamy Stadium        1   0.1   \n",
       "1    335982    2008  2008-04-18  M.Chinnaswamy Stadium        1   0.2   \n",
       "2    335982    2008  2008-04-18  M.Chinnaswamy Stadium        1   0.3   \n",
       "3    335982    2008  2008-04-18  M.Chinnaswamy Stadium        1   0.4   \n",
       "4    335982    2008  2008-04-18  M.Chinnaswamy Stadium        1   0.5   \n",
       "\n",
       "            batting_team                 bowling_team      striker  \\\n",
       "0  Kolkata Knight Riders  Royal Challengers Bangalore   SC Ganguly   \n",
       "1  Kolkata Knight Riders  Royal Challengers Bangalore  BB McCullum   \n",
       "2  Kolkata Knight Riders  Royal Challengers Bangalore  BB McCullum   \n",
       "3  Kolkata Knight Riders  Royal Challengers Bangalore  BB McCullum   \n",
       "4  Kolkata Knight Riders  Royal Challengers Bangalore  BB McCullum   \n",
       "\n",
       "   non_striker  ... runs_off_bat  extras  wides  noballs  byes  legbyes  \\\n",
       "0  BB McCullum  ...            0       1    0.0      0.0   0.0      1.0   \n",
       "1   SC Ganguly  ...            0       0    0.0      0.0   0.0      0.0   \n",
       "2   SC Ganguly  ...            0       1    1.0      0.0   0.0      0.0   \n",
       "3   SC Ganguly  ...            0       0    0.0      0.0   0.0      0.0   \n",
       "4   SC Ganguly  ...            0       0    0.0      0.0   0.0      0.0   \n",
       "\n",
       "   wicket_type player_dismissed run  over  \n",
       "0                                 1     0  \n",
       "1                                 0     0  \n",
       "2                                 1     0  \n",
       "3                                 0     0  \n",
       "4                                 0     0  \n",
       "\n",
       "[5 rows x 21 columns]"
      ]
     },
     "execution_count": 3,
     "metadata": {},
     "output_type": "execute_result"
    }
   ],
   "source": [
    "ipl_data1.head()     # ipl_data dataset"
   ]
  },
  {
   "cell_type": "code",
   "execution_count": 4,
   "id": "b417d8d8",
   "metadata": {},
   "outputs": [
    {
     "name": "stdout",
     "output_type": "stream",
     "text": [
      "<class 'pandas.core.frame.DataFrame'>\n",
      "RangeIndex: 194354 entries, 0 to 194353\n",
      "Data columns (total 21 columns):\n",
      " #   Column            Non-Null Count   Dtype  \n",
      "---  ------            --------------   -----  \n",
      " 0   match_id          194354 non-null  int64  \n",
      " 1   season            194354 non-null  int64  \n",
      " 2   start_date        194354 non-null  object \n",
      " 3   venue             194354 non-null  object \n",
      " 4   innings           194354 non-null  int64  \n",
      " 5   ball              194354 non-null  float64\n",
      " 6   batting_team      194354 non-null  object \n",
      " 7   bowling_team      194354 non-null  object \n",
      " 8   striker           194354 non-null  object \n",
      " 9   non_striker       194354 non-null  object \n",
      " 10  bowler            194354 non-null  object \n",
      " 11  runs_off_bat      194354 non-null  int64  \n",
      " 12  extras            194354 non-null  int64  \n",
      " 13  wides             194354 non-null  float64\n",
      " 14  noballs           194354 non-null  float64\n",
      " 15  byes              194354 non-null  float64\n",
      " 16  legbyes           194354 non-null  float64\n",
      " 17  wicket_type       194354 non-null  object \n",
      " 18  player_dismissed  194354 non-null  object \n",
      " 19  run               194354 non-null  int64  \n",
      " 20  over              194354 non-null  int64  \n",
      "dtypes: float64(5), int64(7), object(9)\n",
      "memory usage: 31.1+ MB\n"
     ]
    }
   ],
   "source": [
    "ipl_data1.info()"
   ]
  },
  {
   "cell_type": "code",
   "execution_count": 5,
   "id": "50edb7b4",
   "metadata": {},
   "outputs": [
    {
     "data": {
      "text/plain": [
       "match_id            0\n",
       "season              0\n",
       "start_date          0\n",
       "venue               0\n",
       "innings             0\n",
       "ball                0\n",
       "batting_team        0\n",
       "bowling_team        0\n",
       "striker             0\n",
       "non_striker         0\n",
       "bowler              0\n",
       "runs_off_bat        0\n",
       "extras              0\n",
       "wides               0\n",
       "noballs             0\n",
       "byes                0\n",
       "legbyes             0\n",
       "wicket_type         0\n",
       "player_dismissed    0\n",
       "run                 0\n",
       "over                0\n",
       "dtype: int64"
      ]
     },
     "execution_count": 5,
     "metadata": {},
     "output_type": "execute_result"
    }
   ],
   "source": [
    "ipl_data1.isnull().sum()    # Checking for missing values"
   ]
  },
  {
   "cell_type": "code",
   "execution_count": 6,
   "id": "de6c063c",
   "metadata": {},
   "outputs": [
    {
     "data": {
      "text/html": [
       "<div>\n",
       "<style scoped>\n",
       "    .dataframe tbody tr th:only-of-type {\n",
       "        vertical-align: middle;\n",
       "    }\n",
       "\n",
       "    .dataframe tbody tr th {\n",
       "        vertical-align: top;\n",
       "    }\n",
       "\n",
       "    .dataframe thead th {\n",
       "        text-align: right;\n",
       "    }\n",
       "</style>\n",
       "<table border=\"1\" class=\"dataframe\">\n",
       "  <thead>\n",
       "    <tr style=\"text-align: right;\">\n",
       "      <th></th>\n",
       "      <th>match_id</th>\n",
       "      <th>inning</th>\n",
       "      <th>batting_team</th>\n",
       "      <th>bowling_team</th>\n",
       "      <th>over</th>\n",
       "      <th>ball</th>\n",
       "      <th>batsman</th>\n",
       "      <th>non_striker</th>\n",
       "      <th>bowler</th>\n",
       "      <th>is_super_over</th>\n",
       "      <th>...</th>\n",
       "      <th>bye_runs</th>\n",
       "      <th>legbye_runs</th>\n",
       "      <th>noball_runs</th>\n",
       "      <th>penalty_runs</th>\n",
       "      <th>batsman_runs</th>\n",
       "      <th>extra_runs</th>\n",
       "      <th>total_runs</th>\n",
       "      <th>player_dismissed</th>\n",
       "      <th>dismissal_kind</th>\n",
       "      <th>fielder</th>\n",
       "    </tr>\n",
       "  </thead>\n",
       "  <tbody>\n",
       "    <tr>\n",
       "      <th>0</th>\n",
       "      <td>1</td>\n",
       "      <td>1</td>\n",
       "      <td>Sunrisers Hyderabad</td>\n",
       "      <td>Royal Challengers Bangalore</td>\n",
       "      <td>1</td>\n",
       "      <td>1</td>\n",
       "      <td>DA Warner</td>\n",
       "      <td>S Dhawan</td>\n",
       "      <td>TS Mills</td>\n",
       "      <td>0</td>\n",
       "      <td>...</td>\n",
       "      <td>0</td>\n",
       "      <td>0</td>\n",
       "      <td>0</td>\n",
       "      <td>0</td>\n",
       "      <td>0</td>\n",
       "      <td>0</td>\n",
       "      <td>0</td>\n",
       "      <td>NaN</td>\n",
       "      <td>NaN</td>\n",
       "      <td>NaN</td>\n",
       "    </tr>\n",
       "    <tr>\n",
       "      <th>1</th>\n",
       "      <td>1</td>\n",
       "      <td>1</td>\n",
       "      <td>Sunrisers Hyderabad</td>\n",
       "      <td>Royal Challengers Bangalore</td>\n",
       "      <td>1</td>\n",
       "      <td>2</td>\n",
       "      <td>DA Warner</td>\n",
       "      <td>S Dhawan</td>\n",
       "      <td>TS Mills</td>\n",
       "      <td>0</td>\n",
       "      <td>...</td>\n",
       "      <td>0</td>\n",
       "      <td>0</td>\n",
       "      <td>0</td>\n",
       "      <td>0</td>\n",
       "      <td>0</td>\n",
       "      <td>0</td>\n",
       "      <td>0</td>\n",
       "      <td>NaN</td>\n",
       "      <td>NaN</td>\n",
       "      <td>NaN</td>\n",
       "    </tr>\n",
       "    <tr>\n",
       "      <th>2</th>\n",
       "      <td>1</td>\n",
       "      <td>1</td>\n",
       "      <td>Sunrisers Hyderabad</td>\n",
       "      <td>Royal Challengers Bangalore</td>\n",
       "      <td>1</td>\n",
       "      <td>3</td>\n",
       "      <td>DA Warner</td>\n",
       "      <td>S Dhawan</td>\n",
       "      <td>TS Mills</td>\n",
       "      <td>0</td>\n",
       "      <td>...</td>\n",
       "      <td>0</td>\n",
       "      <td>0</td>\n",
       "      <td>0</td>\n",
       "      <td>0</td>\n",
       "      <td>4</td>\n",
       "      <td>0</td>\n",
       "      <td>4</td>\n",
       "      <td>NaN</td>\n",
       "      <td>NaN</td>\n",
       "      <td>NaN</td>\n",
       "    </tr>\n",
       "    <tr>\n",
       "      <th>3</th>\n",
       "      <td>1</td>\n",
       "      <td>1</td>\n",
       "      <td>Sunrisers Hyderabad</td>\n",
       "      <td>Royal Challengers Bangalore</td>\n",
       "      <td>1</td>\n",
       "      <td>4</td>\n",
       "      <td>DA Warner</td>\n",
       "      <td>S Dhawan</td>\n",
       "      <td>TS Mills</td>\n",
       "      <td>0</td>\n",
       "      <td>...</td>\n",
       "      <td>0</td>\n",
       "      <td>0</td>\n",
       "      <td>0</td>\n",
       "      <td>0</td>\n",
       "      <td>0</td>\n",
       "      <td>0</td>\n",
       "      <td>0</td>\n",
       "      <td>NaN</td>\n",
       "      <td>NaN</td>\n",
       "      <td>NaN</td>\n",
       "    </tr>\n",
       "    <tr>\n",
       "      <th>4</th>\n",
       "      <td>1</td>\n",
       "      <td>1</td>\n",
       "      <td>Sunrisers Hyderabad</td>\n",
       "      <td>Royal Challengers Bangalore</td>\n",
       "      <td>1</td>\n",
       "      <td>5</td>\n",
       "      <td>DA Warner</td>\n",
       "      <td>S Dhawan</td>\n",
       "      <td>TS Mills</td>\n",
       "      <td>0</td>\n",
       "      <td>...</td>\n",
       "      <td>0</td>\n",
       "      <td>0</td>\n",
       "      <td>0</td>\n",
       "      <td>0</td>\n",
       "      <td>0</td>\n",
       "      <td>2</td>\n",
       "      <td>2</td>\n",
       "      <td>NaN</td>\n",
       "      <td>NaN</td>\n",
       "      <td>NaN</td>\n",
       "    </tr>\n",
       "  </tbody>\n",
       "</table>\n",
       "<p>5 rows × 21 columns</p>\n",
       "</div>"
      ],
      "text/plain": [
       "   match_id  inning         batting_team                 bowling_team  over  \\\n",
       "0         1       1  Sunrisers Hyderabad  Royal Challengers Bangalore     1   \n",
       "1         1       1  Sunrisers Hyderabad  Royal Challengers Bangalore     1   \n",
       "2         1       1  Sunrisers Hyderabad  Royal Challengers Bangalore     1   \n",
       "3         1       1  Sunrisers Hyderabad  Royal Challengers Bangalore     1   \n",
       "4         1       1  Sunrisers Hyderabad  Royal Challengers Bangalore     1   \n",
       "\n",
       "   ball    batsman non_striker    bowler  is_super_over  ...  bye_runs  \\\n",
       "0     1  DA Warner    S Dhawan  TS Mills              0  ...         0   \n",
       "1     2  DA Warner    S Dhawan  TS Mills              0  ...         0   \n",
       "2     3  DA Warner    S Dhawan  TS Mills              0  ...         0   \n",
       "3     4  DA Warner    S Dhawan  TS Mills              0  ...         0   \n",
       "4     5  DA Warner    S Dhawan  TS Mills              0  ...         0   \n",
       "\n",
       "   legbye_runs  noball_runs  penalty_runs  batsman_runs  extra_runs  \\\n",
       "0            0            0             0             0           0   \n",
       "1            0            0             0             0           0   \n",
       "2            0            0             0             4           0   \n",
       "3            0            0             0             0           0   \n",
       "4            0            0             0             0           2   \n",
       "\n",
       "   total_runs  player_dismissed dismissal_kind fielder  \n",
       "0           0               NaN            NaN     NaN  \n",
       "1           0               NaN            NaN     NaN  \n",
       "2           4               NaN            NaN     NaN  \n",
       "3           0               NaN            NaN     NaN  \n",
       "4           2               NaN            NaN     NaN  \n",
       "\n",
       "[5 rows x 21 columns]"
      ]
     },
     "execution_count": 6,
     "metadata": {},
     "output_type": "execute_result"
    }
   ],
   "source": [
    "ipl_data2.head()    # deliveries dataset"
   ]
  },
  {
   "cell_type": "code",
   "execution_count": 7,
   "id": "26bb4553",
   "metadata": {},
   "outputs": [
    {
     "name": "stdout",
     "output_type": "stream",
     "text": [
      "<class 'pandas.core.frame.DataFrame'>\n",
      "RangeIndex: 150460 entries, 0 to 150459\n",
      "Data columns (total 21 columns):\n",
      " #   Column            Non-Null Count   Dtype \n",
      "---  ------            --------------   ----- \n",
      " 0   match_id          150460 non-null  int64 \n",
      " 1   inning            150460 non-null  int64 \n",
      " 2   batting_team      150460 non-null  object\n",
      " 3   bowling_team      150460 non-null  object\n",
      " 4   over              150460 non-null  int64 \n",
      " 5   ball              150460 non-null  int64 \n",
      " 6   batsman           150460 non-null  object\n",
      " 7   non_striker       150460 non-null  object\n",
      " 8   bowler            150460 non-null  object\n",
      " 9   is_super_over     150460 non-null  int64 \n",
      " 10  wide_runs         150460 non-null  int64 \n",
      " 11  bye_runs          150460 non-null  int64 \n",
      " 12  legbye_runs       150460 non-null  int64 \n",
      " 13  noball_runs       150460 non-null  int64 \n",
      " 14  penalty_runs      150460 non-null  int64 \n",
      " 15  batsman_runs      150460 non-null  int64 \n",
      " 16  extra_runs        150460 non-null  int64 \n",
      " 17  total_runs        150460 non-null  int64 \n",
      " 18  player_dismissed  7438 non-null    object\n",
      " 19  dismissal_kind    7438 non-null    object\n",
      " 20  fielder           5369 non-null    object\n",
      "dtypes: int64(13), object(8)\n",
      "memory usage: 24.1+ MB\n"
     ]
    }
   ],
   "source": [
    "ipl_data2.info()"
   ]
  },
  {
   "cell_type": "code",
   "execution_count": 8,
   "id": "8f701b54",
   "metadata": {},
   "outputs": [
    {
     "data": {
      "text/plain": [
       "match_id                 0\n",
       "inning                   0\n",
       "batting_team             0\n",
       "bowling_team             0\n",
       "over                     0\n",
       "ball                     0\n",
       "batsman                  0\n",
       "non_striker              0\n",
       "bowler                   0\n",
       "is_super_over            0\n",
       "wide_runs                0\n",
       "bye_runs                 0\n",
       "legbye_runs              0\n",
       "noball_runs              0\n",
       "penalty_runs             0\n",
       "batsman_runs             0\n",
       "extra_runs               0\n",
       "total_runs               0\n",
       "player_dismissed    143022\n",
       "dismissal_kind      143022\n",
       "fielder             145091\n",
       "dtype: int64"
      ]
     },
     "execution_count": 8,
     "metadata": {},
     "output_type": "execute_result"
    }
   ],
   "source": [
    "ipl_data2.isnull().sum()"
   ]
  },
  {
   "cell_type": "code",
   "execution_count": 9,
   "id": "5032d26d",
   "metadata": {},
   "outputs": [
    {
     "data": {
      "text/html": [
       "<div>\n",
       "<style scoped>\n",
       "    .dataframe tbody tr th:only-of-type {\n",
       "        vertical-align: middle;\n",
       "    }\n",
       "\n",
       "    .dataframe tbody tr th {\n",
       "        vertical-align: top;\n",
       "    }\n",
       "\n",
       "    .dataframe thead th {\n",
       "        text-align: right;\n",
       "    }\n",
       "</style>\n",
       "<table border=\"1\" class=\"dataframe\">\n",
       "  <thead>\n",
       "    <tr style=\"text-align: right;\">\n",
       "      <th></th>\n",
       "      <th>id</th>\n",
       "      <th>season</th>\n",
       "      <th>city</th>\n",
       "      <th>date</th>\n",
       "      <th>team1</th>\n",
       "      <th>team2</th>\n",
       "      <th>toss_winner</th>\n",
       "      <th>toss_decision</th>\n",
       "      <th>result</th>\n",
       "      <th>dl_applied</th>\n",
       "      <th>winner</th>\n",
       "      <th>win_by_runs</th>\n",
       "      <th>win_by_wickets</th>\n",
       "      <th>player_of_match</th>\n",
       "      <th>venue</th>\n",
       "      <th>umpire1</th>\n",
       "      <th>umpire2</th>\n",
       "      <th>umpire3</th>\n",
       "    </tr>\n",
       "  </thead>\n",
       "  <tbody>\n",
       "    <tr>\n",
       "      <th>0</th>\n",
       "      <td>1</td>\n",
       "      <td>2017</td>\n",
       "      <td>Hyderabad</td>\n",
       "      <td>2017-04-05</td>\n",
       "      <td>Sunrisers Hyderabad</td>\n",
       "      <td>Royal Challengers Bangalore</td>\n",
       "      <td>Royal Challengers Bangalore</td>\n",
       "      <td>field</td>\n",
       "      <td>normal</td>\n",
       "      <td>0</td>\n",
       "      <td>Sunrisers Hyderabad</td>\n",
       "      <td>35</td>\n",
       "      <td>0</td>\n",
       "      <td>Yuvraj Singh</td>\n",
       "      <td>Rajiv Gandhi International Stadium, Uppal</td>\n",
       "      <td>AY Dandekar</td>\n",
       "      <td>NJ Llong</td>\n",
       "      <td>NaN</td>\n",
       "    </tr>\n",
       "    <tr>\n",
       "      <th>1</th>\n",
       "      <td>2</td>\n",
       "      <td>2017</td>\n",
       "      <td>Pune</td>\n",
       "      <td>2017-04-06</td>\n",
       "      <td>Mumbai Indians</td>\n",
       "      <td>Rising Pune Supergiant</td>\n",
       "      <td>Rising Pune Supergiant</td>\n",
       "      <td>field</td>\n",
       "      <td>normal</td>\n",
       "      <td>0</td>\n",
       "      <td>Rising Pune Supergiant</td>\n",
       "      <td>0</td>\n",
       "      <td>7</td>\n",
       "      <td>SPD Smith</td>\n",
       "      <td>Maharashtra Cricket Association Stadium</td>\n",
       "      <td>A Nand Kishore</td>\n",
       "      <td>S Ravi</td>\n",
       "      <td>NaN</td>\n",
       "    </tr>\n",
       "    <tr>\n",
       "      <th>2</th>\n",
       "      <td>3</td>\n",
       "      <td>2017</td>\n",
       "      <td>Rajkot</td>\n",
       "      <td>2017-04-07</td>\n",
       "      <td>Gujarat Lions</td>\n",
       "      <td>Kolkata Knight Riders</td>\n",
       "      <td>Kolkata Knight Riders</td>\n",
       "      <td>field</td>\n",
       "      <td>normal</td>\n",
       "      <td>0</td>\n",
       "      <td>Kolkata Knight Riders</td>\n",
       "      <td>0</td>\n",
       "      <td>10</td>\n",
       "      <td>CA Lynn</td>\n",
       "      <td>Saurashtra Cricket Association Stadium</td>\n",
       "      <td>Nitin Menon</td>\n",
       "      <td>CK Nandan</td>\n",
       "      <td>NaN</td>\n",
       "    </tr>\n",
       "    <tr>\n",
       "      <th>3</th>\n",
       "      <td>4</td>\n",
       "      <td>2017</td>\n",
       "      <td>Indore</td>\n",
       "      <td>2017-04-08</td>\n",
       "      <td>Rising Pune Supergiant</td>\n",
       "      <td>Kings XI Punjab</td>\n",
       "      <td>Kings XI Punjab</td>\n",
       "      <td>field</td>\n",
       "      <td>normal</td>\n",
       "      <td>0</td>\n",
       "      <td>Kings XI Punjab</td>\n",
       "      <td>0</td>\n",
       "      <td>6</td>\n",
       "      <td>GJ Maxwell</td>\n",
       "      <td>Holkar Cricket Stadium</td>\n",
       "      <td>AK Chaudhary</td>\n",
       "      <td>C Shamshuddin</td>\n",
       "      <td>NaN</td>\n",
       "    </tr>\n",
       "    <tr>\n",
       "      <th>4</th>\n",
       "      <td>5</td>\n",
       "      <td>2017</td>\n",
       "      <td>Bangalore</td>\n",
       "      <td>2017-04-08</td>\n",
       "      <td>Royal Challengers Bangalore</td>\n",
       "      <td>Delhi Daredevils</td>\n",
       "      <td>Royal Challengers Bangalore</td>\n",
       "      <td>bat</td>\n",
       "      <td>normal</td>\n",
       "      <td>0</td>\n",
       "      <td>Royal Challengers Bangalore</td>\n",
       "      <td>15</td>\n",
       "      <td>0</td>\n",
       "      <td>KM Jadhav</td>\n",
       "      <td>M Chinnaswamy Stadium</td>\n",
       "      <td>NaN</td>\n",
       "      <td>NaN</td>\n",
       "      <td>NaN</td>\n",
       "    </tr>\n",
       "  </tbody>\n",
       "</table>\n",
       "</div>"
      ],
      "text/plain": [
       "   id  season       city        date                        team1  \\\n",
       "0   1    2017  Hyderabad  2017-04-05          Sunrisers Hyderabad   \n",
       "1   2    2017       Pune  2017-04-06               Mumbai Indians   \n",
       "2   3    2017     Rajkot  2017-04-07                Gujarat Lions   \n",
       "3   4    2017     Indore  2017-04-08       Rising Pune Supergiant   \n",
       "4   5    2017  Bangalore  2017-04-08  Royal Challengers Bangalore   \n",
       "\n",
       "                         team2                  toss_winner toss_decision  \\\n",
       "0  Royal Challengers Bangalore  Royal Challengers Bangalore         field   \n",
       "1       Rising Pune Supergiant       Rising Pune Supergiant         field   \n",
       "2        Kolkata Knight Riders        Kolkata Knight Riders         field   \n",
       "3              Kings XI Punjab              Kings XI Punjab         field   \n",
       "4             Delhi Daredevils  Royal Challengers Bangalore           bat   \n",
       "\n",
       "   result  dl_applied                       winner  win_by_runs  \\\n",
       "0  normal           0          Sunrisers Hyderabad           35   \n",
       "1  normal           0       Rising Pune Supergiant            0   \n",
       "2  normal           0        Kolkata Knight Riders            0   \n",
       "3  normal           0              Kings XI Punjab            0   \n",
       "4  normal           0  Royal Challengers Bangalore           15   \n",
       "\n",
       "   win_by_wickets player_of_match                                      venue  \\\n",
       "0               0    Yuvraj Singh  Rajiv Gandhi International Stadium, Uppal   \n",
       "1               7       SPD Smith    Maharashtra Cricket Association Stadium   \n",
       "2              10         CA Lynn     Saurashtra Cricket Association Stadium   \n",
       "3               6      GJ Maxwell                     Holkar Cricket Stadium   \n",
       "4               0       KM Jadhav                      M Chinnaswamy Stadium   \n",
       "\n",
       "          umpire1        umpire2  umpire3  \n",
       "0     AY Dandekar       NJ Llong      NaN  \n",
       "1  A Nand Kishore         S Ravi      NaN  \n",
       "2     Nitin Menon      CK Nandan      NaN  \n",
       "3    AK Chaudhary  C Shamshuddin      NaN  \n",
       "4             NaN            NaN      NaN  "
      ]
     },
     "execution_count": 9,
     "metadata": {},
     "output_type": "execute_result"
    }
   ],
   "source": [
    "match_data.head()    # matches played dataset"
   ]
  },
  {
   "cell_type": "code",
   "execution_count": 10,
   "id": "e10f029c",
   "metadata": {},
   "outputs": [
    {
     "name": "stdout",
     "output_type": "stream",
     "text": [
      "<class 'pandas.core.frame.DataFrame'>\n",
      "RangeIndex: 636 entries, 0 to 635\n",
      "Data columns (total 18 columns):\n",
      " #   Column           Non-Null Count  Dtype  \n",
      "---  ------           --------------  -----  \n",
      " 0   id               636 non-null    int64  \n",
      " 1   season           636 non-null    int64  \n",
      " 2   city             629 non-null    object \n",
      " 3   date             636 non-null    object \n",
      " 4   team1            636 non-null    object \n",
      " 5   team2            636 non-null    object \n",
      " 6   toss_winner      636 non-null    object \n",
      " 7   toss_decision    636 non-null    object \n",
      " 8   result           636 non-null    object \n",
      " 9   dl_applied       636 non-null    int64  \n",
      " 10  winner           633 non-null    object \n",
      " 11  win_by_runs      636 non-null    int64  \n",
      " 12  win_by_wickets   636 non-null    int64  \n",
      " 13  player_of_match  633 non-null    object \n",
      " 14  venue            636 non-null    object \n",
      " 15  umpire1          635 non-null    object \n",
      " 16  umpire2          635 non-null    object \n",
      " 17  umpire3          0 non-null      float64\n",
      "dtypes: float64(1), int64(5), object(12)\n",
      "memory usage: 89.6+ KB\n"
     ]
    }
   ],
   "source": [
    "match_data.info()"
   ]
  },
  {
   "cell_type": "code",
   "execution_count": 11,
   "id": "2d0283f6",
   "metadata": {},
   "outputs": [
    {
     "data": {
      "text/plain": [
       "id                   0\n",
       "season               0\n",
       "city                 7\n",
       "date                 0\n",
       "team1                0\n",
       "team2                0\n",
       "toss_winner          0\n",
       "toss_decision        0\n",
       "result               0\n",
       "dl_applied           0\n",
       "winner               3\n",
       "win_by_runs          0\n",
       "win_by_wickets       0\n",
       "player_of_match      3\n",
       "venue                0\n",
       "umpire1              1\n",
       "umpire2              1\n",
       "umpire3            636\n",
       "dtype: int64"
      ]
     },
     "execution_count": 11,
     "metadata": {},
     "output_type": "execute_result"
    }
   ],
   "source": [
    "match_data.isnull().sum()"
   ]
  },
  {
   "cell_type": "markdown",
   "id": "c4ba3048",
   "metadata": {},
   "source": [
    "In this stage, we have a good understanding about the datasets which we are going to use in this analysis. Moving forward I will guide you, whenever we switch between datasets to solve a given question.\n",
    "\n",
    "Let's get started!!"
   ]
  },
  {
   "cell_type": "markdown",
   "id": "018d10f2",
   "metadata": {},
   "source": [
    "### > Data Analysis:-"
   ]
  },
  {
   "cell_type": "markdown",
   "id": "bf6e65a0",
   "metadata": {},
   "source": [
    "### General Analysis:-"
   ]
  },
  {
   "cell_type": "markdown",
   "id": "9fbf905c",
   "metadata": {},
   "source": [
    "To answer most of the questions in this section, we will be using the *ipl_data1* dataset."
   ]
  },
  {
   "cell_type": "markdown",
   "id": "85e09291",
   "metadata": {},
   "source": [
    "**1. When and where was the first ever IPL match played? Which teams were going head-to-head in this iconic match??**"
   ]
  },
  {
   "cell_type": "code",
   "execution_count": 12,
   "id": "c06272a8",
   "metadata": {
    "scrolled": true
   },
   "outputs": [
    {
     "data": {
      "text/plain": [
       "match_id                                 335982\n",
       "season                                     2008\n",
       "start_date                           2008-04-18\n",
       "venue                     M.Chinnaswamy Stadium\n",
       "innings                                       1\n",
       "ball                                        0.1\n",
       "batting_team              Kolkata Knight Riders\n",
       "bowling_team        Royal Challengers Bangalore\n",
       "striker                              SC Ganguly\n",
       "non_striker                         BB McCullum\n",
       "bowler                                  P Kumar\n",
       "runs_off_bat                                  0\n",
       "extras                                        1\n",
       "wides                                       0.0\n",
       "noballs                                     0.0\n",
       "byes                                        0.0\n",
       "legbyes                                     1.0\n",
       "wicket_type                                    \n",
       "player_dismissed                               \n",
       "run                                           1\n",
       "over                                          0\n",
       "Name: 0, dtype: object"
      ]
     },
     "execution_count": 12,
     "metadata": {},
     "output_type": "execute_result"
    }
   ],
   "source": [
    "ipl_data1.iloc[0]    # Returns the first record (row) of the dataset"
   ]
  },
  {
   "cell_type": "markdown",
   "id": "571816b2",
   "metadata": {},
   "source": [
    "The first ever IPL match was played at **M.Chinnaswamy Stadium**, Bangalore on **18th April 2008**. The participating teams were **Royal Challengers Bangalore** and the **Kolkata Knight Riders**."
   ]
  },
  {
   "cell_type": "markdown",
   "id": "3f32c8b2",
   "metadata": {},
   "source": [
    "**2. How many venues have been used for IPL matches?**"
   ]
  },
  {
   "cell_type": "code",
   "execution_count": 13,
   "id": "0fd0080f",
   "metadata": {},
   "outputs": [
    {
     "data": {
      "text/plain": [
       "34"
      ]
     },
     "execution_count": 13,
     "metadata": {},
     "output_type": "execute_result"
    }
   ],
   "source": [
    "ipl_data1.venue.nunique()"
   ]
  },
  {
   "cell_type": "markdown",
   "id": "5350a868",
   "metadata": {},
   "source": [
    "**3. List Top 10 venues were most of the matches were played.**"
   ]
  },
  {
   "cell_type": "code",
   "execution_count": 14,
   "id": "679f154b",
   "metadata": {},
   "outputs": [
    {
     "data": {
      "text/plain": [
       "M.Chinnaswamy Stadium                                   80\n",
       "Eden Gardens                                            77\n",
       "Arun Jaitley Stadium                                    74\n",
       "Wankhede Stadium, Mumbai                                74\n",
       "Rajiv Gandhi International Stadium, Uppal               64\n",
       "MA Chidambaram Stadium, Chepauk, Chennai                59\n",
       "Punjab Cricket Association IS Bindra Stadium, Mohali    56\n",
       "Sawai Mansingh Stadium                                  47\n",
       "Dubai International Cricket Stadium                     33\n",
       "Sheikh Zayed Stadium                                    29\n",
       "Name: venue, dtype: int64"
      ]
     },
     "execution_count": 14,
     "metadata": {},
     "output_type": "execute_result"
    }
   ],
   "source": [
    "ipl_data1.groupby(['venue', 'match_id']).count().droplevel(level=1).index.value_counts()[:10]"
   ]
  },
  {
   "cell_type": "markdown",
   "id": "ad79767b",
   "metadata": {},
   "source": [
    "**4. How many matches were played in each seasons of IPL? Which seasons had more number of matches played in comparison with the other IPL seasons??**"
   ]
  },
  {
   "cell_type": "code",
   "execution_count": 15,
   "id": "e831478b",
   "metadata": {},
   "outputs": [],
   "source": [
    "data = ipl_data1.groupby(['match_id', 'season']).count().index.droplevel(level=0).value_counts().sort_index()"
   ]
  },
  {
   "cell_type": "code",
   "execution_count": 16,
   "id": "6aee6a6e",
   "metadata": {},
   "outputs": [
    {
     "data": {
      "text/plain": [
       "Text(0.5, 1.0, 'Seasons Vs Matches Played')"
      ]
     },
     "execution_count": 16,
     "metadata": {},
     "output_type": "execute_result"
    },
    {
     "data": {
      "image/png": "[encoded data removed]",
      "text/plain": [
       "<Figure size 720x576 with 1 Axes>"
      ]
     },
     "metadata": {
      "needs_background": "light"
     },
     "output_type": "display_data"
    }
   ],
   "source": [
    "# Let's visualize this info.\n",
    "plt.figure(figsize = (10, 8))\n",
    "sns.barplot(y = data.index, x = data, orient = 'h')\n",
    "plt.ylabel('Seasons')\n",
    "plt.xlabel('Num of matches played')\n",
    "plt.title('Seasons Vs Matches Played', fontsize = 14)"
   ]
  },
  {
   "cell_type": "markdown",
   "id": "32e8e075",
   "metadata": {},
   "source": [
    "It's clear from this visulization that, during the seasons **2011-2013**, maximum number of matches were played. Also, the visualization suggests that we have incomplete data for season 2021."
   ]
  },
  {
   "cell_type": "markdown",
   "id": "6a3a90ab",
   "metadata": {},
   "source": [
    "**5. Mention the names of all the team franchise played in the IPL.**"
   ]
  },
  {
   "cell_type": "code",
   "execution_count": 17,
   "id": "862aad58",
   "metadata": {},
   "outputs": [
    {
     "data": {
      "text/plain": [
       "array(['Kolkata Knight Riders', 'Royal Challengers Bangalore',\n",
       "       'Chennai Super Kings', 'Kings XI Punjab', 'Rajasthan Royals',\n",
       "       'Delhi Daredevils', 'Deccan Chargers', 'Mumbai Indians',\n",
       "       'Kochi Tuskers Kerala', 'Pune Warriors', 'Sunrisers Hyderabad',\n",
       "       'Rising Pune Supergiant', 'Gujarat Lions', 'Delhi Capitals'],\n",
       "      dtype=object)"
      ]
     },
     "execution_count": 17,
     "metadata": {},
     "output_type": "execute_result"
    }
   ],
   "source": [
    "ipl_data1.batting_team.unique()"
   ]
  },
  {
   "cell_type": "code",
   "execution_count": 18,
   "id": "5536df58",
   "metadata": {},
   "outputs": [
    {
     "data": {
      "text/plain": [
       "14"
      ]
     },
     "execution_count": 18,
     "metadata": {},
     "output_type": "execute_result"
    }
   ],
   "source": [
    "ipl_data1.batting_team.nunique()"
   ]
  },
  {
   "cell_type": "markdown",
   "id": "dde5ead8",
   "metadata": {},
   "source": [
    "In the updated list of teams, the name of team 'Delhi Daredevils' has been changed to 'Delhi Capitals' and 'Pune Warriors' to 'Rising Pune Supergiants'."
   ]
  },
  {
   "cell_type": "markdown",
   "id": "ce6cc773",
   "metadata": {},
   "source": [
    "**6. Which team has played the most number of matches in the IPL history?**"
   ]
  },
  {
   "cell_type": "code",
   "execution_count": 19,
   "id": "471f07b6",
   "metadata": {},
   "outputs": [
    {
     "data": {
      "text/plain": [
       "Text(0, 0.5, 'Teams')"
      ]
     },
     "execution_count": 19,
     "metadata": {},
     "output_type": "execute_result"
    },
    {
     "data": {
      "image/png": "[encoded data removed]",
      "text/plain": [
       "<Figure size 720x576 with 1 Axes>"
      ]
     },
     "metadata": {
      "needs_background": "light"
     },
     "output_type": "display_data"
    }
   ],
   "source": [
    "plt.figure(figsize = (10, 8))\n",
    "data = ipl_data1.batting_team.value_counts().sort_values(ascending = False)\n",
    "sns.barplot(y = data.index, x = data, orient = 'h')\n",
    "plt.xlabel('Num of Matches Played')\n",
    "plt.ylabel('Teams')"
   ]
  },
  {
   "cell_type": "markdown",
   "id": "d5d34375",
   "metadata": {},
   "source": [
    "Mumbai Indians have played the most number of matches in the IPL history. Interestingly, this result can also have influence on the highest number of matches won by any team or vice-versa. Let's check."
   ]
  },
  {
   "cell_type": "markdown",
   "id": "001b98e9",
   "metadata": {},
   "source": [
    "We will use the *match_data* dataset to check this result."
   ]
  },
  {
   "cell_type": "markdown",
   "id": "8be4a7c6",
   "metadata": {},
   "source": [
    "**7. Which teams have won the most number of matches?**"
   ]
  },
  {
   "cell_type": "code",
   "execution_count": 20,
   "id": "05e01cdd",
   "metadata": {},
   "outputs": [
    {
     "data": {
      "text/plain": [
       "Mumbai Indians                 92\n",
       "Chennai Super Kings            79\n",
       "Kolkata Knight Riders          77\n",
       "Royal Challengers Bangalore    73\n",
       "Kings XI Punjab                70\n",
       "Rajasthan Royals               63\n",
       "Delhi Daredevils               62\n",
       "Sunrisers Hyderabad            42\n",
       "Deccan Chargers                29\n",
       "Gujarat Lions                  13\n",
       "Pune Warriors                  12\n",
       "Rising Pune Supergiant         10\n",
       "Kochi Tuskers Kerala            6\n",
       "Rising Pune Supergiants         5\n",
       "Name: winner, dtype: int64"
      ]
     },
     "execution_count": 20,
     "metadata": {},
     "output_type": "execute_result"
    }
   ],
   "source": [
    "match_data['winner'].value_counts()"
   ]
  },
  {
   "cell_type": "markdown",
   "id": "14718819",
   "metadata": {},
   "source": [
    "Yes, we were right with our assumption. But one think to note here is that, match_data has data ranging between seasons 2008-2016. So, the assumption in this case is not 100% valid."
   ]
  },
  {
   "cell_type": "markdown",
   "id": "33428431",
   "metadata": {},
   "source": [
    "### Toss Analysis:-"
   ]
  },
  {
   "cell_type": "markdown",
   "id": "305c6c15",
   "metadata": {},
   "source": [
    "We will be using the match_data dataset in this section."
   ]
  },
  {
   "cell_type": "code",
   "execution_count": 21,
   "id": "f25489f4",
   "metadata": {},
   "outputs": [
    {
     "data": {
      "text/plain": [
       "Index(['id', 'season', 'city', 'date', 'team1', 'team2', 'toss_winner',\n",
       "       'toss_decision', 'result', 'dl_applied', 'winner', 'win_by_runs',\n",
       "       'win_by_wickets', 'player_of_match', 'venue', 'umpire1', 'umpire2',\n",
       "       'umpire3'],\n",
       "      dtype='object')"
      ]
     },
     "execution_count": 21,
     "metadata": {},
     "output_type": "execute_result"
    }
   ],
   "source": [
    "match_data.columns"
   ]
  },
  {
   "cell_type": "markdown",
   "id": "22bc71b7",
   "metadata": {},
   "source": [
    "**8. Which team has won the most number of tosses?**"
   ]
  },
  {
   "cell_type": "code",
   "execution_count": 22,
   "id": "6be8ff02",
   "metadata": {},
   "outputs": [
    {
     "data": {
      "text/plain": [
       "Mumbai Indians                 85\n",
       "Kolkata Knight Riders          78\n",
       "Delhi Daredevils               72\n",
       "Royal Challengers Bangalore    70\n",
       "Kings XI Punjab                68\n",
       "Chennai Super Kings            66\n",
       "Rajasthan Royals               63\n",
       "Deccan Chargers                43\n",
       "Sunrisers Hyderabad            35\n",
       "Pune Warriors                  20\n",
       "Gujarat Lions                  15\n",
       "Kochi Tuskers Kerala            8\n",
       "Rising Pune Supergiants         7\n",
       "Rising Pune Supergiant          6\n",
       "Name: toss_winner, dtype: int64"
      ]
     },
     "execution_count": 22,
     "metadata": {},
     "output_type": "execute_result"
    }
   ],
   "source": [
    "match_data['toss_winner'].value_counts()"
   ]
  },
  {
   "cell_type": "markdown",
   "id": "e3107f83",
   "metadata": {},
   "source": [
    "There seems to be some type of relation between the number of matches played by a team and the number of tosses won. Its suprising because both these variables are independent of each other.\n",
    "\n",
    "Mumbai Indians, Kolkata Knight Riders and Royal Challengers Bangalore have played the most number of matches. Also they have won the most number of tosses. Delhi Capitals in this case are ahead of RCB, thanks to Virat Kohli's luck during tosses(Lost most of the tosses as a captain)."
   ]
  },
  {
   "cell_type": "markdown",
   "id": "c9d8c58d",
   "metadata": {},
   "source": [
    "**9. What is the most preferred choice by the captains after winning the toss?**"
   ]
  },
  {
   "cell_type": "code",
   "execution_count": 23,
   "id": "0f72427c",
   "metadata": {},
   "outputs": [
    {
     "data": {
      "text/plain": [
       "<AxesSubplot:xlabel='toss_decision', ylabel='count'>"
      ]
     },
     "execution_count": 23,
     "metadata": {},
     "output_type": "execute_result"
    },
    {
     "data": {
      "image/png": "[encoded data removed]",
      "text/plain": [
       "<Figure size 360x288 with 1 Axes>"
      ]
     },
     "metadata": {
      "needs_background": "light"
     },
     "output_type": "display_data"
    }
   ],
   "source": [
    "plt.figure(figsize = (5,4))\n",
    "sns.countplot(match_data.toss_decision)"
   ]
  },
  {
   "cell_type": "markdown",
   "id": "00f011b7",
   "metadata": {},
   "source": [
    "The data suggests had teams are comfortable chasing in most of the cases after winning the toss."
   ]
  },
  {
   "cell_type": "markdown",
   "id": "c183d1d4",
   "metadata": {},
   "source": [
    "**10. What is the percentage of matches won by teams batting 1st?**"
   ]
  },
  {
   "cell_type": "code",
   "execution_count": 24,
   "id": "4efb2656",
   "metadata": {},
   "outputs": [
    {
     "data": {
      "text/plain": [
       "287"
      ]
     },
     "execution_count": 24,
     "metadata": {},
     "output_type": "execute_result"
    }
   ],
   "source": [
    "win_by_batting_1st = match_data[match_data[\"win_by_runs\"] != 0]\n",
    "len(win_by_batting_1st)"
   ]
  },
  {
   "cell_type": "code",
   "execution_count": 25,
   "id": "bc8404cc",
   "metadata": {},
   "outputs": [
    {
     "name": "stdout",
     "output_type": "stream",
     "text": [
      "The percentage of matches won by teams batting 1st is 45.13 %\n"
     ]
    }
   ],
   "source": [
    "batting_1st_win_percent = len(win_by_batting_1st) / len(match_data) * 100\n",
    "print(f\"The percentage of matches won by teams batting 1st is {round(batting_1st_win_percent, 2)} %\")"
   ]
  },
  {
   "cell_type": "markdown",
   "id": "ed70ef5e",
   "metadata": {},
   "source": [
    "**11. What is the percentage of matches won by teams batting 2nd?**"
   ]
  },
  {
   "cell_type": "code",
   "execution_count": 26,
   "id": "9d9b2a1e",
   "metadata": {},
   "outputs": [
    {
     "data": {
      "text/plain": [
       "339"
      ]
     },
     "execution_count": 26,
     "metadata": {},
     "output_type": "execute_result"
    }
   ],
   "source": [
    "win_by_batting_2nd = match_data[match_data[\"win_by_wickets\"] != 0]\n",
    "len(win_by_batting_2nd)"
   ]
  },
  {
   "cell_type": "code",
   "execution_count": 27,
   "id": "e18736ad",
   "metadata": {},
   "outputs": [
    {
     "name": "stdout",
     "output_type": "stream",
     "text": [
      "The percentage of matches won by teams batting 2nd is 53.3 %\n"
     ]
    }
   ],
   "source": [
    "batting_2nd_win_percent = len(win_by_batting_2nd) / len(match_data) * 100\n",
    "print(f\"The percentage of matches won by teams batting 2nd is {round(batting_2nd_win_percent, 2)} %\")"
   ]
  },
  {
   "cell_type": "markdown",
   "id": "78ee3ad2",
   "metadata": {},
   "source": [
    "**12. Which team has converted most toss wins to match wins?**"
   ]
  },
  {
   "cell_type": "markdown",
   "id": "975fe5a9",
   "metadata": {},
   "source": [
    "To understand the results of this question, we will be creating a dataframe having relevant information."
   ]
  },
  {
   "cell_type": "code",
   "execution_count": 28,
   "id": "7e7e4d36",
   "metadata": {},
   "outputs": [
    {
     "data": {
      "text/plain": [
       "Mumbai Indians                 48\n",
       "Kolkata Knight Riders          44\n",
       "Chennai Super Kings            42\n",
       "Royal Challengers Bangalore    35\n",
       "Rajasthan Royals               34\n",
       "Delhi Daredevils               33\n",
       "Kings XI Punjab                28\n",
       "Deccan Chargers                19\n",
       "Sunrisers Hyderabad            17\n",
       "Gujarat Lions                  10\n",
       "Rising Pune Supergiant          5\n",
       "Kochi Tuskers Kerala            4\n",
       "Pune Warriors                   3\n",
       "Rising Pune Supergiants         3\n",
       "Name: winner, dtype: int64"
      ]
     },
     "execution_count": 28,
     "metadata": {},
     "output_type": "execute_result"
    }
   ],
   "source": [
    "# Total number of matches were teams won the toss and also the match.\n",
    "toss_and_match_won = match_data[match_data['toss_winner'] == match_data['winner']]['winner'].value_counts()\n",
    "toss_and_match_won"
   ]
  },
  {
   "cell_type": "code",
   "execution_count": 29,
   "id": "601b25b7",
   "metadata": {},
   "outputs": [
    {
     "data": {
      "text/plain": [
       "Mumbai Indians                 85\n",
       "Kolkata Knight Riders          78\n",
       "Delhi Daredevils               72\n",
       "Royal Challengers Bangalore    70\n",
       "Kings XI Punjab                68\n",
       "Chennai Super Kings            66\n",
       "Rajasthan Royals               63\n",
       "Deccan Chargers                43\n",
       "Sunrisers Hyderabad            35\n",
       "Pune Warriors                  20\n",
       "Gujarat Lions                  15\n",
       "Kochi Tuskers Kerala            8\n",
       "Rising Pune Supergiants         7\n",
       "Rising Pune Supergiant          6\n",
       "Name: toss_winner, dtype: int64"
      ]
     },
     "execution_count": 29,
     "metadata": {},
     "output_type": "execute_result"
    }
   ],
   "source": [
    "# Total toss wins by teams.\n",
    "total_toss_wins_by_teams = match_data['toss_winner'].value_counts()\n",
    "total_toss_wins_by_teams"
   ]
  },
  {
   "cell_type": "code",
   "execution_count": 30,
   "id": "4baff2d4",
   "metadata": {},
   "outputs": [],
   "source": [
    "toss_and_match_won = pd.DataFrame(toss_and_match_won.values, index = toss_and_match_won.index, columns = ['Match Wins'])\n",
    "total_toss_wins_by_teams = pd.DataFrame(total_toss_wins_by_teams.values, index = total_toss_wins_by_teams.index, columns = ['Total Toss Wins'])"
   ]
  },
  {
   "cell_type": "code",
   "execution_count": 31,
   "id": "32b4e79c",
   "metadata": {},
   "outputs": [],
   "source": [
    "# Creating a new column that holds the percentage of toss wins to match wins.\n",
    "toss_wins_to_match_wins_percent = total_toss_wins_by_teams.join(toss_and_match_won)\n",
    "toss_wins_to_match_wins_percent['toss_and_match_win_percent'] = toss_wins_to_match_wins_percent['Match Wins'] / toss_wins_to_match_wins_percent['Total Toss Wins'] * 100"
   ]
  },
  {
   "cell_type": "code",
   "execution_count": 32,
   "id": "fe2e7b05",
   "metadata": {},
   "outputs": [
    {
     "data": {
      "text/html": [
       "<div>\n",
       "<style scoped>\n",
       "    .dataframe tbody tr th:only-of-type {\n",
       "        vertical-align: middle;\n",
       "    }\n",
       "\n",
       "    .dataframe tbody tr th {\n",
       "        vertical-align: top;\n",
       "    }\n",
       "\n",
       "    .dataframe thead th {\n",
       "        text-align: right;\n",
       "    }\n",
       "</style>\n",
       "<table border=\"1\" class=\"dataframe\">\n",
       "  <thead>\n",
       "    <tr style=\"text-align: right;\">\n",
       "      <th></th>\n",
       "      <th>Total Toss Wins</th>\n",
       "      <th>Match Wins</th>\n",
       "      <th>toss_and_match_win_percent</th>\n",
       "    </tr>\n",
       "  </thead>\n",
       "  <tbody>\n",
       "    <tr>\n",
       "      <th>Mumbai Indians</th>\n",
       "      <td>85</td>\n",
       "      <td>48</td>\n",
       "      <td>56.470588</td>\n",
       "    </tr>\n",
       "    <tr>\n",
       "      <th>Kolkata Knight Riders</th>\n",
       "      <td>78</td>\n",
       "      <td>44</td>\n",
       "      <td>56.410256</td>\n",
       "    </tr>\n",
       "    <tr>\n",
       "      <th>Delhi Daredevils</th>\n",
       "      <td>72</td>\n",
       "      <td>33</td>\n",
       "      <td>45.833333</td>\n",
       "    </tr>\n",
       "    <tr>\n",
       "      <th>Royal Challengers Bangalore</th>\n",
       "      <td>70</td>\n",
       "      <td>35</td>\n",
       "      <td>50.000000</td>\n",
       "    </tr>\n",
       "    <tr>\n",
       "      <th>Kings XI Punjab</th>\n",
       "      <td>68</td>\n",
       "      <td>28</td>\n",
       "      <td>41.176471</td>\n",
       "    </tr>\n",
       "    <tr>\n",
       "      <th>Chennai Super Kings</th>\n",
       "      <td>66</td>\n",
       "      <td>42</td>\n",
       "      <td>63.636364</td>\n",
       "    </tr>\n",
       "    <tr>\n",
       "      <th>Rajasthan Royals</th>\n",
       "      <td>63</td>\n",
       "      <td>34</td>\n",
       "      <td>53.968254</td>\n",
       "    </tr>\n",
       "    <tr>\n",
       "      <th>Deccan Chargers</th>\n",
       "      <td>43</td>\n",
       "      <td>19</td>\n",
       "      <td>44.186047</td>\n",
       "    </tr>\n",
       "    <tr>\n",
       "      <th>Sunrisers Hyderabad</th>\n",
       "      <td>35</td>\n",
       "      <td>17</td>\n",
       "      <td>48.571429</td>\n",
       "    </tr>\n",
       "    <tr>\n",
       "      <th>Pune Warriors</th>\n",
       "      <td>20</td>\n",
       "      <td>3</td>\n",
       "      <td>15.000000</td>\n",
       "    </tr>\n",
       "    <tr>\n",
       "      <th>Gujarat Lions</th>\n",
       "      <td>15</td>\n",
       "      <td>10</td>\n",
       "      <td>66.666667</td>\n",
       "    </tr>\n",
       "    <tr>\n",
       "      <th>Kochi Tuskers Kerala</th>\n",
       "      <td>8</td>\n",
       "      <td>4</td>\n",
       "      <td>50.000000</td>\n",
       "    </tr>\n",
       "    <tr>\n",
       "      <th>Rising Pune Supergiants</th>\n",
       "      <td>7</td>\n",
       "      <td>3</td>\n",
       "      <td>42.857143</td>\n",
       "    </tr>\n",
       "    <tr>\n",
       "      <th>Rising Pune Supergiant</th>\n",
       "      <td>6</td>\n",
       "      <td>5</td>\n",
       "      <td>83.333333</td>\n",
       "    </tr>\n",
       "  </tbody>\n",
       "</table>\n",
       "</div>"
      ],
      "text/plain": [
       "                             Total Toss Wins  Match Wins  \\\n",
       "Mumbai Indians                            85          48   \n",
       "Kolkata Knight Riders                     78          44   \n",
       "Delhi Daredevils                          72          33   \n",
       "Royal Challengers Bangalore               70          35   \n",
       "Kings XI Punjab                           68          28   \n",
       "Chennai Super Kings                       66          42   \n",
       "Rajasthan Royals                          63          34   \n",
       "Deccan Chargers                           43          19   \n",
       "Sunrisers Hyderabad                       35          17   \n",
       "Pune Warriors                             20           3   \n",
       "Gujarat Lions                             15          10   \n",
       "Kochi Tuskers Kerala                       8           4   \n",
       "Rising Pune Supergiants                    7           3   \n",
       "Rising Pune Supergiant                     6           5   \n",
       "\n",
       "                             toss_and_match_win_percent  \n",
       "Mumbai Indians                                56.470588  \n",
       "Kolkata Knight Riders                         56.410256  \n",
       "Delhi Daredevils                              45.833333  \n",
       "Royal Challengers Bangalore                   50.000000  \n",
       "Kings XI Punjab                               41.176471  \n",
       "Chennai Super Kings                           63.636364  \n",
       "Rajasthan Royals                              53.968254  \n",
       "Deccan Chargers                               44.186047  \n",
       "Sunrisers Hyderabad                           48.571429  \n",
       "Pune Warriors                                 15.000000  \n",
       "Gujarat Lions                                 66.666667  \n",
       "Kochi Tuskers Kerala                          50.000000  \n",
       "Rising Pune Supergiants                       42.857143  \n",
       "Rising Pune Supergiant                        83.333333  "
      ]
     },
     "execution_count": 32,
     "metadata": {},
     "output_type": "execute_result"
    }
   ],
   "source": [
    "toss_wins_to_match_wins_percent"
   ]
  },
  {
   "cell_type": "markdown",
   "id": "daa5c9e3",
   "metadata": {},
   "source": [
    "### Batting Analysis:-"
   ]
  },
  {
   "cell_type": "markdown",
   "id": "a7425313",
   "metadata": {},
   "source": [
    "We will use the *ipl_data1* dataset in this section"
   ]
  },
  {
   "cell_type": "markdown",
   "id": "8387e78b",
   "metadata": {},
   "source": [
    "**13. Which teams have scored the most number of runs in IPL?**"
   ]
  },
  {
   "cell_type": "code",
   "execution_count": 33,
   "id": "2a0244f2",
   "metadata": {
    "scrolled": true
   },
   "outputs": [
    {
     "data": {
      "text/plain": [
       "batting_team\n",
       "Mumbai Indians                 32488\n",
       "Royal Challengers Bangalore    30415\n",
       "Kings XI Punjab                30064\n",
       "Kolkata Knight Riders          29606\n",
       "Chennai Super Kings            28560\n",
       "Rajasthan Royals               24542\n",
       "Delhi Daredevils               24296\n",
       "Sunrisers Hyderabad            19539\n",
       "Deccan Chargers                11463\n",
       "Pune Warriors                   6358\n",
       "Delhi Capitals                  5499\n",
       "Gujarat Lions                   4862\n",
       "Rising Pune Supergiant          4533\n",
       "Kochi Tuskers Kerala            1901\n",
       "Name: run, dtype: int64"
      ]
     },
     "execution_count": 33,
     "metadata": {},
     "output_type": "execute_result"
    }
   ],
   "source": [
    "ipl_data1.groupby(['batting_team'])['run'].sum().sort_values(ascending=False)"
   ]
  },
  {
   "cell_type": "markdown",
   "id": "561aed5f",
   "metadata": {},
   "source": [
    "**14. What is the average powerplay score by the teams?**"
   ]
  },
  {
   "cell_type": "markdown",
   "id": "7ab95fe7",
   "metadata": {},
   "source": [
    "Before we move ahead, we would like to replace 'Delhi Daredevils' with 'Delhi Capitals' and 'Pune Warriors' with 'Rising Pune Supergiant'."
   ]
  },
  {
   "cell_type": "code",
   "execution_count": 34,
   "id": "37fb2c4e",
   "metadata": {},
   "outputs": [],
   "source": [
    "ipl_data1['batting_team'].replace({'Delhi Daredevils' : 'Delhi Capitals', 'Pune Warriors' : 'Rising Pune Supergiant'}, inplace = True)"
   ]
  },
  {
   "cell_type": "code",
   "execution_count": 35,
   "id": "22ccf999",
   "metadata": {
    "scrolled": true
   },
   "outputs": [
    {
     "data": {
      "text/plain": [
       "batting_team\n",
       "Sunrisers Hyderabad            47.856000\n",
       "Kings XI Punjab                47.126316\n",
       "Kolkata Knight Riders          46.409326\n",
       "Delhi Capitals                 46.143590\n",
       "Deccan Chargers                45.560000\n",
       "Mumbai Indians                 45.529412\n",
       "Chennai Super Kings            45.195531\n",
       "Rajasthan Royals               44.912500\n",
       "Royal Challengers Bangalore    44.826531\n",
       "Rising Pune Supergiant         44.240000\n",
       "Name: run, dtype: float64"
      ]
     },
     "execution_count": 35,
     "metadata": {},
     "output_type": "execute_result"
    }
   ],
   "source": [
    "ipl_data1[ipl_data1['over'] < 6].groupby(['match_id', 'batting_team']).sum()['run'].groupby('batting_team').mean().sort_values(ascending = False)[2:]"
   ]
  },
  {
   "cell_type": "markdown",
   "id": "b15fc5fc",
   "metadata": {},
   "source": [
    "The replacement step performed above is curious to answer this question. If not then 'Delhi Capitals' would have top this list, which would be a misleading conclusion."
   ]
  },
  {
   "cell_type": "markdown",
   "id": "4783fe13",
   "metadata": {},
   "source": [
    "**15. Mention the list of Top 5 highest team scores in IPL.**"
   ]
  },
  {
   "cell_type": "code",
   "execution_count": 36,
   "id": "a67e0c61",
   "metadata": {},
   "outputs": [
    {
     "data": {
      "text/plain": [
       "batting_team\n",
       "Royal Challengers Bangalore    263\n",
       "Royal Challengers Bangalore    248\n",
       "Chennai Super Kings            246\n",
       "Kolkata Knight Riders          245\n",
       "Chennai Super Kings            240\n",
       "Name: run, dtype: int64"
      ]
     },
     "execution_count": 36,
     "metadata": {},
     "output_type": "execute_result"
    }
   ],
   "source": [
    "ipl_data1.groupby(['start_date','batting_team']).sum()['run'].droplevel(level=0).sort_values(ascending=False)[:5]"
   ]
  },
  {
   "cell_type": "markdown",
   "id": "6501afc7",
   "metadata": {},
   "source": [
    "**16. Which batsman has scored the most number of runs in the IPL history?**"
   ]
  },
  {
   "cell_type": "code",
   "execution_count": 37,
   "id": "ed321707",
   "metadata": {},
   "outputs": [
    {
     "data": {
      "image/png": "[encoded data removed]",
      "text/plain": [
       "<Figure size 504x360 with 1 Axes>"
      ]
     },
     "metadata": {
      "needs_background": "light"
     },
     "output_type": "display_data"
    }
   ],
   "source": [
    "plt.figure(figsize = (7, 5))\n",
    "most_runs_data = ipl_data1.groupby(['striker'])['runs_off_bat'].sum().sort_values(ascending = False)\n",
    "first_5 = most_runs_data[:5]\n",
    "sns.barplot(y = first_5.index, x = first_5, orient= 'h')\n",
    "plt.xlabel('Runs Scored')\n",
    "plt.ylabel('Name of the Batsman')\n",
    "plt.show()"
   ]
  },
  {
   "cell_type": "markdown",
   "id": "bf925c24",
   "metadata": {},
   "source": [
    "King Kohli has scored the most number of runs in IPL with close to 6000 runs. Followed him is Suresh Raina and the Gabbar, Shikhar Dhawan."
   ]
  },
  {
   "cell_type": "markdown",
   "id": "e064f5ad",
   "metadata": {},
   "source": [
    "**17. Which batsman has scored the most number of centuries in IPL?**"
   ]
  },
  {
   "cell_type": "code",
   "execution_count": 38,
   "id": "cdefa512",
   "metadata": {},
   "outputs": [
    {
     "data": {
      "text/plain": [
       "striker\n",
       "CH Gayle          6\n",
       "V Kohli           5\n",
       "DA Warner         4\n",
       "SR Watson         4\n",
       "AB de Villiers    3\n",
       "HM Amla           2\n",
       "M Vijay           2\n",
       "KL Rahul          2\n",
       "SV Samson         2\n",
       "S Dhawan          2\n",
       "Name: runs_off_bat, dtype: int64"
      ]
     },
     "execution_count": 38,
     "metadata": {},
     "output_type": "execute_result"
    }
   ],
   "source": [
    "runs = ipl_data1.groupby(['striker','match_id'])['runs_off_bat'].sum()\n",
    "runs[runs >= 100].droplevel(level=1).groupby('striker').count().sort_values(ascending=False)[:10]"
   ]
  },
  {
   "cell_type": "markdown",
   "id": "40daa3bb",
   "metadata": {},
   "source": [
    "**18. Which batsman as scored the most number of fifties in the IPL?**"
   ]
  },
  {
   "cell_type": "code",
   "execution_count": 39,
   "id": "4923eae7",
   "metadata": {
    "scrolled": true
   },
   "outputs": [
    {
     "data": {
      "text/plain": [
       "Text(0, 0.5, 'Batsman')"
      ]
     },
     "execution_count": 39,
     "metadata": {},
     "output_type": "execute_result"
    },
    {
     "data": {
      "image/png": "[encoded data removed]",
      "text/plain": [
       "<Figure size 720x576 with 1 Axes>"
      ]
     },
     "metadata": {
      "needs_background": "light"
     },
     "output_type": "display_data"
    }
   ],
   "source": [
    "plt.figure(figsize=(10,8))\n",
    "runs = ipl_data1.groupby(['striker','start_date'])['runs_off_bat'].sum()\n",
    "data = runs[runs >= 50].droplevel(level=1).groupby('striker').count().sort_values(ascending=False)[:10]\n",
    "sns.barplot(y=data.index,x=data,orient='h')\n",
    "plt.xlabel('Half-Centuries')\n",
    "plt.ylabel('Batsman')"
   ]
  },
  {
   "cell_type": "markdown",
   "id": "32ff0d72",
   "metadata": {},
   "source": [
    "David Warner have perform marvolusly well when talking about the number of fifties. Second in the list is the run-machine, King Kohli."
   ]
  },
  {
   "cell_type": "markdown",
   "id": "49f66136",
   "metadata": {},
   "source": [
    "**19. Which batsman has scored the highest individual score in IPL?**"
   ]
  },
  {
   "cell_type": "code",
   "execution_count": 40,
   "id": "cd11f921",
   "metadata": {},
   "outputs": [
    {
     "data": {
      "text/plain": [
       "striker         start_date\n",
       "CH Gayle        2013-04-23    175\n",
       "BB McCullum     2008-04-18    158\n",
       "AB de Villiers  2015-05-10    133\n",
       "KL Rahul        2020-09-24    132\n",
       "AB de Villiers  2016-05-14    129\n",
       "CH Gayle        2012-05-17    128\n",
       "RR Pant         2018-05-10    128\n",
       "M Vijay         2010-04-03    127\n",
       "DA Warner       2017-04-30    126\n",
       "V Sehwag        2014-05-30    122\n",
       "Name: runs_off_bat, dtype: int64"
      ]
     },
     "execution_count": 40,
     "metadata": {},
     "output_type": "execute_result"
    }
   ],
   "source": [
    "ipl_data1.groupby(['striker','start_date'])['runs_off_bat'].sum().sort_values(ascending=False)[:10]"
   ]
  },
  {
   "cell_type": "markdown",
   "id": "05e1f368",
   "metadata": {},
   "source": [
    "Chris Gayle has been a successful player in IPL, having records for the highest ever individual score in an IPL match, most number of sixes in an inning and most number of sixes in all IPL seasons. He is a destructive player and a nightmare for many indian and overseas bowlers."
   ]
  },
  {
   "cell_type": "markdown",
   "id": "30e84577",
   "metadata": {},
   "source": [
    "**20. Which batsman has scored the most number of 6's in IPL?**"
   ]
  },
  {
   "cell_type": "code",
   "execution_count": 41,
   "id": "ff486e71",
   "metadata": {},
   "outputs": [
    {
     "data": {
      "text/plain": [
       "Text(0, 0.5, 'Name of the batsman')"
      ]
     },
     "execution_count": 41,
     "metadata": {},
     "output_type": "execute_result"
    },
    {
     "data": {
      "image/png": "[encoded data removed]",
      "text/plain": [
       "<Figure size 504x360 with 1 Axes>"
      ]
     },
     "metadata": {
      "needs_background": "light"
     },
     "output_type": "display_data"
    }
   ],
   "source": [
    "plt.figure(figsize = (7,5))\n",
    "most_6 = ipl_data1[ipl_data1['runs_off_bat'] == 6]['striker'].value_counts()\n",
    "first_5 = most_6[:5]\n",
    "sns.barplot(y = first_5.index, x = first_5, orient = 'h')\n",
    "plt.xlabel(\"Number of 6's scored\")\n",
    "plt.ylabel(\"Name of the batsman\")"
   ]
  },
  {
   "cell_type": "markdown",
   "id": "35b8e3c1",
   "metadata": {},
   "source": [
    "**21. List of Top 10 batsmans who have hit the most number of sixes in an inning.**"
   ]
  },
  {
   "cell_type": "code",
   "execution_count": 42,
   "id": "72f9da92",
   "metadata": {},
   "outputs": [
    {
     "data": {
      "text/plain": [
       "striker\n",
       "CH Gayle          17\n",
       "BB McCullum       13\n",
       "CH Gayle          13\n",
       "CH Gayle          12\n",
       "AB de Villiers    12\n",
       "M Vijay           11\n",
       "CH Gayle          11\n",
       "AD Russell        11\n",
       "ST Jayasuriya     11\n",
       "SS Iyer           10\n",
       "Name: season, dtype: int64"
      ]
     },
     "execution_count": 42,
     "metadata": {},
     "output_type": "execute_result"
    }
   ],
   "source": [
    "ipl_data1[ipl_data1['runs_off_bat'] == 6].groupby(['start_date','striker']).count()['season'].sort_values(ascending=False).droplevel(level=0)[:10]"
   ]
  },
  {
   "cell_type": "markdown",
   "id": "406bc5d7",
   "metadata": {},
   "source": [
    "Chris Gayle is a true legend and a hard hitting batsman. Second in this list is Brendon McCullum, thanks to his knock of 158 against RCB in the first ever IPL match."
   ]
  },
  {
   "cell_type": "markdown",
   "id": "44035532",
   "metadata": {},
   "source": [
    "**22. Which player has scored the most number of 4's in IPL?**"
   ]
  },
  {
   "cell_type": "code",
   "execution_count": 43,
   "id": "4c02e749",
   "metadata": {},
   "outputs": [
    {
     "data": {
      "text/plain": [
       "Text(0, 0.5, 'Name of the batsman')"
      ]
     },
     "execution_count": 43,
     "metadata": {},
     "output_type": "execute_result"
    },
    {
     "data": {
      "image/png": "[encoded data removed]",
      "text/plain": [
       "<Figure size 504x360 with 1 Axes>"
      ]
     },
     "metadata": {
      "needs_background": "light"
     },
     "output_type": "display_data"
    }
   ],
   "source": [
    "plt.figure(figsize = (7,5))\n",
    "most_4 = ipl_data1[ipl_data1['runs_off_bat'] == 4]['striker'].value_counts()\n",
    "first_5 = most_4[:5]\n",
    "sns.barplot(y = first_5.index, x = first_5, orient = 'h')\n",
    "plt.xlabel(\"Number of 4's scored\")\n",
    "plt.ylabel(\"Name of the batsman\")"
   ]
  },
  {
   "cell_type": "markdown",
   "id": "c59d0855",
   "metadata": {},
   "source": [
    "The Gabbar, Shikhar Dhawan is a master player for his ability to find the gaps between the field."
   ]
  },
  {
   "cell_type": "markdown",
   "id": "b8f7ff8c",
   "metadata": {},
   "source": [
    "**23. Top 5 players who have hit the most number of 4's in an inning.**"
   ]
  },
  {
   "cell_type": "code",
   "execution_count": 44,
   "id": "e13943b7",
   "metadata": {},
   "outputs": [
    {
     "data": {
      "text/plain": [
       "striker\n",
       "PC Valthaty       19\n",
       "AB de Villiers    19\n",
       "MJ Lumb           16\n",
       "AM Rahane         16\n",
       "GJ Maxwell        15\n",
       "Name: season, dtype: int64"
      ]
     },
     "execution_count": 44,
     "metadata": {},
     "output_type": "execute_result"
    }
   ],
   "source": [
    "ipl_data1[ipl_data1['runs_off_bat'] == 4].groupby(['start_date','striker']).count()['season'].sort_values(ascending=False).droplevel(level=0)[:5]"
   ]
  },
  {
   "cell_type": "markdown",
   "id": "3330a15b",
   "metadata": {},
   "source": [
    "Paul Valthaty and AB de Villiers have top this list with almost 80 runs coming from just 4's."
   ]
  },
  {
   "cell_type": "markdown",
   "id": "b03b29e2",
   "metadata": {},
   "source": [
    "### Calculating batsman's performance metrics:-"
   ]
  },
  {
   "cell_type": "markdown",
   "id": "f3b97d3a",
   "metadata": {},
   "source": [
    "Now we will work on creating a dataframe that will summarize all the important metrics based on which a batsman's performance is calculated.\n",
    "\n",
    "The dataframe will have information on the following things:-\n",
    "\n",
    "1. Total runs scored by batsman\n",
    "2. Total number of 4's scored\n",
    "3. Total number of 6's scored\n",
    "4. Percentage of runs scored only by boundaries\n",
    "5. Total number of balls faced\n",
    "6. Total number of matches played\n",
    "7. Total number of runs scored without boundary\n",
    "8. Average strike rate of the batsman from all the matches\n",
    "9. Average number of runs scored in each match\n",
    "10. Total number of dot balls faced\n",
    "11. Percentage of dot balls based on the total number of balls faced"
   ]
  },
  {
   "cell_type": "markdown",
   "id": "2092d820",
   "metadata": {},
   "source": [
    "**Note:-** We will keep on adding results from all the steps to create a final dataframe."
   ]
  },
  {
   "cell_type": "code",
   "execution_count": 45,
   "id": "3e6d7158",
   "metadata": {},
   "outputs": [],
   "source": [
    "# Step 1:- Creating a dataframe using 3 different dataframes that stores a batsman's 'total runs', \"total 4's scored\" and \"total 6's scored\"."
   ]
  },
  {
   "cell_type": "code",
   "execution_count": 46,
   "id": "9118b41d",
   "metadata": {},
   "outputs": [
    {
     "data": {
      "text/plain": [
       "striker\n",
       "V Kohli      5921\n",
       "SK Raina     5430\n",
       "S Dhawan     5282\n",
       "DA Warner    5257\n",
       "RG Sharma    5251\n",
       "Name: runs_off_bat, dtype: int64"
      ]
     },
     "execution_count": 46,
     "metadata": {},
     "output_type": "execute_result"
    }
   ],
   "source": [
    "most_runs_data.head()"
   ]
  },
  {
   "cell_type": "code",
   "execution_count": 47,
   "id": "4c1f44b0",
   "metadata": {
    "scrolled": true
   },
   "outputs": [
    {
     "data": {
      "text/plain": [
       "S Dhawan     601\n",
       "DA Warner    510\n",
       "V Kohli      510\n",
       "SK Raina     496\n",
       "G Gambhir    492\n",
       "Name: striker, dtype: int64"
      ]
     },
     "execution_count": 47,
     "metadata": {},
     "output_type": "execute_result"
    }
   ],
   "source": [
    "most_4.head()"
   ]
  },
  {
   "cell_type": "code",
   "execution_count": 48,
   "id": "af7554ad",
   "metadata": {},
   "outputs": [
    {
     "data": {
      "text/plain": [
       "CH Gayle          351\n",
       "AB de Villiers    239\n",
       "MS Dhoni          216\n",
       "RG Sharma         215\n",
       "V Kohli           202\n",
       "Name: striker, dtype: int64"
      ]
     },
     "execution_count": 48,
     "metadata": {},
     "output_type": "execute_result"
    }
   ],
   "source": [
    "most_6.head()"
   ]
  },
  {
   "cell_type": "code",
   "execution_count": 49,
   "id": "07736925",
   "metadata": {},
   "outputs": [],
   "source": [
    "# Creating a dataframe that will hold the info on the total number of 6's hit by each batsmans.\n",
    "li = []\n",
    "for i in range(len(most_6)):\n",
    "    li.append(most_6[i])"
   ]
  },
  {
   "cell_type": "code",
   "execution_count": 50,
   "id": "a8af3c90",
   "metadata": {},
   "outputs": [
    {
     "data": {
      "text/html": [
       "<div>\n",
       "<style scoped>\n",
       "    .dataframe tbody tr th:only-of-type {\n",
       "        vertical-align: middle;\n",
       "    }\n",
       "\n",
       "    .dataframe tbody tr th {\n",
       "        vertical-align: top;\n",
       "    }\n",
       "\n",
       "    .dataframe thead th {\n",
       "        text-align: right;\n",
       "    }\n",
       "</style>\n",
       "<table border=\"1\" class=\"dataframe\">\n",
       "  <thead>\n",
       "    <tr style=\"text-align: right;\">\n",
       "      <th></th>\n",
       "      <th>6's count</th>\n",
       "    </tr>\n",
       "  </thead>\n",
       "  <tbody>\n",
       "    <tr>\n",
       "      <th>CH Gayle</th>\n",
       "      <td>351</td>\n",
       "    </tr>\n",
       "    <tr>\n",
       "      <th>AB de Villiers</th>\n",
       "      <td>239</td>\n",
       "    </tr>\n",
       "    <tr>\n",
       "      <th>MS Dhoni</th>\n",
       "      <td>216</td>\n",
       "    </tr>\n",
       "    <tr>\n",
       "      <th>RG Sharma</th>\n",
       "      <td>215</td>\n",
       "    </tr>\n",
       "    <tr>\n",
       "      <th>V Kohli</th>\n",
       "      <td>202</td>\n",
       "    </tr>\n",
       "  </tbody>\n",
       "</table>\n",
       "</div>"
      ],
      "text/plain": [
       "                6's count\n",
       "CH Gayle              351\n",
       "AB de Villiers        239\n",
       "MS Dhoni              216\n",
       "RG Sharma             215\n",
       "V Kohli               202"
      ]
     },
     "execution_count": 50,
     "metadata": {},
     "output_type": "execute_result"
    }
   ],
   "source": [
    "most_6 = pd.DataFrame(li, index = most_6.index, columns = [\"6's count\"])\n",
    "most_6.head()"
   ]
  },
  {
   "cell_type": "code",
   "execution_count": 51,
   "id": "d185236a",
   "metadata": {},
   "outputs": [
    {
     "data": {
      "text/html": [
       "<div>\n",
       "<style scoped>\n",
       "    .dataframe tbody tr th:only-of-type {\n",
       "        vertical-align: middle;\n",
       "    }\n",
       "\n",
       "    .dataframe tbody tr th {\n",
       "        vertical-align: top;\n",
       "    }\n",
       "\n",
       "    .dataframe thead th {\n",
       "        text-align: right;\n",
       "    }\n",
       "</style>\n",
       "<table border=\"1\" class=\"dataframe\">\n",
       "  <thead>\n",
       "    <tr style=\"text-align: right;\">\n",
       "      <th></th>\n",
       "      <th>4's count</th>\n",
       "    </tr>\n",
       "  </thead>\n",
       "  <tbody>\n",
       "    <tr>\n",
       "      <th>S Dhawan</th>\n",
       "      <td>601</td>\n",
       "    </tr>\n",
       "    <tr>\n",
       "      <th>DA Warner</th>\n",
       "      <td>510</td>\n",
       "    </tr>\n",
       "    <tr>\n",
       "      <th>V Kohli</th>\n",
       "      <td>510</td>\n",
       "    </tr>\n",
       "    <tr>\n",
       "      <th>SK Raina</th>\n",
       "      <td>496</td>\n",
       "    </tr>\n",
       "    <tr>\n",
       "      <th>G Gambhir</th>\n",
       "      <td>492</td>\n",
       "    </tr>\n",
       "  </tbody>\n",
       "</table>\n",
       "</div>"
      ],
      "text/plain": [
       "           4's count\n",
       "S Dhawan         601\n",
       "DA Warner        510\n",
       "V Kohli          510\n",
       "SK Raina         496\n",
       "G Gambhir        492"
      ]
     },
     "execution_count": 51,
     "metadata": {},
     "output_type": "execute_result"
    }
   ],
   "source": [
    "# Creating a dataframe that will hold the info on the total number of 4's hit by each batsmans.\n",
    "li_2 = []\n",
    "for i in range(len(most_4)):\n",
    "    li_2.append(most_4[i])\n",
    "    \n",
    "most_4 = pd.DataFrame(li_2, index = most_4.index, columns = [\"4's count\"])\n",
    "most_4.head()"
   ]
  },
  {
   "cell_type": "code",
   "execution_count": 52,
   "id": "7ad920ab",
   "metadata": {},
   "outputs": [],
   "source": [
    "# Creating a dataframe that will have the info of the total number of boundaries scored by a batsman.\n",
    "boundary = most_4.join(most_6)"
   ]
  },
  {
   "cell_type": "code",
   "execution_count": 53,
   "id": "5d34ac70",
   "metadata": {},
   "outputs": [
    {
     "data": {
      "text/html": [
       "<div>\n",
       "<style scoped>\n",
       "    .dataframe tbody tr th:only-of-type {\n",
       "        vertical-align: middle;\n",
       "    }\n",
       "\n",
       "    .dataframe tbody tr th {\n",
       "        vertical-align: top;\n",
       "    }\n",
       "\n",
       "    .dataframe thead th {\n",
       "        text-align: right;\n",
       "    }\n",
       "</style>\n",
       "<table border=\"1\" class=\"dataframe\">\n",
       "  <thead>\n",
       "    <tr style=\"text-align: right;\">\n",
       "      <th></th>\n",
       "      <th>4's count</th>\n",
       "      <th>6's count</th>\n",
       "    </tr>\n",
       "  </thead>\n",
       "  <tbody>\n",
       "    <tr>\n",
       "      <th>S Dhawan</th>\n",
       "      <td>601</td>\n",
       "      <td>111.0</td>\n",
       "    </tr>\n",
       "    <tr>\n",
       "      <th>DA Warner</th>\n",
       "      <td>510</td>\n",
       "      <td>195.0</td>\n",
       "    </tr>\n",
       "    <tr>\n",
       "      <th>V Kohli</th>\n",
       "      <td>510</td>\n",
       "      <td>202.0</td>\n",
       "    </tr>\n",
       "    <tr>\n",
       "      <th>SK Raina</th>\n",
       "      <td>496</td>\n",
       "      <td>199.0</td>\n",
       "    </tr>\n",
       "    <tr>\n",
       "      <th>G Gambhir</th>\n",
       "      <td>492</td>\n",
       "      <td>59.0</td>\n",
       "    </tr>\n",
       "  </tbody>\n",
       "</table>\n",
       "</div>"
      ],
      "text/plain": [
       "           4's count  6's count\n",
       "S Dhawan         601      111.0\n",
       "DA Warner        510      195.0\n",
       "V Kohli          510      202.0\n",
       "SK Raina         496      199.0\n",
       "G Gambhir        492       59.0"
      ]
     },
     "execution_count": 53,
     "metadata": {},
     "output_type": "execute_result"
    }
   ],
   "source": [
    "boundary.head()"
   ]
  },
  {
   "cell_type": "code",
   "execution_count": 54,
   "id": "a9be5425",
   "metadata": {},
   "outputs": [],
   "source": [
    "# Creating a dataframe which stores the total num of runs scored by the batsmans.\n",
    "runs = []\n",
    "for run in range(len(most_runs_data)):\n",
    "    runs.append(most_runs_data[run])\n",
    "    \n",
    "most_runs = pd.DataFrame(runs, most_runs_data.index, columns = [\"Total runs\"])"
   ]
  },
  {
   "cell_type": "code",
   "execution_count": 55,
   "id": "bb7a34d4",
   "metadata": {},
   "outputs": [
    {
     "data": {
      "text/html": [
       "<div>\n",
       "<style scoped>\n",
       "    .dataframe tbody tr th:only-of-type {\n",
       "        vertical-align: middle;\n",
       "    }\n",
       "\n",
       "    .dataframe tbody tr th {\n",
       "        vertical-align: top;\n",
       "    }\n",
       "\n",
       "    .dataframe thead th {\n",
       "        text-align: right;\n",
       "    }\n",
       "</style>\n",
       "<table border=\"1\" class=\"dataframe\">\n",
       "  <thead>\n",
       "    <tr style=\"text-align: right;\">\n",
       "      <th></th>\n",
       "      <th>Total runs</th>\n",
       "    </tr>\n",
       "    <tr>\n",
       "      <th>striker</th>\n",
       "      <th></th>\n",
       "    </tr>\n",
       "  </thead>\n",
       "  <tbody>\n",
       "    <tr>\n",
       "      <th>V Kohli</th>\n",
       "      <td>5921</td>\n",
       "    </tr>\n",
       "    <tr>\n",
       "      <th>SK Raina</th>\n",
       "      <td>5430</td>\n",
       "    </tr>\n",
       "    <tr>\n",
       "      <th>S Dhawan</th>\n",
       "      <td>5282</td>\n",
       "    </tr>\n",
       "    <tr>\n",
       "      <th>DA Warner</th>\n",
       "      <td>5257</td>\n",
       "    </tr>\n",
       "    <tr>\n",
       "      <th>RG Sharma</th>\n",
       "      <td>5251</td>\n",
       "    </tr>\n",
       "  </tbody>\n",
       "</table>\n",
       "</div>"
      ],
      "text/plain": [
       "           Total runs\n",
       "striker              \n",
       "V Kohli          5921\n",
       "SK Raina         5430\n",
       "S Dhawan         5282\n",
       "DA Warner        5257\n",
       "RG Sharma        5251"
      ]
     },
     "execution_count": 55,
     "metadata": {},
     "output_type": "execute_result"
    }
   ],
   "source": [
    "most_runs.head()"
   ]
  },
  {
   "cell_type": "code",
   "execution_count": 56,
   "id": "1575f6a7",
   "metadata": {},
   "outputs": [],
   "source": [
    "# Joining all the three dataframes to construct a single dataframe containing all the infos.\n",
    "runs_statistics = most_runs.join(boundary)"
   ]
  },
  {
   "cell_type": "code",
   "execution_count": 57,
   "id": "386b5835",
   "metadata": {},
   "outputs": [
    {
     "data": {
      "text/html": [
       "<div>\n",
       "<style scoped>\n",
       "    .dataframe tbody tr th:only-of-type {\n",
       "        vertical-align: middle;\n",
       "    }\n",
       "\n",
       "    .dataframe tbody tr th {\n",
       "        vertical-align: top;\n",
       "    }\n",
       "\n",
       "    .dataframe thead th {\n",
       "        text-align: right;\n",
       "    }\n",
       "</style>\n",
       "<table border=\"1\" class=\"dataframe\">\n",
       "  <thead>\n",
       "    <tr style=\"text-align: right;\">\n",
       "      <th></th>\n",
       "      <th>Total runs</th>\n",
       "      <th>4's count</th>\n",
       "      <th>6's count</th>\n",
       "    </tr>\n",
       "    <tr>\n",
       "      <th>striker</th>\n",
       "      <th></th>\n",
       "      <th></th>\n",
       "      <th></th>\n",
       "    </tr>\n",
       "  </thead>\n",
       "  <tbody>\n",
       "    <tr>\n",
       "      <th>V Kohli</th>\n",
       "      <td>5921</td>\n",
       "      <td>510.0</td>\n",
       "      <td>202.0</td>\n",
       "    </tr>\n",
       "    <tr>\n",
       "      <th>SK Raina</th>\n",
       "      <td>5430</td>\n",
       "      <td>496.0</td>\n",
       "      <td>199.0</td>\n",
       "    </tr>\n",
       "    <tr>\n",
       "      <th>S Dhawan</th>\n",
       "      <td>5282</td>\n",
       "      <td>601.0</td>\n",
       "      <td>111.0</td>\n",
       "    </tr>\n",
       "    <tr>\n",
       "      <th>DA Warner</th>\n",
       "      <td>5257</td>\n",
       "      <td>510.0</td>\n",
       "      <td>195.0</td>\n",
       "    </tr>\n",
       "    <tr>\n",
       "      <th>RG Sharma</th>\n",
       "      <td>5251</td>\n",
       "      <td>459.0</td>\n",
       "      <td>215.0</td>\n",
       "    </tr>\n",
       "  </tbody>\n",
       "</table>\n",
       "</div>"
      ],
      "text/plain": [
       "           Total runs  4's count  6's count\n",
       "striker                                    \n",
       "V Kohli          5921      510.0      202.0\n",
       "SK Raina         5430      496.0      199.0\n",
       "S Dhawan         5282      601.0      111.0\n",
       "DA Warner        5257      510.0      195.0\n",
       "RG Sharma        5251      459.0      215.0"
      ]
     },
     "execution_count": 57,
     "metadata": {},
     "output_type": "execute_result"
    }
   ],
   "source": [
    "runs_statistics.head()"
   ]
  },
  {
   "cell_type": "code",
   "execution_count": 58,
   "id": "8696e344",
   "metadata": {},
   "outputs": [
    {
     "data": {
      "text/plain": [
       "Total runs      0\n",
       "4's count     115\n",
       "6's count     204\n",
       "dtype: int64"
      ]
     },
     "execution_count": 58,
     "metadata": {},
     "output_type": "execute_result"
    }
   ],
   "source": [
    "runs_statistics.isnull().sum()"
   ]
  },
  {
   "cell_type": "markdown",
   "id": "b3cb6c84",
   "metadata": {},
   "source": [
    "We have some missing values for the number of 4's and 6's scored by a batsman. The possible reason could be that they are lower order batsmans (bowlers)."
   ]
  },
  {
   "cell_type": "code",
   "execution_count": 59,
   "id": "8e668623",
   "metadata": {},
   "outputs": [],
   "source": [
    "# Replacing NaN values with 0.\n",
    "runs_statistics.replace({np.nan:0}, inplace = True)"
   ]
  },
  {
   "cell_type": "code",
   "execution_count": 60,
   "id": "c9dd9b1b",
   "metadata": {},
   "outputs": [
    {
     "data": {
      "text/plain": [
       "Total runs    0\n",
       "4's count     0\n",
       "6's count     0\n",
       "dtype: int64"
      ]
     },
     "execution_count": 60,
     "metadata": {},
     "output_type": "execute_result"
    }
   ],
   "source": [
    "runs_statistics.isnull().sum()"
   ]
  },
  {
   "cell_type": "code",
   "execution_count": 61,
   "id": "0c82507c",
   "metadata": {},
   "outputs": [],
   "source": [
    "# Step 2 :- Calculating the percentage of runs scored in boundaries and storing the info in a new column.\n",
    "runs_statistics[\"percent_runs_scored_by_boundarys\"] = (runs_statistics[\"4's count\"]*4 + runs_statistics[\"6's count\"]*6)/runs_statistics['Total runs'] * 100"
   ]
  },
  {
   "cell_type": "code",
   "execution_count": 62,
   "id": "1ab8c0f8",
   "metadata": {},
   "outputs": [
    {
     "data": {
      "text/html": [
       "<div>\n",
       "<style scoped>\n",
       "    .dataframe tbody tr th:only-of-type {\n",
       "        vertical-align: middle;\n",
       "    }\n",
       "\n",
       "    .dataframe tbody tr th {\n",
       "        vertical-align: top;\n",
       "    }\n",
       "\n",
       "    .dataframe thead th {\n",
       "        text-align: right;\n",
       "    }\n",
       "</style>\n",
       "<table border=\"1\" class=\"dataframe\">\n",
       "  <thead>\n",
       "    <tr style=\"text-align: right;\">\n",
       "      <th></th>\n",
       "      <th>Total runs</th>\n",
       "      <th>4's count</th>\n",
       "      <th>6's count</th>\n",
       "      <th>percent_runs_scored_by_boundarys</th>\n",
       "    </tr>\n",
       "    <tr>\n",
       "      <th>striker</th>\n",
       "      <th></th>\n",
       "      <th></th>\n",
       "      <th></th>\n",
       "      <th></th>\n",
       "    </tr>\n",
       "  </thead>\n",
       "  <tbody>\n",
       "    <tr>\n",
       "      <th>V Kohli</th>\n",
       "      <td>5921</td>\n",
       "      <td>510.0</td>\n",
       "      <td>202.0</td>\n",
       "      <td>54.923155</td>\n",
       "    </tr>\n",
       "    <tr>\n",
       "      <th>SK Raina</th>\n",
       "      <td>5430</td>\n",
       "      <td>496.0</td>\n",
       "      <td>199.0</td>\n",
       "      <td>58.526703</td>\n",
       "    </tr>\n",
       "    <tr>\n",
       "      <th>S Dhawan</th>\n",
       "      <td>5282</td>\n",
       "      <td>601.0</td>\n",
       "      <td>111.0</td>\n",
       "      <td>58.121924</td>\n",
       "    </tr>\n",
       "  </tbody>\n",
       "</table>\n",
       "</div>"
      ],
      "text/plain": [
       "          Total runs  4's count  6's count  percent_runs_scored_by_boundarys\n",
       "striker                                                                     \n",
       "V Kohli         5921      510.0      202.0                         54.923155\n",
       "SK Raina        5430      496.0      199.0                         58.526703\n",
       "S Dhawan        5282      601.0      111.0                         58.121924"
      ]
     },
     "execution_count": 62,
     "metadata": {},
     "output_type": "execute_result"
    }
   ],
   "source": [
    "runs_statistics.head(3)"
   ]
  },
  {
   "cell_type": "code",
   "execution_count": 63,
   "id": "761be202",
   "metadata": {},
   "outputs": [],
   "source": [
    "# Step 3 :- Calculating the total number of balls faced by a batsman.\n",
    "total_balls_faced = ipl_data1.groupby(['match_id', 'striker'])['runs_off_bat'].count().groupby('striker').sum()\n",
    "top_5 = total_balls_faced.sort_values(ascending = False)[:5]  # Top 5 batsman based on the num of balls faced."
   ]
  },
  {
   "cell_type": "code",
   "execution_count": 64,
   "id": "6c3f1e05",
   "metadata": {},
   "outputs": [
    {
     "data": {
      "text/plain": [
       "striker\n",
       "V Kohli      4642\n",
       "S Dhawan     4263\n",
       "RG Sharma    4106\n",
       "SK Raina     4080\n",
       "DA Warner    3825\n",
       "Name: runs_off_bat, dtype: int64"
      ]
     },
     "execution_count": 64,
     "metadata": {},
     "output_type": "execute_result"
    }
   ],
   "source": [
    "top_5"
   ]
  },
  {
   "cell_type": "code",
   "execution_count": 65,
   "id": "3e367639",
   "metadata": {},
   "outputs": [
    {
     "data": {
      "text/html": [
       "<div>\n",
       "<style scoped>\n",
       "    .dataframe tbody tr th:only-of-type {\n",
       "        vertical-align: middle;\n",
       "    }\n",
       "\n",
       "    .dataframe tbody tr th {\n",
       "        vertical-align: top;\n",
       "    }\n",
       "\n",
       "    .dataframe thead th {\n",
       "        text-align: right;\n",
       "    }\n",
       "</style>\n",
       "<table border=\"1\" class=\"dataframe\">\n",
       "  <thead>\n",
       "    <tr style=\"text-align: right;\">\n",
       "      <th></th>\n",
       "      <th>Balls Faced</th>\n",
       "    </tr>\n",
       "    <tr>\n",
       "      <th>striker</th>\n",
       "      <th></th>\n",
       "    </tr>\n",
       "  </thead>\n",
       "  <tbody>\n",
       "    <tr>\n",
       "      <th>A Ashish Reddy</th>\n",
       "      <td>196</td>\n",
       "    </tr>\n",
       "    <tr>\n",
       "      <th>A Chandila</th>\n",
       "      <td>7</td>\n",
       "    </tr>\n",
       "    <tr>\n",
       "      <th>A Chopra</th>\n",
       "      <td>75</td>\n",
       "    </tr>\n",
       "    <tr>\n",
       "      <th>A Choudhary</th>\n",
       "      <td>20</td>\n",
       "    </tr>\n",
       "    <tr>\n",
       "      <th>A Dananjaya</th>\n",
       "      <td>5</td>\n",
       "    </tr>\n",
       "  </tbody>\n",
       "</table>\n",
       "</div>"
      ],
      "text/plain": [
       "                Balls Faced\n",
       "striker                    \n",
       "A Ashish Reddy          196\n",
       "A Chandila                7\n",
       "A Chopra                 75\n",
       "A Choudhary              20\n",
       "A Dananjaya               5"
      ]
     },
     "execution_count": 65,
     "metadata": {},
     "output_type": "execute_result"
    }
   ],
   "source": [
    "# Creating a dataframe of the above info about total balls faced.\n",
    "balls_list = []\n",
    "for i in range(len(total_balls_faced)):\n",
    "    balls_list.append(total_balls_faced[i])\n",
    "    \n",
    "total_balls_faced = pd.DataFrame(balls_list, index=total_balls_faced.index, columns = ['Balls Faced'])\n",
    "total_balls_faced[:5]"
   ]
  },
  {
   "cell_type": "code",
   "execution_count": 66,
   "id": "580c663e",
   "metadata": {},
   "outputs": [],
   "source": [
    "# Joining the dataframes.\n",
    "runs_statistics = runs_statistics.join(total_balls_faced)"
   ]
  },
  {
   "cell_type": "code",
   "execution_count": 67,
   "id": "841909e5",
   "metadata": {},
   "outputs": [
    {
     "data": {
      "text/html": [
       "<div>\n",
       "<style scoped>\n",
       "    .dataframe tbody tr th:only-of-type {\n",
       "        vertical-align: middle;\n",
       "    }\n",
       "\n",
       "    .dataframe tbody tr th {\n",
       "        vertical-align: top;\n",
       "    }\n",
       "\n",
       "    .dataframe thead th {\n",
       "        text-align: right;\n",
       "    }\n",
       "</style>\n",
       "<table border=\"1\" class=\"dataframe\">\n",
       "  <thead>\n",
       "    <tr style=\"text-align: right;\">\n",
       "      <th></th>\n",
       "      <th>Total runs</th>\n",
       "      <th>4's count</th>\n",
       "      <th>6's count</th>\n",
       "      <th>percent_runs_scored_by_boundarys</th>\n",
       "      <th>Balls Faced</th>\n",
       "    </tr>\n",
       "    <tr>\n",
       "      <th>striker</th>\n",
       "      <th></th>\n",
       "      <th></th>\n",
       "      <th></th>\n",
       "      <th></th>\n",
       "      <th></th>\n",
       "    </tr>\n",
       "  </thead>\n",
       "  <tbody>\n",
       "    <tr>\n",
       "      <th>V Kohli</th>\n",
       "      <td>5921</td>\n",
       "      <td>510.0</td>\n",
       "      <td>202.0</td>\n",
       "      <td>54.923155</td>\n",
       "      <td>4642</td>\n",
       "    </tr>\n",
       "    <tr>\n",
       "      <th>SK Raina</th>\n",
       "      <td>5430</td>\n",
       "      <td>496.0</td>\n",
       "      <td>199.0</td>\n",
       "      <td>58.526703</td>\n",
       "      <td>4080</td>\n",
       "    </tr>\n",
       "    <tr>\n",
       "      <th>S Dhawan</th>\n",
       "      <td>5282</td>\n",
       "      <td>601.0</td>\n",
       "      <td>111.0</td>\n",
       "      <td>58.121924</td>\n",
       "      <td>4263</td>\n",
       "    </tr>\n",
       "    <tr>\n",
       "      <th>DA Warner</th>\n",
       "      <td>5257</td>\n",
       "      <td>510.0</td>\n",
       "      <td>195.0</td>\n",
       "      <td>61.061442</td>\n",
       "      <td>3825</td>\n",
       "    </tr>\n",
       "    <tr>\n",
       "      <th>RG Sharma</th>\n",
       "      <td>5251</td>\n",
       "      <td>459.0</td>\n",
       "      <td>215.0</td>\n",
       "      <td>59.531518</td>\n",
       "      <td>4106</td>\n",
       "    </tr>\n",
       "  </tbody>\n",
       "</table>\n",
       "</div>"
      ],
      "text/plain": [
       "           Total runs  4's count  6's count  percent_runs_scored_by_boundarys  \\\n",
       "striker                                                                         \n",
       "V Kohli          5921      510.0      202.0                         54.923155   \n",
       "SK Raina         5430      496.0      199.0                         58.526703   \n",
       "S Dhawan         5282      601.0      111.0                         58.121924   \n",
       "DA Warner        5257      510.0      195.0                         61.061442   \n",
       "RG Sharma        5251      459.0      215.0                         59.531518   \n",
       "\n",
       "           Balls Faced  \n",
       "striker                 \n",
       "V Kohli           4642  \n",
       "SK Raina          4080  \n",
       "S Dhawan          4263  \n",
       "DA Warner         3825  \n",
       "RG Sharma         4106  "
      ]
     },
     "execution_count": 67,
     "metadata": {},
     "output_type": "execute_result"
    }
   ],
   "source": [
    "runs_statistics.head()"
   ]
  },
  {
   "cell_type": "code",
   "execution_count": 68,
   "id": "57d091d5",
   "metadata": {},
   "outputs": [],
   "source": [
    "# Step 4:- Calculating the total number of matches played by each batsman.\n",
    "total_matches_played = ipl_data1.groupby(['match_id', 'striker'])['striker'].count().groupby('striker').count()\n",
    "top_10 = total_matches_played.sort_values(ascending = False)[:10]"
   ]
  },
  {
   "cell_type": "code",
   "execution_count": 69,
   "id": "4a9a5aa5",
   "metadata": {},
   "outputs": [
    {
     "data": {
      "text/plain": [
       "striker\n",
       "A Ashish Reddy    23\n",
       "A Chandila         2\n",
       "A Chopra           6\n",
       "A Choudhary        3\n",
       "A Dananjaya        1\n",
       "Name: striker, dtype: int64"
      ]
     },
     "execution_count": 69,
     "metadata": {},
     "output_type": "execute_result"
    }
   ],
   "source": [
    "total_matches_played[:5]"
   ]
  },
  {
   "cell_type": "code",
   "execution_count": 70,
   "id": "445fd378",
   "metadata": {},
   "outputs": [
    {
     "data": {
      "text/html": [
       "<div>\n",
       "<style scoped>\n",
       "    .dataframe tbody tr th:only-of-type {\n",
       "        vertical-align: middle;\n",
       "    }\n",
       "\n",
       "    .dataframe tbody tr th {\n",
       "        vertical-align: top;\n",
       "    }\n",
       "\n",
       "    .dataframe thead th {\n",
       "        text-align: right;\n",
       "    }\n",
       "</style>\n",
       "<table border=\"1\" class=\"dataframe\">\n",
       "  <thead>\n",
       "    <tr style=\"text-align: right;\">\n",
       "      <th></th>\n",
       "      <th>Matches Played</th>\n",
       "    </tr>\n",
       "    <tr>\n",
       "      <th>striker</th>\n",
       "      <th></th>\n",
       "    </tr>\n",
       "  </thead>\n",
       "  <tbody>\n",
       "    <tr>\n",
       "      <th>A Ashish Reddy</th>\n",
       "      <td>23</td>\n",
       "    </tr>\n",
       "    <tr>\n",
       "      <th>A Chandila</th>\n",
       "      <td>2</td>\n",
       "    </tr>\n",
       "    <tr>\n",
       "      <th>A Chopra</th>\n",
       "      <td>6</td>\n",
       "    </tr>\n",
       "    <tr>\n",
       "      <th>A Choudhary</th>\n",
       "      <td>3</td>\n",
       "    </tr>\n",
       "    <tr>\n",
       "      <th>A Dananjaya</th>\n",
       "      <td>1</td>\n",
       "    </tr>\n",
       "  </tbody>\n",
       "</table>\n",
       "</div>"
      ],
      "text/plain": [
       "                Matches Played\n",
       "striker                       \n",
       "A Ashish Reddy              23\n",
       "A Chandila                   2\n",
       "A Chopra                     6\n",
       "A Choudhary                  3\n",
       "A Dananjaya                  1"
      ]
     },
     "execution_count": 70,
     "metadata": {},
     "output_type": "execute_result"
    }
   ],
   "source": [
    "# Creating a dataframe of total num of matches played by a player.\n",
    "match_list = []\n",
    "for i in range(len(total_matches_played)):\n",
    "    match_list.append(total_matches_played[i])\n",
    "    \n",
    "total_match = pd.DataFrame(match_list, index = total_matches_played.index, columns = ['Matches Played'])\n",
    "total_match.head()"
   ]
  },
  {
   "cell_type": "code",
   "execution_count": 71,
   "id": "568f3c20",
   "metadata": {},
   "outputs": [],
   "source": [
    "# Joining the dataframes.\n",
    "runs_statistics = runs_statistics.join(total_match)"
   ]
  },
  {
   "cell_type": "code",
   "execution_count": 72,
   "id": "027c15e3",
   "metadata": {},
   "outputs": [
    {
     "data": {
      "text/html": [
       "<div>\n",
       "<style scoped>\n",
       "    .dataframe tbody tr th:only-of-type {\n",
       "        vertical-align: middle;\n",
       "    }\n",
       "\n",
       "    .dataframe tbody tr th {\n",
       "        vertical-align: top;\n",
       "    }\n",
       "\n",
       "    .dataframe thead th {\n",
       "        text-align: right;\n",
       "    }\n",
       "</style>\n",
       "<table border=\"1\" class=\"dataframe\">\n",
       "  <thead>\n",
       "    <tr style=\"text-align: right;\">\n",
       "      <th></th>\n",
       "      <th>Total runs</th>\n",
       "      <th>4's count</th>\n",
       "      <th>6's count</th>\n",
       "      <th>percent_runs_scored_by_boundarys</th>\n",
       "      <th>Balls Faced</th>\n",
       "      <th>Matches Played</th>\n",
       "    </tr>\n",
       "    <tr>\n",
       "      <th>striker</th>\n",
       "      <th></th>\n",
       "      <th></th>\n",
       "      <th></th>\n",
       "      <th></th>\n",
       "      <th></th>\n",
       "      <th></th>\n",
       "    </tr>\n",
       "  </thead>\n",
       "  <tbody>\n",
       "    <tr>\n",
       "      <th>V Kohli</th>\n",
       "      <td>5921</td>\n",
       "      <td>510.0</td>\n",
       "      <td>202.0</td>\n",
       "      <td>54.923155</td>\n",
       "      <td>4642</td>\n",
       "      <td>185</td>\n",
       "    </tr>\n",
       "    <tr>\n",
       "      <th>SK Raina</th>\n",
       "      <td>5430</td>\n",
       "      <td>496.0</td>\n",
       "      <td>199.0</td>\n",
       "      <td>58.526703</td>\n",
       "      <td>4080</td>\n",
       "      <td>190</td>\n",
       "    </tr>\n",
       "    <tr>\n",
       "      <th>S Dhawan</th>\n",
       "      <td>5282</td>\n",
       "      <td>601.0</td>\n",
       "      <td>111.0</td>\n",
       "      <td>58.121924</td>\n",
       "      <td>4263</td>\n",
       "      <td>176</td>\n",
       "    </tr>\n",
       "    <tr>\n",
       "      <th>DA Warner</th>\n",
       "      <td>5257</td>\n",
       "      <td>510.0</td>\n",
       "      <td>195.0</td>\n",
       "      <td>61.061442</td>\n",
       "      <td>3825</td>\n",
       "      <td>143</td>\n",
       "    </tr>\n",
       "    <tr>\n",
       "      <th>RG Sharma</th>\n",
       "      <td>5251</td>\n",
       "      <td>459.0</td>\n",
       "      <td>215.0</td>\n",
       "      <td>59.531518</td>\n",
       "      <td>4106</td>\n",
       "      <td>195</td>\n",
       "    </tr>\n",
       "  </tbody>\n",
       "</table>\n",
       "</div>"
      ],
      "text/plain": [
       "           Total runs  4's count  6's count  percent_runs_scored_by_boundarys  \\\n",
       "striker                                                                         \n",
       "V Kohli          5921      510.0      202.0                         54.923155   \n",
       "SK Raina         5430      496.0      199.0                         58.526703   \n",
       "S Dhawan         5282      601.0      111.0                         58.121924   \n",
       "DA Warner        5257      510.0      195.0                         61.061442   \n",
       "RG Sharma        5251      459.0      215.0                         59.531518   \n",
       "\n",
       "           Balls Faced  Matches Played  \n",
       "striker                                 \n",
       "V Kohli           4642             185  \n",
       "SK Raina          4080             190  \n",
       "S Dhawan          4263             176  \n",
       "DA Warner         3825             143  \n",
       "RG Sharma         4106             195  "
      ]
     },
     "execution_count": 72,
     "metadata": {},
     "output_type": "execute_result"
    }
   ],
   "source": [
    "runs_statistics.head()"
   ]
  },
  {
   "cell_type": "code",
   "execution_count": 73,
   "id": "55318424",
   "metadata": {},
   "outputs": [],
   "source": [
    "# Step 5:- Calculating the total number of runs scored without boundaries by the batsmans.\n",
    "runs_statistics['runs_without_boundary'] = runs_statistics['Total runs'] - (runs_statistics[\"4's count\"]*4 + runs_statistics[\"6's count\"]*6)"
   ]
  },
  {
   "cell_type": "code",
   "execution_count": 74,
   "id": "6ffe2aec",
   "metadata": {},
   "outputs": [
    {
     "data": {
      "text/plain": [
       "striker\n",
       "V Kohli      2669.0\n",
       "SK Raina     2252.0\n",
       "S Dhawan     2212.0\n",
       "RG Sharma    2125.0\n",
       "MS Dhoni     2084.0\n",
       "Name: runs_without_boundary, dtype: float64"
      ]
     },
     "execution_count": 74,
     "metadata": {},
     "output_type": "execute_result"
    }
   ],
   "source": [
    "top_5 = runs_statistics[\"runs_without_boundary\"].sort_values(ascending = False)[:5]\n",
    "top_5"
   ]
  },
  {
   "cell_type": "code",
   "execution_count": 75,
   "id": "b812ae77",
   "metadata": {},
   "outputs": [
    {
     "data": {
      "text/plain": [
       "135.39039462952505"
      ]
     },
     "execution_count": 75,
     "metadata": {},
     "output_type": "execute_result"
    }
   ],
   "source": [
    "# Step 5:- Calculating the average strike rate of batsman's from all the matches.\n",
    "data = ipl_data1.groupby(['match_id', 'striker'])['runs_off_bat'].sum() / ipl_data1.groupby(['match_id', 'striker'])['runs_off_bat'].count()*100\n",
    "strike_rate = data.groupby('striker').mean()\n",
    "strike_rate[0]     # 1st row of strike rate."
   ]
  },
  {
   "cell_type": "code",
   "execution_count": 76,
   "id": "0295d078",
   "metadata": {},
   "outputs": [
    {
     "data": {
      "text/html": [
       "<div>\n",
       "<style scoped>\n",
       "    .dataframe tbody tr th:only-of-type {\n",
       "        vertical-align: middle;\n",
       "    }\n",
       "\n",
       "    .dataframe tbody tr th {\n",
       "        vertical-align: top;\n",
       "    }\n",
       "\n",
       "    .dataframe thead th {\n",
       "        text-align: right;\n",
       "    }\n",
       "</style>\n",
       "<table border=\"1\" class=\"dataframe\">\n",
       "  <thead>\n",
       "    <tr style=\"text-align: right;\">\n",
       "      <th></th>\n",
       "      <th>Avg_Strike_rate</th>\n",
       "    </tr>\n",
       "    <tr>\n",
       "      <th>striker</th>\n",
       "      <th></th>\n",
       "    </tr>\n",
       "  </thead>\n",
       "  <tbody>\n",
       "    <tr>\n",
       "      <th>A Ashish Reddy</th>\n",
       "      <td>135.390395</td>\n",
       "    </tr>\n",
       "    <tr>\n",
       "      <th>A Chandila</th>\n",
       "      <td>33.333333</td>\n",
       "    </tr>\n",
       "    <tr>\n",
       "      <th>A Chopra</th>\n",
       "      <td>59.148148</td>\n",
       "    </tr>\n",
       "    <tr>\n",
       "      <th>A Choudhary</th>\n",
       "      <td>163.888889</td>\n",
       "    </tr>\n",
       "    <tr>\n",
       "      <th>A Dananjaya</th>\n",
       "      <td>80.000000</td>\n",
       "    </tr>\n",
       "  </tbody>\n",
       "</table>\n",
       "</div>"
      ],
      "text/plain": [
       "                Avg_Strike_rate\n",
       "striker                        \n",
       "A Ashish Reddy       135.390395\n",
       "A Chandila            33.333333\n",
       "A Chopra              59.148148\n",
       "A Choudhary          163.888889\n",
       "A Dananjaya           80.000000"
      ]
     },
     "execution_count": 76,
     "metadata": {},
     "output_type": "execute_result"
    }
   ],
   "source": [
    "# Creating a dataframe for Average Strike rates of batsmans.\n",
    "strike_rates = []\n",
    "for i in range(len(strike_rate)):\n",
    "    strike_rates.append(strike_rate[i])\n",
    "    \n",
    "avg_strike_rate = pd.DataFrame(strike_rates, index = strike_rate.index, columns = ['Avg_Strike_rate'])\n",
    "avg_strike_rate[:5]"
   ]
  },
  {
   "cell_type": "code",
   "execution_count": 77,
   "id": "6c0454bb",
   "metadata": {},
   "outputs": [],
   "source": [
    "# Joining the dataframes.\n",
    "runs_statistics = runs_statistics.join(avg_strike_rate)"
   ]
  },
  {
   "cell_type": "code",
   "execution_count": 78,
   "id": "b264a46d",
   "metadata": {},
   "outputs": [
    {
     "data": {
      "text/html": [
       "<div>\n",
       "<style scoped>\n",
       "    .dataframe tbody tr th:only-of-type {\n",
       "        vertical-align: middle;\n",
       "    }\n",
       "\n",
       "    .dataframe tbody tr th {\n",
       "        vertical-align: top;\n",
       "    }\n",
       "\n",
       "    .dataframe thead th {\n",
       "        text-align: right;\n",
       "    }\n",
       "</style>\n",
       "<table border=\"1\" class=\"dataframe\">\n",
       "  <thead>\n",
       "    <tr style=\"text-align: right;\">\n",
       "      <th></th>\n",
       "      <th>Total runs</th>\n",
       "      <th>4's count</th>\n",
       "      <th>6's count</th>\n",
       "      <th>percent_runs_scored_by_boundarys</th>\n",
       "      <th>Balls Faced</th>\n",
       "      <th>Matches Played</th>\n",
       "      <th>runs_without_boundary</th>\n",
       "      <th>Avg_Strike_rate</th>\n",
       "    </tr>\n",
       "    <tr>\n",
       "      <th>striker</th>\n",
       "      <th></th>\n",
       "      <th></th>\n",
       "      <th></th>\n",
       "      <th></th>\n",
       "      <th></th>\n",
       "      <th></th>\n",
       "      <th></th>\n",
       "      <th></th>\n",
       "    </tr>\n",
       "  </thead>\n",
       "  <tbody>\n",
       "    <tr>\n",
       "      <th>V Kohli</th>\n",
       "      <td>5921</td>\n",
       "      <td>510.0</td>\n",
       "      <td>202.0</td>\n",
       "      <td>54.923155</td>\n",
       "      <td>4642</td>\n",
       "      <td>185</td>\n",
       "      <td>2669.0</td>\n",
       "      <td>115.032582</td>\n",
       "    </tr>\n",
       "    <tr>\n",
       "      <th>SK Raina</th>\n",
       "      <td>5430</td>\n",
       "      <td>496.0</td>\n",
       "      <td>199.0</td>\n",
       "      <td>58.526703</td>\n",
       "      <td>4080</td>\n",
       "      <td>190</td>\n",
       "      <td>2252.0</td>\n",
       "      <td>116.065665</td>\n",
       "    </tr>\n",
       "    <tr>\n",
       "      <th>S Dhawan</th>\n",
       "      <td>5282</td>\n",
       "      <td>601.0</td>\n",
       "      <td>111.0</td>\n",
       "      <td>58.121924</td>\n",
       "      <td>4263</td>\n",
       "      <td>176</td>\n",
       "      <td>2212.0</td>\n",
       "      <td>108.596076</td>\n",
       "    </tr>\n",
       "  </tbody>\n",
       "</table>\n",
       "</div>"
      ],
      "text/plain": [
       "          Total runs  4's count  6's count  percent_runs_scored_by_boundarys  \\\n",
       "striker                                                                        \n",
       "V Kohli         5921      510.0      202.0                         54.923155   \n",
       "SK Raina        5430      496.0      199.0                         58.526703   \n",
       "S Dhawan        5282      601.0      111.0                         58.121924   \n",
       "\n",
       "          Balls Faced  Matches Played  runs_without_boundary  Avg_Strike_rate  \n",
       "striker                                                                        \n",
       "V Kohli          4642             185                 2669.0       115.032582  \n",
       "SK Raina         4080             190                 2252.0       116.065665  \n",
       "S Dhawan         4263             176                 2212.0       108.596076  "
      ]
     },
     "execution_count": 78,
     "metadata": {},
     "output_type": "execute_result"
    }
   ],
   "source": [
    "runs_statistics.head(3)"
   ]
  },
  {
   "cell_type": "code",
   "execution_count": 79,
   "id": "a39e246a",
   "metadata": {},
   "outputs": [
    {
     "data": {
      "text/html": [
       "<div>\n",
       "<style scoped>\n",
       "    .dataframe tbody tr th:only-of-type {\n",
       "        vertical-align: middle;\n",
       "    }\n",
       "\n",
       "    .dataframe tbody tr th {\n",
       "        vertical-align: top;\n",
       "    }\n",
       "\n",
       "    .dataframe thead th {\n",
       "        text-align: right;\n",
       "    }\n",
       "</style>\n",
       "<table border=\"1\" class=\"dataframe\">\n",
       "  <thead>\n",
       "    <tr style=\"text-align: right;\">\n",
       "      <th></th>\n",
       "      <th>Total runs</th>\n",
       "      <th>4's count</th>\n",
       "      <th>6's count</th>\n",
       "      <th>percent_runs_scored_by_boundarys</th>\n",
       "      <th>Balls Faced</th>\n",
       "      <th>Matches Played</th>\n",
       "      <th>runs_without_boundary</th>\n",
       "      <th>Avg_Strike_rate</th>\n",
       "      <th>Avg_runs_per_match</th>\n",
       "    </tr>\n",
       "    <tr>\n",
       "      <th>striker</th>\n",
       "      <th></th>\n",
       "      <th></th>\n",
       "      <th></th>\n",
       "      <th></th>\n",
       "      <th></th>\n",
       "      <th></th>\n",
       "      <th></th>\n",
       "      <th></th>\n",
       "      <th></th>\n",
       "    </tr>\n",
       "  </thead>\n",
       "  <tbody>\n",
       "    <tr>\n",
       "      <th>V Kohli</th>\n",
       "      <td>5921</td>\n",
       "      <td>510.0</td>\n",
       "      <td>202.0</td>\n",
       "      <td>54.923155</td>\n",
       "      <td>4642</td>\n",
       "      <td>185</td>\n",
       "      <td>2669.0</td>\n",
       "      <td>115.032582</td>\n",
       "      <td>32.01</td>\n",
       "    </tr>\n",
       "    <tr>\n",
       "      <th>SK Raina</th>\n",
       "      <td>5430</td>\n",
       "      <td>496.0</td>\n",
       "      <td>199.0</td>\n",
       "      <td>58.526703</td>\n",
       "      <td>4080</td>\n",
       "      <td>190</td>\n",
       "      <td>2252.0</td>\n",
       "      <td>116.065665</td>\n",
       "      <td>28.58</td>\n",
       "    </tr>\n",
       "    <tr>\n",
       "      <th>S Dhawan</th>\n",
       "      <td>5282</td>\n",
       "      <td>601.0</td>\n",
       "      <td>111.0</td>\n",
       "      <td>58.121924</td>\n",
       "      <td>4263</td>\n",
       "      <td>176</td>\n",
       "      <td>2212.0</td>\n",
       "      <td>108.596076</td>\n",
       "      <td>30.01</td>\n",
       "    </tr>\n",
       "    <tr>\n",
       "      <th>DA Warner</th>\n",
       "      <td>5257</td>\n",
       "      <td>510.0</td>\n",
       "      <td>195.0</td>\n",
       "      <td>61.061442</td>\n",
       "      <td>3825</td>\n",
       "      <td>143</td>\n",
       "      <td>2047.0</td>\n",
       "      <td>119.313344</td>\n",
       "      <td>36.76</td>\n",
       "    </tr>\n",
       "    <tr>\n",
       "      <th>RG Sharma</th>\n",
       "      <td>5251</td>\n",
       "      <td>459.0</td>\n",
       "      <td>215.0</td>\n",
       "      <td>59.531518</td>\n",
       "      <td>4106</td>\n",
       "      <td>195</td>\n",
       "      <td>2125.0</td>\n",
       "      <td>110.135169</td>\n",
       "      <td>26.93</td>\n",
       "    </tr>\n",
       "  </tbody>\n",
       "</table>\n",
       "</div>"
      ],
      "text/plain": [
       "           Total runs  4's count  6's count  percent_runs_scored_by_boundarys  \\\n",
       "striker                                                                         \n",
       "V Kohli          5921      510.0      202.0                         54.923155   \n",
       "SK Raina         5430      496.0      199.0                         58.526703   \n",
       "S Dhawan         5282      601.0      111.0                         58.121924   \n",
       "DA Warner        5257      510.0      195.0                         61.061442   \n",
       "RG Sharma        5251      459.0      215.0                         59.531518   \n",
       "\n",
       "           Balls Faced  Matches Played  runs_without_boundary  \\\n",
       "striker                                                         \n",
       "V Kohli           4642             185                 2669.0   \n",
       "SK Raina          4080             190                 2252.0   \n",
       "S Dhawan          4263             176                 2212.0   \n",
       "DA Warner         3825             143                 2047.0   \n",
       "RG Sharma         4106             195                 2125.0   \n",
       "\n",
       "           Avg_Strike_rate  Avg_runs_per_match  \n",
       "striker                                         \n",
       "V Kohli         115.032582               32.01  \n",
       "SK Raina        116.065665               28.58  \n",
       "S Dhawan        108.596076               30.01  \n",
       "DA Warner       119.313344               36.76  \n",
       "RG Sharma       110.135169               26.93  "
      ]
     },
     "execution_count": 79,
     "metadata": {},
     "output_type": "execute_result"
    }
   ],
   "source": [
    "# Step 6:- Calculating the average runs scored by the batsman in each match\n",
    "runs_statistics['Avg_runs_per_match'] = np.round(runs_statistics['Total runs'] / runs_statistics['Matches Played'], 2)\n",
    "runs_statistics.head()"
   ]
  },
  {
   "cell_type": "code",
   "execution_count": 80,
   "id": "76348084",
   "metadata": {},
   "outputs": [],
   "source": [
    "# Step 7:- Calculating the total number of dot balls faced by a batsman\n",
    "dot_balls = ipl_data1[ipl_data1['runs_off_bat'] == 0].groupby(['striker']).count()['ball']\n",
    "top5 = ipl_data1[ipl_data1['runs_off_bat'] == 0].groupby(['striker']).count()['ball'].sort_values(ascending = False)[:5]"
   ]
  },
  {
   "cell_type": "code",
   "execution_count": 81,
   "id": "88f5834b",
   "metadata": {},
   "outputs": [
    {
     "data": {
      "text/plain": [
       "striker\n",
       "V Kohli       1637\n",
       "S Dhawan      1626\n",
       "CH Gayle      1562\n",
       "RG Sharma     1540\n",
       "RV Uthappa    1480\n",
       "Name: ball, dtype: int64"
      ]
     },
     "execution_count": 81,
     "metadata": {},
     "output_type": "execute_result"
    }
   ],
   "source": [
    "top5"
   ]
  },
  {
   "cell_type": "code",
   "execution_count": 82,
   "id": "f50a2df6",
   "metadata": {},
   "outputs": [],
   "source": [
    "# Creating a dataframe of total dot balls to batsman.\n",
    "dots = []\n",
    "for i in range(len(dot_balls)):\n",
    "    dots.append(dot_balls[i])\n",
    "    \n",
    "dot_balls_faced = pd.DataFrame(dots, index = dot_balls.index, columns = ['dot_balls_faced'])"
   ]
  },
  {
   "cell_type": "code",
   "execution_count": 83,
   "id": "a7e27782",
   "metadata": {},
   "outputs": [
    {
     "data": {
      "text/html": [
       "<div>\n",
       "<style scoped>\n",
       "    .dataframe tbody tr th:only-of-type {\n",
       "        vertical-align: middle;\n",
       "    }\n",
       "\n",
       "    .dataframe tbody tr th {\n",
       "        vertical-align: top;\n",
       "    }\n",
       "\n",
       "    .dataframe thead th {\n",
       "        text-align: right;\n",
       "    }\n",
       "</style>\n",
       "<table border=\"1\" class=\"dataframe\">\n",
       "  <thead>\n",
       "    <tr style=\"text-align: right;\">\n",
       "      <th></th>\n",
       "      <th>dot_balls_faced</th>\n",
       "    </tr>\n",
       "    <tr>\n",
       "      <th>striker</th>\n",
       "      <th></th>\n",
       "    </tr>\n",
       "  </thead>\n",
       "  <tbody>\n",
       "    <tr>\n",
       "      <th>A Ashish Reddy</th>\n",
       "      <td>61</td>\n",
       "    </tr>\n",
       "    <tr>\n",
       "      <th>A Chandila</th>\n",
       "      <td>3</td>\n",
       "    </tr>\n",
       "    <tr>\n",
       "      <th>A Chopra</th>\n",
       "      <td>45</td>\n",
       "    </tr>\n",
       "    <tr>\n",
       "      <th>A Choudhary</th>\n",
       "      <td>4</td>\n",
       "    </tr>\n",
       "    <tr>\n",
       "      <th>A Dananjaya</th>\n",
       "      <td>2</td>\n",
       "    </tr>\n",
       "  </tbody>\n",
       "</table>\n",
       "</div>"
      ],
      "text/plain": [
       "                dot_balls_faced\n",
       "striker                        \n",
       "A Ashish Reddy               61\n",
       "A Chandila                    3\n",
       "A Chopra                     45\n",
       "A Choudhary                   4\n",
       "A Dananjaya                   2"
      ]
     },
     "execution_count": 83,
     "metadata": {},
     "output_type": "execute_result"
    }
   ],
   "source": [
    "dot_balls_faced.head()"
   ]
  },
  {
   "cell_type": "code",
   "execution_count": 84,
   "id": "055d1afb",
   "metadata": {},
   "outputs": [],
   "source": [
    "runs_statistics = runs_statistics.join(dot_balls_faced)"
   ]
  },
  {
   "cell_type": "code",
   "execution_count": 85,
   "id": "a58cafa1",
   "metadata": {},
   "outputs": [
    {
     "data": {
      "text/html": [
       "<div>\n",
       "<style scoped>\n",
       "    .dataframe tbody tr th:only-of-type {\n",
       "        vertical-align: middle;\n",
       "    }\n",
       "\n",
       "    .dataframe tbody tr th {\n",
       "        vertical-align: top;\n",
       "    }\n",
       "\n",
       "    .dataframe thead th {\n",
       "        text-align: right;\n",
       "    }\n",
       "</style>\n",
       "<table border=\"1\" class=\"dataframe\">\n",
       "  <thead>\n",
       "    <tr style=\"text-align: right;\">\n",
       "      <th></th>\n",
       "      <th>Total runs</th>\n",
       "      <th>4's count</th>\n",
       "      <th>6's count</th>\n",
       "      <th>percent_runs_scored_by_boundarys</th>\n",
       "      <th>Balls Faced</th>\n",
       "      <th>Matches Played</th>\n",
       "      <th>runs_without_boundary</th>\n",
       "      <th>Avg_Strike_rate</th>\n",
       "      <th>Avg_runs_per_match</th>\n",
       "      <th>dot_balls_faced</th>\n",
       "    </tr>\n",
       "    <tr>\n",
       "      <th>striker</th>\n",
       "      <th></th>\n",
       "      <th></th>\n",
       "      <th></th>\n",
       "      <th></th>\n",
       "      <th></th>\n",
       "      <th></th>\n",
       "      <th></th>\n",
       "      <th></th>\n",
       "      <th></th>\n",
       "      <th></th>\n",
       "    </tr>\n",
       "  </thead>\n",
       "  <tbody>\n",
       "    <tr>\n",
       "      <th>S Tyagi</th>\n",
       "      <td>3</td>\n",
       "      <td>0.0</td>\n",
       "      <td>0.0</td>\n",
       "      <td>0.000000</td>\n",
       "      <td>4</td>\n",
       "      <td>1</td>\n",
       "      <td>3.0</td>\n",
       "      <td>75.000000</td>\n",
       "      <td>3.00</td>\n",
       "      <td>1.0</td>\n",
       "    </tr>\n",
       "    <tr>\n",
       "      <th>DA Miller</th>\n",
       "      <td>1850</td>\n",
       "      <td>126.0</td>\n",
       "      <td>87.0</td>\n",
       "      <td>55.459459</td>\n",
       "      <td>1375</td>\n",
       "      <td>77</td>\n",
       "      <td>824.0</td>\n",
       "      <td>121.069867</td>\n",
       "      <td>24.03</td>\n",
       "      <td>466.0</td>\n",
       "    </tr>\n",
       "    <tr>\n",
       "      <th>DP Vijaykumar</th>\n",
       "      <td>1</td>\n",
       "      <td>0.0</td>\n",
       "      <td>0.0</td>\n",
       "      <td>0.000000</td>\n",
       "      <td>1</td>\n",
       "      <td>1</td>\n",
       "      <td>1.0</td>\n",
       "      <td>100.000000</td>\n",
       "      <td>1.00</td>\n",
       "      <td>NaN</td>\n",
       "    </tr>\n",
       "  </tbody>\n",
       "</table>\n",
       "</div>"
      ],
      "text/plain": [
       "               Total runs  4's count  6's count  \\\n",
       "striker                                           \n",
       "S Tyagi                 3        0.0        0.0   \n",
       "DA Miller            1850      126.0       87.0   \n",
       "DP Vijaykumar           1        0.0        0.0   \n",
       "\n",
       "               percent_runs_scored_by_boundarys  Balls Faced  Matches Played  \\\n",
       "striker                                                                        \n",
       "S Tyagi                                0.000000            4               1   \n",
       "DA Miller                             55.459459         1375              77   \n",
       "DP Vijaykumar                          0.000000            1               1   \n",
       "\n",
       "               runs_without_boundary  Avg_Strike_rate  Avg_runs_per_match  \\\n",
       "striker                                                                     \n",
       "S Tyagi                          3.0        75.000000                3.00   \n",
       "DA Miller                      824.0       121.069867               24.03   \n",
       "DP Vijaykumar                    1.0       100.000000                1.00   \n",
       "\n",
       "               dot_balls_faced  \n",
       "striker                         \n",
       "S Tyagi                    1.0  \n",
       "DA Miller                466.0  \n",
       "DP Vijaykumar              NaN  "
      ]
     },
     "execution_count": 85,
     "metadata": {},
     "output_type": "execute_result"
    }
   ],
   "source": [
    "runs_statistics.sample(3)    # Show any 3 random rows from the dataframe."
   ]
  },
  {
   "cell_type": "code",
   "execution_count": 86,
   "id": "6703b478",
   "metadata": {},
   "outputs": [
    {
     "data": {
      "text/html": [
       "<div>\n",
       "<style scoped>\n",
       "    .dataframe tbody tr th:only-of-type {\n",
       "        vertical-align: middle;\n",
       "    }\n",
       "\n",
       "    .dataframe tbody tr th {\n",
       "        vertical-align: top;\n",
       "    }\n",
       "\n",
       "    .dataframe thead th {\n",
       "        text-align: right;\n",
       "    }\n",
       "</style>\n",
       "<table border=\"1\" class=\"dataframe\">\n",
       "  <thead>\n",
       "    <tr style=\"text-align: right;\">\n",
       "      <th></th>\n",
       "      <th>Total runs</th>\n",
       "      <th>4's count</th>\n",
       "      <th>6's count</th>\n",
       "      <th>percent_runs_scored_by_boundarys</th>\n",
       "      <th>Balls Faced</th>\n",
       "      <th>Matches Played</th>\n",
       "      <th>runs_without_boundary</th>\n",
       "      <th>Avg_Strike_rate</th>\n",
       "      <th>Avg_runs_per_match</th>\n",
       "      <th>dot_balls_faced</th>\n",
       "      <th>dot_balls_percent</th>\n",
       "    </tr>\n",
       "    <tr>\n",
       "      <th>striker</th>\n",
       "      <th></th>\n",
       "      <th></th>\n",
       "      <th></th>\n",
       "      <th></th>\n",
       "      <th></th>\n",
       "      <th></th>\n",
       "      <th></th>\n",
       "      <th></th>\n",
       "      <th></th>\n",
       "      <th></th>\n",
       "      <th></th>\n",
       "    </tr>\n",
       "  </thead>\n",
       "  <tbody>\n",
       "    <tr>\n",
       "      <th>V Kohli</th>\n",
       "      <td>5921</td>\n",
       "      <td>510.0</td>\n",
       "      <td>202.0</td>\n",
       "      <td>54.923155</td>\n",
       "      <td>4642</td>\n",
       "      <td>185</td>\n",
       "      <td>2669.0</td>\n",
       "      <td>115.032582</td>\n",
       "      <td>32.01</td>\n",
       "      <td>1637.0</td>\n",
       "      <td>35.264972</td>\n",
       "    </tr>\n",
       "    <tr>\n",
       "      <th>SK Raina</th>\n",
       "      <td>5430</td>\n",
       "      <td>496.0</td>\n",
       "      <td>199.0</td>\n",
       "      <td>58.526703</td>\n",
       "      <td>4080</td>\n",
       "      <td>190</td>\n",
       "      <td>2252.0</td>\n",
       "      <td>116.065665</td>\n",
       "      <td>28.58</td>\n",
       "      <td>1426.0</td>\n",
       "      <td>34.950980</td>\n",
       "    </tr>\n",
       "    <tr>\n",
       "      <th>S Dhawan</th>\n",
       "      <td>5282</td>\n",
       "      <td>601.0</td>\n",
       "      <td>111.0</td>\n",
       "      <td>58.121924</td>\n",
       "      <td>4263</td>\n",
       "      <td>176</td>\n",
       "      <td>2212.0</td>\n",
       "      <td>108.596076</td>\n",
       "      <td>30.01</td>\n",
       "      <td>1626.0</td>\n",
       "      <td>38.142153</td>\n",
       "    </tr>\n",
       "    <tr>\n",
       "      <th>DA Warner</th>\n",
       "      <td>5257</td>\n",
       "      <td>510.0</td>\n",
       "      <td>195.0</td>\n",
       "      <td>61.061442</td>\n",
       "      <td>3825</td>\n",
       "      <td>143</td>\n",
       "      <td>2047.0</td>\n",
       "      <td>119.313344</td>\n",
       "      <td>36.76</td>\n",
       "      <td>1433.0</td>\n",
       "      <td>37.464052</td>\n",
       "    </tr>\n",
       "    <tr>\n",
       "      <th>RG Sharma</th>\n",
       "      <td>5251</td>\n",
       "      <td>459.0</td>\n",
       "      <td>215.0</td>\n",
       "      <td>59.531518</td>\n",
       "      <td>4106</td>\n",
       "      <td>195</td>\n",
       "      <td>2125.0</td>\n",
       "      <td>110.135169</td>\n",
       "      <td>26.93</td>\n",
       "      <td>1540.0</td>\n",
       "      <td>37.506089</td>\n",
       "    </tr>\n",
       "  </tbody>\n",
       "</table>\n",
       "</div>"
      ],
      "text/plain": [
       "           Total runs  4's count  6's count  percent_runs_scored_by_boundarys  \\\n",
       "striker                                                                         \n",
       "V Kohli          5921      510.0      202.0                         54.923155   \n",
       "SK Raina         5430      496.0      199.0                         58.526703   \n",
       "S Dhawan         5282      601.0      111.0                         58.121924   \n",
       "DA Warner        5257      510.0      195.0                         61.061442   \n",
       "RG Sharma        5251      459.0      215.0                         59.531518   \n",
       "\n",
       "           Balls Faced  Matches Played  runs_without_boundary  \\\n",
       "striker                                                         \n",
       "V Kohli           4642             185                 2669.0   \n",
       "SK Raina          4080             190                 2252.0   \n",
       "S Dhawan          4263             176                 2212.0   \n",
       "DA Warner         3825             143                 2047.0   \n",
       "RG Sharma         4106             195                 2125.0   \n",
       "\n",
       "           Avg_Strike_rate  Avg_runs_per_match  dot_balls_faced  \\\n",
       "striker                                                           \n",
       "V Kohli         115.032582               32.01           1637.0   \n",
       "SK Raina        116.065665               28.58           1426.0   \n",
       "S Dhawan        108.596076               30.01           1626.0   \n",
       "DA Warner       119.313344               36.76           1433.0   \n",
       "RG Sharma       110.135169               26.93           1540.0   \n",
       "\n",
       "           dot_balls_percent  \n",
       "striker                       \n",
       "V Kohli            35.264972  \n",
       "SK Raina           34.950980  \n",
       "S Dhawan           38.142153  \n",
       "DA Warner          37.464052  \n",
       "RG Sharma          37.506089  "
      ]
     },
     "execution_count": 86,
     "metadata": {},
     "output_type": "execute_result"
    }
   ],
   "source": [
    "# Step 8 :- Creating a column for dot ball percentage based on total balls faced by the batsman.\n",
    "runs_statistics['dot_balls_percent'] = runs_statistics['dot_balls_faced'] / runs_statistics['Balls Faced'] * 100\n",
    "runs_statistics.head()"
   ]
  },
  {
   "cell_type": "code",
   "execution_count": 87,
   "id": "4741126d",
   "metadata": {},
   "outputs": [],
   "source": [
    "# Making a copy of the above dataframe\n",
    "batting_statistics = runs_statistics.copy()"
   ]
  },
  {
   "cell_type": "markdown",
   "id": "f29a5f4b",
   "metadata": {},
   "source": [
    "**21. Among all the batsmans that have played more than 1000 balls, which top 10 batsmans have the highest boundary percentage?**"
   ]
  },
  {
   "cell_type": "markdown",
   "id": "9344de3a",
   "metadata": {},
   "source": [
    "We will make use of the newly created dataframe to answer this question."
   ]
  },
  {
   "cell_type": "code",
   "execution_count": 88,
   "id": "0b48b269",
   "metadata": {},
   "outputs": [
    {
     "data": {
      "text/plain": [
       "striker\n",
       "CH Gayle        76.061615\n",
       "AC Gilchrist    72.885452\n",
       "V Sehwag        72.287390\n",
       "DR Smith        70.524109\n",
       "SR Watson       68.247423\n",
       "BB McCullum     67.730743\n",
       "GJ Maxwell      67.702265\n",
       "N Rana          65.919578\n",
       "JC Buttler      65.889213\n",
       "KA Pollard      65.270049\n",
       "Name: percent_runs_scored_by_boundarys, dtype: float64"
      ]
     },
     "execution_count": 88,
     "metadata": {},
     "output_type": "execute_result"
    }
   ],
   "source": [
    "batting_statistics[batting_statistics['Balls Faced'] > 1000]['percent_runs_scored_by_boundarys'].sort_values(ascending=False)[:10]"
   ]
  },
  {
   "cell_type": "markdown",
   "id": "0186c824",
   "metadata": {},
   "source": [
    "**24. Among all the batsmans that have played more than 1000 balls, which top 10 batsmans have the highest average (runs)?**"
   ]
  },
  {
   "cell_type": "code",
   "execution_count": 89,
   "id": "e3b9939f",
   "metadata": {},
   "outputs": [
    {
     "data": {
      "text/plain": [
       "striker\n",
       "KL Rahul          36.85\n",
       "DA Warner         36.76\n",
       "CH Gayle          36.67\n",
       "SE Marsh          36.07\n",
       "MEK Hussey        34.09\n",
       "V Kohli           32.01\n",
       "AB de Villiers    31.31\n",
       "KS Williamson     31.13\n",
       "RR Pant           30.46\n",
       "JC Buttler        30.09\n",
       "Name: Avg_runs_per_match, dtype: float64"
      ]
     },
     "execution_count": 89,
     "metadata": {},
     "output_type": "execute_result"
    }
   ],
   "source": [
    "batting_statistics[batting_statistics['Balls Faced'] > 1000]['Avg_runs_per_match'].sort_values(ascending=False)[:10]"
   ]
  },
  {
   "cell_type": "markdown",
   "id": "354e7dbb",
   "metadata": {},
   "source": [
    "**25. Among all the batsmans that have played more than 1000 balls, which top 10 batsmans have the highest average strike rates?**"
   ]
  },
  {
   "cell_type": "code",
   "execution_count": 90,
   "id": "b6de09dc",
   "metadata": {},
   "outputs": [
    {
     "data": {
      "text/plain": [
       "striker\n",
       "JC Buttler        134.086613\n",
       "KA Pollard        131.561776\n",
       "AB de Villiers    130.278725\n",
       "SA Yadav          129.799186\n",
       "V Sehwag          128.684097\n",
       "CH Gayle          125.711819\n",
       "DJ Bravo          125.688441\n",
       "RR Pant           125.036073\n",
       "KL Rahul          123.607593\n",
       "RA Jadeja         123.589345\n",
       "Name: Avg_Strike_rate, dtype: float64"
      ]
     },
     "execution_count": 90,
     "metadata": {},
     "output_type": "execute_result"
    }
   ],
   "source": [
    "batting_statistics[batting_statistics['Balls Faced'] > 1000]['Avg_Strike_rate'].sort_values(ascending=False)[:10]"
   ]
  },
  {
   "cell_type": "markdown",
   "id": "5b5ed6b2",
   "metadata": {},
   "source": [
    "**26. Among all the batsmans that have played more than 2000 balls, which top 10 batsmans have the lowest dot ball percentage?**"
   ]
  },
  {
   "cell_type": "code",
   "execution_count": 91,
   "id": "8b71a77b",
   "metadata": {},
   "outputs": [
    {
     "data": {
      "text/plain": [
       "striker\n",
       "AB de Villiers    31.736890\n",
       "SK Raina          34.950980\n",
       "MS Dhoni          35.107296\n",
       "V Kohli           35.264972\n",
       "AT Rayudu         36.001340\n",
       "KD Karthik        36.231884\n",
       "YK Pathan         37.360754\n",
       "DA Warner         37.464052\n",
       "RG Sharma         37.506089\n",
       "MK Pandey         37.668320\n",
       "Name: dot_balls_percent, dtype: float64"
      ]
     },
     "execution_count": 91,
     "metadata": {},
     "output_type": "execute_result"
    }
   ],
   "source": [
    "batting_statistics[batting_statistics['Balls Faced'] > 2000]['dot_balls_percent'].sort_values(ascending=True)[:10]"
   ]
  },
  {
   "cell_type": "markdown",
   "id": "66510be7",
   "metadata": {},
   "source": [
    "**27. Which batsman has scored the most number of runs in 1's, 2's or 3's?**"
   ]
  },
  {
   "cell_type": "code",
   "execution_count": 92,
   "id": "524847db",
   "metadata": {},
   "outputs": [
    {
     "data": {
      "text/plain": [
       "striker\n",
       "V Kohli    2669.0\n",
       "Name: runs_without_boundary, dtype: float64"
      ]
     },
     "execution_count": 92,
     "metadata": {},
     "output_type": "execute_result"
    }
   ],
   "source": [
    "batting_statistics['runs_without_boundary'].sort_values(ascending=False)[:1]"
   ]
  },
  {
   "cell_type": "markdown",
   "id": "629694d2",
   "metadata": {},
   "source": [
    "Virat Kolhi is known as one of the finest runners between the wickets. This skill has help him to rotate strikes during difficult times of building a partnership."
   ]
  },
  {
   "cell_type": "markdown",
   "id": "65f8d3ea",
   "metadata": {},
   "source": [
    "### Analyzing the final death overs (16-20):-"
   ]
  },
  {
   "cell_type": "markdown",
   "id": "dd2616ad",
   "metadata": {},
   "source": [
    "In this section we are going to analyze the final 4 overs of the innings based on batting performances.\n",
    "\n",
    "The approach is similar to what we have seen above, creating a dataframe for the overall comparison of the player."
   ]
  },
  {
   "cell_type": "code",
   "execution_count": 93,
   "id": "3b1b3ea6",
   "metadata": {},
   "outputs": [],
   "source": [
    "# Data for the final 4 overs of the matches.\n",
    "final_4_overs = ipl_data1[ipl_data1['ball'] > 16]"
   ]
  },
  {
   "cell_type": "code",
   "execution_count": 94,
   "id": "e65eedc7",
   "metadata": {},
   "outputs": [],
   "source": [
    "# Total runs scored by batsmans in the final 4 overs of the matches.\n",
    "total_runs_final_4 = final_4_overs.groupby(['striker'])['runs_off_bat'].sum().sort_values(ascending = False)"
   ]
  },
  {
   "cell_type": "code",
   "execution_count": 95,
   "id": "8cee50f8",
   "metadata": {
    "scrolled": true
   },
   "outputs": [
    {
     "data": {
      "text/plain": [
       "striker\n",
       "MS Dhoni          2303\n",
       "KA Pollard        1494\n",
       "AB de Villiers    1284\n",
       "RG Sharma         1144\n",
       "V Kohli            968\n",
       "Name: runs_off_bat, dtype: int64"
      ]
     },
     "execution_count": 95,
     "metadata": {},
     "output_type": "execute_result"
    }
   ],
   "source": [
    "total_runs_final_4.head()"
   ]
  },
  {
   "cell_type": "code",
   "execution_count": 96,
   "id": "8f1b2b09",
   "metadata": {},
   "outputs": [],
   "source": [
    "# Creating a dataframe which stores the total num of runs scored by the batsmans in final 4 overs.\n",
    "runs = []\n",
    "for run in range(len(total_runs_final_4)):\n",
    "    runs.append(total_runs_final_4[run])\n",
    "    \n",
    "total_runs_in_4 = pd.DataFrame(runs, total_runs_final_4.index, columns = [\"Total runs\"])"
   ]
  },
  {
   "cell_type": "code",
   "execution_count": 97,
   "id": "6e399dcd",
   "metadata": {
    "scrolled": true
   },
   "outputs": [
    {
     "data": {
      "text/html": [
       "<div>\n",
       "<style scoped>\n",
       "    .dataframe tbody tr th:only-of-type {\n",
       "        vertical-align: middle;\n",
       "    }\n",
       "\n",
       "    .dataframe tbody tr th {\n",
       "        vertical-align: top;\n",
       "    }\n",
       "\n",
       "    .dataframe thead th {\n",
       "        text-align: right;\n",
       "    }\n",
       "</style>\n",
       "<table border=\"1\" class=\"dataframe\">\n",
       "  <thead>\n",
       "    <tr style=\"text-align: right;\">\n",
       "      <th></th>\n",
       "      <th>Total runs</th>\n",
       "    </tr>\n",
       "    <tr>\n",
       "      <th>striker</th>\n",
       "      <th></th>\n",
       "    </tr>\n",
       "  </thead>\n",
       "  <tbody>\n",
       "    <tr>\n",
       "      <th>MS Dhoni</th>\n",
       "      <td>2303</td>\n",
       "    </tr>\n",
       "    <tr>\n",
       "      <th>KA Pollard</th>\n",
       "      <td>1494</td>\n",
       "    </tr>\n",
       "    <tr>\n",
       "      <th>AB de Villiers</th>\n",
       "      <td>1284</td>\n",
       "    </tr>\n",
       "    <tr>\n",
       "      <th>RG Sharma</th>\n",
       "      <td>1144</td>\n",
       "    </tr>\n",
       "    <tr>\n",
       "      <th>V Kohli</th>\n",
       "      <td>968</td>\n",
       "    </tr>\n",
       "  </tbody>\n",
       "</table>\n",
       "</div>"
      ],
      "text/plain": [
       "                Total runs\n",
       "striker                   \n",
       "MS Dhoni              2303\n",
       "KA Pollard            1494\n",
       "AB de Villiers        1284\n",
       "RG Sharma             1144\n",
       "V Kohli                968"
      ]
     },
     "execution_count": 97,
     "metadata": {},
     "output_type": "execute_result"
    }
   ],
   "source": [
    "total_runs_in_4.head()"
   ]
  },
  {
   "cell_type": "code",
   "execution_count": 98,
   "id": "4615ca05",
   "metadata": {
    "scrolled": true
   },
   "outputs": [
    {
     "data": {
      "text/plain": [
       "striker\n",
       "MS Dhoni          1275\n",
       "KA Pollard         851\n",
       "RA Jadeja          632\n",
       "RG Sharma          601\n",
       "AB de Villiers     572\n",
       "Name: runs_off_bat, dtype: int64"
      ]
     },
     "execution_count": 98,
     "metadata": {},
     "output_type": "execute_result"
    }
   ],
   "source": [
    "# Total number of balls faced by batsman in the final 4 overs.\n",
    "total_balls_faced_in_4 = final_4_overs.groupby(['match_id', 'striker'])['runs_off_bat'].count().groupby('striker').sum()\n",
    "total_balls_faced_in_4.sort_values(ascending = False)[:5]"
   ]
  },
  {
   "cell_type": "code",
   "execution_count": 99,
   "id": "c1e51550",
   "metadata": {},
   "outputs": [
    {
     "data": {
      "text/html": [
       "<div>\n",
       "<style scoped>\n",
       "    .dataframe tbody tr th:only-of-type {\n",
       "        vertical-align: middle;\n",
       "    }\n",
       "\n",
       "    .dataframe tbody tr th {\n",
       "        vertical-align: top;\n",
       "    }\n",
       "\n",
       "    .dataframe thead th {\n",
       "        text-align: right;\n",
       "    }\n",
       "</style>\n",
       "<table border=\"1\" class=\"dataframe\">\n",
       "  <thead>\n",
       "    <tr style=\"text-align: right;\">\n",
       "      <th></th>\n",
       "      <th>Balls Faced</th>\n",
       "    </tr>\n",
       "    <tr>\n",
       "      <th>striker</th>\n",
       "      <th></th>\n",
       "    </tr>\n",
       "  </thead>\n",
       "  <tbody>\n",
       "    <tr>\n",
       "      <th>A Ashish Reddy</th>\n",
       "      <td>129</td>\n",
       "    </tr>\n",
       "    <tr>\n",
       "      <th>A Chandila</th>\n",
       "      <td>7</td>\n",
       "    </tr>\n",
       "    <tr>\n",
       "      <th>A Choudhary</th>\n",
       "      <td>19</td>\n",
       "    </tr>\n",
       "    <tr>\n",
       "      <th>A Dananjaya</th>\n",
       "      <td>5</td>\n",
       "    </tr>\n",
       "    <tr>\n",
       "      <th>A Flintoff</th>\n",
       "      <td>14</td>\n",
       "    </tr>\n",
       "  </tbody>\n",
       "</table>\n",
       "</div>"
      ],
      "text/plain": [
       "                Balls Faced\n",
       "striker                    \n",
       "A Ashish Reddy          129\n",
       "A Chandila                7\n",
       "A Choudhary              19\n",
       "A Dananjaya               5\n",
       "A Flintoff               14"
      ]
     },
     "execution_count": 99,
     "metadata": {},
     "output_type": "execute_result"
    }
   ],
   "source": [
    "# Creating a dataframe of the above info about total balls faced in final 4 overs.\n",
    "balls_list = []\n",
    "for i in range(len(total_balls_faced_in_4)):\n",
    "    balls_list.append(total_balls_faced_in_4[i])\n",
    "    \n",
    "total_balls_faced_in_4 = pd.DataFrame(balls_list, index=total_balls_faced_in_4.index, columns = ['Balls Faced'])\n",
    "total_balls_faced_in_4[:5]"
   ]
  },
  {
   "cell_type": "code",
   "execution_count": 100,
   "id": "a0a6bffc",
   "metadata": {},
   "outputs": [],
   "source": [
    "# Strike rates of batsmans in the final 4 overs.\n",
    "strike_rate_in_4 = final_4_overs.groupby(['match_id', 'striker'])['runs_off_bat'].sum() / final_4_overs.groupby(['match_id', 'striker'])['runs_off_bat'].count()*100\n",
    "strike_rate_in_4 = strike_rate_in_4.groupby('striker').mean()"
   ]
  },
  {
   "cell_type": "code",
   "execution_count": 101,
   "id": "5060e196",
   "metadata": {
    "scrolled": false
   },
   "outputs": [
    {
     "data": {
      "text/plain": [
       "striker\n",
       "JPR Scantlebury-Searles    320.000000\n",
       "PA Reddy                   300.000000\n",
       "Misbah-ul-Haq              266.666667\n",
       "BJ Rohrer                  264.587047\n",
       "B Stanlake                 250.000000\n",
       "Name: runs_off_bat, dtype: float64"
      ]
     },
     "execution_count": 101,
     "metadata": {},
     "output_type": "execute_result"
    }
   ],
   "source": [
    "strike_rate_in_4.sort_values(ascending = False)[:5]"
   ]
  },
  {
   "cell_type": "code",
   "execution_count": 102,
   "id": "9e0c3501",
   "metadata": {},
   "outputs": [
    {
     "data": {
      "text/html": [
       "<div>\n",
       "<style scoped>\n",
       "    .dataframe tbody tr th:only-of-type {\n",
       "        vertical-align: middle;\n",
       "    }\n",
       "\n",
       "    .dataframe tbody tr th {\n",
       "        vertical-align: top;\n",
       "    }\n",
       "\n",
       "    .dataframe thead th {\n",
       "        text-align: right;\n",
       "    }\n",
       "</style>\n",
       "<table border=\"1\" class=\"dataframe\">\n",
       "  <thead>\n",
       "    <tr style=\"text-align: right;\">\n",
       "      <th></th>\n",
       "      <th>Avg_Strike_rate</th>\n",
       "    </tr>\n",
       "    <tr>\n",
       "      <th>striker</th>\n",
       "      <th></th>\n",
       "    </tr>\n",
       "  </thead>\n",
       "  <tbody>\n",
       "    <tr>\n",
       "      <th>A Ashish Reddy</th>\n",
       "      <td>132.134503</td>\n",
       "    </tr>\n",
       "    <tr>\n",
       "      <th>A Chandila</th>\n",
       "      <td>33.333333</td>\n",
       "    </tr>\n",
       "    <tr>\n",
       "      <th>A Choudhary</th>\n",
       "      <td>164.646465</td>\n",
       "    </tr>\n",
       "    <tr>\n",
       "      <th>A Dananjaya</th>\n",
       "      <td>80.000000</td>\n",
       "    </tr>\n",
       "    <tr>\n",
       "      <th>A Flintoff</th>\n",
       "      <td>157.142857</td>\n",
       "    </tr>\n",
       "  </tbody>\n",
       "</table>\n",
       "</div>"
      ],
      "text/plain": [
       "                Avg_Strike_rate\n",
       "striker                        \n",
       "A Ashish Reddy       132.134503\n",
       "A Chandila            33.333333\n",
       "A Choudhary          164.646465\n",
       "A Dananjaya           80.000000\n",
       "A Flintoff           157.142857"
      ]
     },
     "execution_count": 102,
     "metadata": {},
     "output_type": "execute_result"
    }
   ],
   "source": [
    "# Creating a dataframe for Average Strike rates of batsmans in the final 4 overs.\n",
    "strike_rates = []\n",
    "for i in range(len(strike_rate_in_4)):\n",
    "    strike_rates.append(strike_rate_in_4[i])\n",
    "    \n",
    "avg_strike_rate_in_4 = pd.DataFrame(strike_rates, index = strike_rate_in_4.index, columns = ['Avg_Strike_rate'])\n",
    "avg_strike_rate_in_4[:5]"
   ]
  },
  {
   "cell_type": "code",
   "execution_count": 103,
   "id": "dfcd603f",
   "metadata": {
    "scrolled": true
   },
   "outputs": [
    {
     "data": {
      "text/plain": [
       "Avg_Strike_rate    0\n",
       "dtype: int64"
      ]
     },
     "execution_count": 103,
     "metadata": {},
     "output_type": "execute_result"
    }
   ],
   "source": [
    "avg_strike_rate_in_4.isnull().sum()"
   ]
  },
  {
   "cell_type": "code",
   "execution_count": 104,
   "id": "02429f0b",
   "metadata": {},
   "outputs": [],
   "source": [
    "# Creating a dataframe by joining the above three dataframes.\n",
    "final_4_overs_record = total_runs_in_4.join(total_balls_faced_in_4)"
   ]
  },
  {
   "cell_type": "code",
   "execution_count": 105,
   "id": "bb136672",
   "metadata": {},
   "outputs": [],
   "source": [
    "final_4_overs_record = final_4_overs_record.join(avg_strike_rate_in_4)"
   ]
  },
  {
   "cell_type": "code",
   "execution_count": 106,
   "id": "028a5072",
   "metadata": {
    "scrolled": false
   },
   "outputs": [
    {
     "data": {
      "text/html": [
       "<div>\n",
       "<style scoped>\n",
       "    .dataframe tbody tr th:only-of-type {\n",
       "        vertical-align: middle;\n",
       "    }\n",
       "\n",
       "    .dataframe tbody tr th {\n",
       "        vertical-align: top;\n",
       "    }\n",
       "\n",
       "    .dataframe thead th {\n",
       "        text-align: right;\n",
       "    }\n",
       "</style>\n",
       "<table border=\"1\" class=\"dataframe\">\n",
       "  <thead>\n",
       "    <tr style=\"text-align: right;\">\n",
       "      <th></th>\n",
       "      <th>Total runs</th>\n",
       "      <th>Balls Faced</th>\n",
       "      <th>Avg_Strike_rate</th>\n",
       "    </tr>\n",
       "    <tr>\n",
       "      <th>striker</th>\n",
       "      <th></th>\n",
       "      <th></th>\n",
       "      <th></th>\n",
       "    </tr>\n",
       "  </thead>\n",
       "  <tbody>\n",
       "    <tr>\n",
       "      <th>MS Dhoni</th>\n",
       "      <td>2303</td>\n",
       "      <td>1275</td>\n",
       "      <td>162.648677</td>\n",
       "    </tr>\n",
       "    <tr>\n",
       "      <th>KA Pollard</th>\n",
       "      <td>1494</td>\n",
       "      <td>851</td>\n",
       "      <td>158.195579</td>\n",
       "    </tr>\n",
       "    <tr>\n",
       "      <th>AB de Villiers</th>\n",
       "      <td>1284</td>\n",
       "      <td>572</td>\n",
       "      <td>207.525009</td>\n",
       "    </tr>\n",
       "    <tr>\n",
       "      <th>RG Sharma</th>\n",
       "      <td>1144</td>\n",
       "      <td>601</td>\n",
       "      <td>159.081131</td>\n",
       "    </tr>\n",
       "    <tr>\n",
       "      <th>V Kohli</th>\n",
       "      <td>968</td>\n",
       "      <td>491</td>\n",
       "      <td>172.070080</td>\n",
       "    </tr>\n",
       "  </tbody>\n",
       "</table>\n",
       "</div>"
      ],
      "text/plain": [
       "                Total runs  Balls Faced  Avg_Strike_rate\n",
       "striker                                                 \n",
       "MS Dhoni              2303         1275       162.648677\n",
       "KA Pollard            1494          851       158.195579\n",
       "AB de Villiers        1284          572       207.525009\n",
       "RG Sharma             1144          601       159.081131\n",
       "V Kohli                968          491       172.070080"
      ]
     },
     "execution_count": 106,
     "metadata": {},
     "output_type": "execute_result"
    }
   ],
   "source": [
    "final_4_overs_record.head()"
   ]
  },
  {
   "cell_type": "code",
   "execution_count": 107,
   "id": "64e187dc",
   "metadata": {},
   "outputs": [],
   "source": [
    "# Calculating the boundary percentage of the batsmans in the final 4 overs."
   ]
  },
  {
   "cell_type": "code",
   "execution_count": 108,
   "id": "7bf2693c",
   "metadata": {},
   "outputs": [
    {
     "data": {
      "text/plain": [
       "MS Dhoni          170\n",
       "KA Pollard         98\n",
       "AB de Villiers     96\n",
       "KD Karthik         92\n",
       "RG Sharma          90\n",
       "Name: striker, dtype: int64"
      ]
     },
     "execution_count": 108,
     "metadata": {},
     "output_type": "execute_result"
    }
   ],
   "source": [
    "num_of_4 = final_4_overs[final_4_overs['runs_off_bat'] == 4]['striker'].value_counts()\n",
    "num_of_4.head()"
   ]
  },
  {
   "cell_type": "code",
   "execution_count": 109,
   "id": "4ea8091f",
   "metadata": {},
   "outputs": [
    {
     "data": {
      "text/plain": [
       "MS Dhoni          141\n",
       "KA Pollard        111\n",
       "AB de Villiers    100\n",
       "RG Sharma          78\n",
       "HH Pandya          66\n",
       "Name: striker, dtype: int64"
      ]
     },
     "execution_count": 109,
     "metadata": {},
     "output_type": "execute_result"
    }
   ],
   "source": [
    "num_of_6 = final_4_overs[final_4_overs['runs_off_bat'] == 6]['striker'].value_counts()\n",
    "num_of_6.head()"
   ]
  },
  {
   "cell_type": "code",
   "execution_count": 110,
   "id": "80f04592",
   "metadata": {},
   "outputs": [
    {
     "data": {
      "text/html": [
       "<div>\n",
       "<style scoped>\n",
       "    .dataframe tbody tr th:only-of-type {\n",
       "        vertical-align: middle;\n",
       "    }\n",
       "\n",
       "    .dataframe tbody tr th {\n",
       "        vertical-align: top;\n",
       "    }\n",
       "\n",
       "    .dataframe thead th {\n",
       "        text-align: right;\n",
       "    }\n",
       "</style>\n",
       "<table border=\"1\" class=\"dataframe\">\n",
       "  <thead>\n",
       "    <tr style=\"text-align: right;\">\n",
       "      <th></th>\n",
       "      <th>6's count</th>\n",
       "    </tr>\n",
       "  </thead>\n",
       "  <tbody>\n",
       "    <tr>\n",
       "      <th>MS Dhoni</th>\n",
       "      <td>141</td>\n",
       "    </tr>\n",
       "    <tr>\n",
       "      <th>KA Pollard</th>\n",
       "      <td>111</td>\n",
       "    </tr>\n",
       "    <tr>\n",
       "      <th>AB de Villiers</th>\n",
       "      <td>100</td>\n",
       "    </tr>\n",
       "    <tr>\n",
       "      <th>RG Sharma</th>\n",
       "      <td>78</td>\n",
       "    </tr>\n",
       "    <tr>\n",
       "      <th>HH Pandya</th>\n",
       "      <td>66</td>\n",
       "    </tr>\n",
       "  </tbody>\n",
       "</table>\n",
       "</div>"
      ],
      "text/plain": [
       "                6's count\n",
       "MS Dhoni              141\n",
       "KA Pollard            111\n",
       "AB de Villiers        100\n",
       "RG Sharma              78\n",
       "HH Pandya              66"
      ]
     },
     "execution_count": 110,
     "metadata": {},
     "output_type": "execute_result"
    }
   ],
   "source": [
    "# Creating a dataframe that will hold the info on the total number of 6's hit by batsmans in final 4 overs.\n",
    "li = []\n",
    "for i in range(len(num_of_6)):\n",
    "    li.append(num_of_6[i])\n",
    "    \n",
    "num_of_6 = pd.DataFrame(li, index = num_of_6.index, columns = [\"6's count\"])\n",
    "num_of_6.head()"
   ]
  },
  {
   "cell_type": "code",
   "execution_count": 111,
   "id": "2388bc8c",
   "metadata": {},
   "outputs": [
    {
     "data": {
      "text/html": [
       "<div>\n",
       "<style scoped>\n",
       "    .dataframe tbody tr th:only-of-type {\n",
       "        vertical-align: middle;\n",
       "    }\n",
       "\n",
       "    .dataframe tbody tr th {\n",
       "        vertical-align: top;\n",
       "    }\n",
       "\n",
       "    .dataframe thead th {\n",
       "        text-align: right;\n",
       "    }\n",
       "</style>\n",
       "<table border=\"1\" class=\"dataframe\">\n",
       "  <thead>\n",
       "    <tr style=\"text-align: right;\">\n",
       "      <th></th>\n",
       "      <th>4's count</th>\n",
       "    </tr>\n",
       "  </thead>\n",
       "  <tbody>\n",
       "    <tr>\n",
       "      <th>MS Dhoni</th>\n",
       "      <td>170</td>\n",
       "    </tr>\n",
       "    <tr>\n",
       "      <th>KA Pollard</th>\n",
       "      <td>98</td>\n",
       "    </tr>\n",
       "    <tr>\n",
       "      <th>AB de Villiers</th>\n",
       "      <td>96</td>\n",
       "    </tr>\n",
       "    <tr>\n",
       "      <th>KD Karthik</th>\n",
       "      <td>92</td>\n",
       "    </tr>\n",
       "    <tr>\n",
       "      <th>RG Sharma</th>\n",
       "      <td>90</td>\n",
       "    </tr>\n",
       "  </tbody>\n",
       "</table>\n",
       "</div>"
      ],
      "text/plain": [
       "                4's count\n",
       "MS Dhoni              170\n",
       "KA Pollard             98\n",
       "AB de Villiers         96\n",
       "KD Karthik             92\n",
       "RG Sharma              90"
      ]
     },
     "execution_count": 111,
     "metadata": {},
     "output_type": "execute_result"
    }
   ],
   "source": [
    "# Creating a dataframe that will hold the info on the total number of 4's hit by batsmans in final 4 overs.\n",
    "li = []\n",
    "for i in range(len(num_of_4)):\n",
    "    li.append(num_of_4[i])\n",
    "    \n",
    "num_of_4 = pd.DataFrame(li, index = num_of_4.index, columns = [\"4's count\"])\n",
    "num_of_4.head()"
   ]
  },
  {
   "cell_type": "code",
   "execution_count": 112,
   "id": "1f248631",
   "metadata": {},
   "outputs": [],
   "source": [
    "final_4_overs_record = final_4_overs_record.join(num_of_4)\n",
    "final_4_overs_record = final_4_overs_record.join(num_of_6)"
   ]
  },
  {
   "cell_type": "code",
   "execution_count": 113,
   "id": "5e2d7c57",
   "metadata": {},
   "outputs": [],
   "source": [
    "final_4_overs_record[\"percent_runs_scored_by_boundarys\"] = (final_4_overs_record[\"4's count\"]*4 + final_4_overs_record[\"6's count\"]*6)/final_4_overs_record['Total runs'] * 100"
   ]
  },
  {
   "cell_type": "code",
   "execution_count": 114,
   "id": "5be98582",
   "metadata": {},
   "outputs": [
    {
     "data": {
      "text/html": [
       "<div>\n",
       "<style scoped>\n",
       "    .dataframe tbody tr th:only-of-type {\n",
       "        vertical-align: middle;\n",
       "    }\n",
       "\n",
       "    .dataframe tbody tr th {\n",
       "        vertical-align: top;\n",
       "    }\n",
       "\n",
       "    .dataframe thead th {\n",
       "        text-align: right;\n",
       "    }\n",
       "</style>\n",
       "<table border=\"1\" class=\"dataframe\">\n",
       "  <thead>\n",
       "    <tr style=\"text-align: right;\">\n",
       "      <th></th>\n",
       "      <th>Total runs</th>\n",
       "      <th>Balls Faced</th>\n",
       "      <th>Avg_Strike_rate</th>\n",
       "      <th>4's count</th>\n",
       "      <th>6's count</th>\n",
       "      <th>percent_runs_scored_by_boundarys</th>\n",
       "    </tr>\n",
       "    <tr>\n",
       "      <th>striker</th>\n",
       "      <th></th>\n",
       "      <th></th>\n",
       "      <th></th>\n",
       "      <th></th>\n",
       "      <th></th>\n",
       "      <th></th>\n",
       "    </tr>\n",
       "  </thead>\n",
       "  <tbody>\n",
       "    <tr>\n",
       "      <th>MS Dhoni</th>\n",
       "      <td>2303</td>\n",
       "      <td>1275</td>\n",
       "      <td>162.648677</td>\n",
       "      <td>170.0</td>\n",
       "      <td>141.0</td>\n",
       "      <td>66.261398</td>\n",
       "    </tr>\n",
       "    <tr>\n",
       "      <th>KA Pollard</th>\n",
       "      <td>1494</td>\n",
       "      <td>851</td>\n",
       "      <td>158.195579</td>\n",
       "      <td>98.0</td>\n",
       "      <td>111.0</td>\n",
       "      <td>70.816600</td>\n",
       "    </tr>\n",
       "    <tr>\n",
       "      <th>AB de Villiers</th>\n",
       "      <td>1284</td>\n",
       "      <td>572</td>\n",
       "      <td>207.525009</td>\n",
       "      <td>96.0</td>\n",
       "      <td>100.0</td>\n",
       "      <td>76.635514</td>\n",
       "    </tr>\n",
       "    <tr>\n",
       "      <th>RG Sharma</th>\n",
       "      <td>1144</td>\n",
       "      <td>601</td>\n",
       "      <td>159.081131</td>\n",
       "      <td>90.0</td>\n",
       "      <td>78.0</td>\n",
       "      <td>72.377622</td>\n",
       "    </tr>\n",
       "    <tr>\n",
       "      <th>V Kohli</th>\n",
       "      <td>968</td>\n",
       "      <td>491</td>\n",
       "      <td>172.070080</td>\n",
       "      <td>70.0</td>\n",
       "      <td>63.0</td>\n",
       "      <td>67.975207</td>\n",
       "    </tr>\n",
       "  </tbody>\n",
       "</table>\n",
       "</div>"
      ],
      "text/plain": [
       "                Total runs  Balls Faced  Avg_Strike_rate  4's count  \\\n",
       "striker                                                               \n",
       "MS Dhoni              2303         1275       162.648677      170.0   \n",
       "KA Pollard            1494          851       158.195579       98.0   \n",
       "AB de Villiers        1284          572       207.525009       96.0   \n",
       "RG Sharma             1144          601       159.081131       90.0   \n",
       "V Kohli                968          491       172.070080       70.0   \n",
       "\n",
       "                6's count  percent_runs_scored_by_boundarys  \n",
       "striker                                                      \n",
       "MS Dhoni            141.0                         66.261398  \n",
       "KA Pollard          111.0                         70.816600  \n",
       "AB de Villiers      100.0                         76.635514  \n",
       "RG Sharma            78.0                         72.377622  \n",
       "V Kohli              63.0                         67.975207  "
      ]
     },
     "execution_count": 114,
     "metadata": {},
     "output_type": "execute_result"
    }
   ],
   "source": [
    "final_4_overs_record.head()"
   ]
  },
  {
   "cell_type": "markdown",
   "id": "187feba6",
   "metadata": {},
   "source": [
    "**28. Among all the batsmans that have played more than 500 balls, which players have scored the most number of runs in the deaths overs?**"
   ]
  },
  {
   "cell_type": "code",
   "execution_count": 115,
   "id": "e9cef1a3",
   "metadata": {},
   "outputs": [
    {
     "data": {
      "text/plain": [
       "striker\n",
       "MS Dhoni          2303\n",
       "KA Pollard        1494\n",
       "AB de Villiers    1284\n",
       "RG Sharma         1144\n",
       "KD Karthik         943\n",
       "Name: Total runs, dtype: int64"
      ]
     },
     "execution_count": 115,
     "metadata": {},
     "output_type": "execute_result"
    }
   ],
   "source": [
    "final_4_overs_record[final_4_overs_record['Balls Faced'] > 500]['Total runs'].sort_values(ascending=False)[:5]"
   ]
  },
  {
   "cell_type": "markdown",
   "id": "e65be45b",
   "metadata": {},
   "source": [
    "**29. Among all the batsman that have played more than 500 balls, which batsmans have the highest Average Strike rates in the death overs?**"
   ]
  },
  {
   "cell_type": "code",
   "execution_count": 116,
   "id": "9852c5b9",
   "metadata": {},
   "outputs": [
    {
     "data": {
      "text/plain": [
       "striker\n",
       "AB de Villiers    207.525009\n",
       "MS Dhoni          162.648677\n",
       "RG Sharma         159.081131\n",
       "KA Pollard        158.195579\n",
       "KD Karthik        156.485564\n",
       "Name: Avg_Strike_rate, dtype: float64"
      ]
     },
     "execution_count": 116,
     "metadata": {},
     "output_type": "execute_result"
    }
   ],
   "source": [
    "final_4_overs_record[final_4_overs_record['Balls Faced'] > 500]['Avg_Strike_rate'].sort_values(ascending=False)[:5]"
   ]
  },
  {
   "cell_type": "markdown",
   "id": "0e37a8a2",
   "metadata": {},
   "source": [
    "**30. Highest boundary percentage of the top 5 batsmans?**"
   ]
  },
  {
   "cell_type": "code",
   "execution_count": 117,
   "id": "6bd65b90",
   "metadata": {},
   "outputs": [
    {
     "data": {
      "text/plain": [
       "striker\n",
       "AB de Villiers    76.635514\n",
       "RG Sharma         72.377622\n",
       "KA Pollard        70.816600\n",
       "KD Karthik        69.565217\n",
       "MS Dhoni          66.261398\n",
       "Name: percent_runs_scored_by_boundarys, dtype: float64"
      ]
     },
     "execution_count": 117,
     "metadata": {},
     "output_type": "execute_result"
    }
   ],
   "source": [
    "final_4_overs_record[final_4_overs_record['Balls Faced'] > 500]['percent_runs_scored_by_boundarys'].sort_values(ascending=False)[:5]"
   ]
  },
  {
   "cell_type": "markdown",
   "id": "2c87a615",
   "metadata": {},
   "source": [
    "**31. Give the list of Orange cap holders in each season of IPL and also the number of runs scored by them.**"
   ]
  },
  {
   "cell_type": "code",
   "execution_count": 118,
   "id": "cf02c190",
   "metadata": {},
   "outputs": [
    {
     "name": "stdout",
     "output_type": "stream",
     "text": [
      "Season    Player              Runs                          \n",
      "2008 \t  SE Marsh \t\t 616\n",
      "2009 \t  ML Hayden \t\t 572\n",
      "2010 \t  SR Tendulkar \t\t 618\n",
      "2011 \t  CH Gayle \t\t 608\n",
      "2012 \t  CH Gayle \t\t 733\n",
      "2013 \t  MEK Hussey \t\t 733\n",
      "2014 \t  RV Uthappa \t\t 660\n",
      "2015 \t  DA Warner \t\t 562\n",
      "2016 \t  V Kohli \t\t 973\n",
      "2017 \t  DA Warner \t\t 641\n",
      "2018 \t  KS Williamson \t\t 735\n",
      "2019 \t  DA Warner \t\t 692\n",
      "2020 \t  KL Rahul \t\t 676\n",
      "2021 \t  S Dhawan \t\t 85\n"
     ]
    }
   ],
   "source": [
    "data = ipl_data1.groupby(['season','striker'])['runs_off_bat'].sum().groupby('season').max()\n",
    "temp_df=pd.DataFrame(ipl_data1.groupby(['season','striker'])['runs_off_bat'].sum())\n",
    "print(\"{0:10}{1:20}{2:30}\".format(\"Season\",\"Player\",\"Runs\"))\n",
    "for season,run in data.items():\n",
    "    player = temp_df.loc[season][temp_df.loc[season]['runs_off_bat'] == run].index[0]\n",
    "    print(season,'\\t ',player,'\\t\\t',run)"
   ]
  },
  {
   "cell_type": "markdown",
   "id": "fd64eb1e",
   "metadata": {},
   "source": [
    "**32. Most runs by a batsman in any season of the IPL?**"
   ]
  },
  {
   "cell_type": "code",
   "execution_count": 119,
   "id": "59d752a3",
   "metadata": {},
   "outputs": [
    {
     "data": {
      "text/plain": [
       "striker  season\n",
       "V Kohli  2016      973\n",
       "Name: runs_off_bat, dtype: int64"
      ]
     },
     "execution_count": 119,
     "metadata": {},
     "output_type": "execute_result"
    }
   ],
   "source": [
    "ipl_data1.groupby(['striker','season'])['runs_off_bat'].sum().sort_values(ascending=False)[:1]"
   ]
  },
  {
   "cell_type": "markdown",
   "id": "83516ad2",
   "metadata": {},
   "source": [
    "2016 season was an iconic season for the run machine Virat Kohli, where he hits the most number of runs in any IPL seasons, thanks to his 4 centuries in a row."
   ]
  },
  {
   "cell_type": "markdown",
   "id": "876612f9",
   "metadata": {},
   "source": [
    "### Bowling Statistics:-"
   ]
  },
  {
   "cell_type": "markdown",
   "id": "c0061250",
   "metadata": {},
   "source": [
    "**33. List all the 'Purple Cap' holders from different seasons of IPL.**"
   ]
  },
  {
   "cell_type": "code",
   "execution_count": 120,
   "id": "e8ca1d4d",
   "metadata": {},
   "outputs": [
    {
     "name": "stdout",
     "output_type": "stream",
     "text": [
      "Season    Player              Wickets                       \n",
      "2008 \t  Sohail Tanvir \t\t 22\n",
      "2009 \t  A Kumble \t\t 21\n",
      "2011 \t  MM Patel \t\t 22\n",
      "2012 \t  M Morkel \t\t 25\n",
      "2013 \t  DJ Bravo \t\t 32\n",
      "2014 \t  MM Sharma \t\t 23\n",
      "2015 \t  A Nehra \t\t 22\n",
      "2016 \t  B Kumar \t\t 23\n",
      "2017 \t  B Kumar \t\t 26\n",
      "2018 \t  AJ Tye \t\t 24\n",
      "2019 \t  DL Chahar \t\t 22\n",
      "2020 \t  A Nortje \t\t 22\n"
     ]
    }
   ],
   "source": [
    "lst = ['caught','bowled','lbw','stumped','caught and bowled','hit wicket']\n",
    "data = ipl_data1[ipl_data1['wicket_type'].apply(lambda x: True if x in lst and x != np.nan else False)].groupby(['season','bowler']).count()['ball']\n",
    "data=data.sort_values(ascending=False)[:30].sort_index(level=0)\n",
    "val=0\n",
    "lst=[]\n",
    "print(\"{0:10}{1:20}{2:30}\".format(\"Season\",\"Player\",\"Wickets\"))\n",
    "for (season,bowler),wicket in data.items():\n",
    "    if season == val:\n",
    "        lst.append(wicket)        \n",
    "    else:\n",
    "        print(season,'\\t ',bowler,'\\t\\t',wicket)\n",
    "        val = season\n",
    "        lst=[]"
   ]
  },
  {
   "cell_type": "markdown",
   "id": "318d83f2",
   "metadata": {},
   "source": [
    "**34. Which bowler has taken the most number of wickets in the IPL?**"
   ]
  },
  {
   "cell_type": "code",
   "execution_count": 121,
   "id": "2c786853",
   "metadata": {},
   "outputs": [
    {
     "data": {
      "text/plain": [
       "SL Malinga    170\n",
       "Name: bowler, dtype: int64"
      ]
     },
     "execution_count": 121,
     "metadata": {},
     "output_type": "execute_result"
    }
   ],
   "source": [
    "lst = ['caught','bowled','lbw','stumped','caught and bowled','hit wicket']\n",
    "ipl_data1[ipl_data1['wicket_type'].apply(lambda x: True if x in lst and x != ' ' else False)]['bowler'].value_counts()[:1]"
   ]
  },
  {
   "cell_type": "markdown",
   "id": "4e575e7a",
   "metadata": {},
   "source": [
    "Lasith Malinga a Sri-Lankan fast bowler has trouble many legendary batsmans with his perfect yorkers. He has taken the most number of wickets in IPL uptill now. Surprisingly, Malinga has never won the Purple Cap for any seasons."
   ]
  },
  {
   "cell_type": "markdown",
   "id": "6c0b474d",
   "metadata": {},
   "source": [
    "**35. Most maiden overs bowled by a bowler?**"
   ]
  },
  {
   "cell_type": "code",
   "execution_count": 122,
   "id": "036a66b4",
   "metadata": {},
   "outputs": [
    {
     "data": {
      "text/plain": [
       "P Kumar    12\n",
       "Name: bowler, dtype: int64"
      ]
     },
     "execution_count": 122,
     "metadata": {},
     "output_type": "execute_result"
    }
   ],
   "source": [
    "data = ipl_data1.groupby(['start_date', 'bowler', 'over'])['run'].sum()\n",
    "data = data[data.values == 0].droplevel(level = [0, 2])\n",
    "data.index.value_counts()[:1]"
   ]
  },
  {
   "cell_type": "markdown",
   "id": "a5f8c0f5",
   "metadata": {},
   "source": [
    "Pravin kumar has bowled the most number (12) of maiden overs in the history of IPL."
   ]
  },
  {
   "cell_type": "markdown",
   "id": "92a91681",
   "metadata": {},
   "source": [
    "**36. Which team has taken the most number of wickets in overall seasons of IPL?**"
   ]
  },
  {
   "cell_type": "code",
   "execution_count": 123,
   "id": "633a9ac8",
   "metadata": {},
   "outputs": [
    {
     "data": {
      "image/png": "[encoded data removed]",
      "text/plain": [
       "<Figure size 720x576 with 1 Axes>"
      ]
     },
     "metadata": {
      "needs_background": "light"
     },
     "output_type": "display_data"
    }
   ],
   "source": [
    "plt.figure(figsize=(10,8))\n",
    "lst = ['caught','bowled','lbw','stumped','caught and bowled','hit wicket']\n",
    "data = ipl_data1[ipl_data1['wicket_type'].apply(lambda x: True if x in lst and x != ' ' else False)]['bowling_team'].value_counts()\n",
    "ipl_data1.groupby(['batting_team'])['extras'].agg('sum').sort_values(ascending=False)\n",
    "sns.barplot(y=data.index,x=data,orient='h')\n",
    "plt.xlabel('Wickets')\n",
    "plt.ylabel('Teams')\n",
    "plt.show()"
   ]
  },
  {
   "cell_type": "markdown",
   "id": "2f85704d",
   "metadata": {},
   "source": [
    "**37. Which bowler has bowled the most number of 'No balls' in IPL?**"
   ]
  },
  {
   "cell_type": "code",
   "execution_count": 124,
   "id": "f0b3e305",
   "metadata": {},
   "outputs": [
    {
     "data": {
      "text/plain": [
       "S Sreesanth    23\n",
       "JJ Bumrah      23\n",
       "A Mishra       21\n",
       "I Sharma       21\n",
       "UT Yadav       19\n",
       "SL Malinga     18\n",
       "AB Dinda       14\n",
       "JA Morkel      13\n",
       "M Morkel       13\n",
       "RP Singh       13\n",
       "Name: bowler, dtype: int64"
      ]
     },
     "execution_count": 124,
     "metadata": {},
     "output_type": "execute_result"
    }
   ],
   "source": [
    "ipl_data1[ipl_data1['noballs'] != 0]['bowler'].value_counts()[:10]"
   ]
  },
  {
   "cell_type": "markdown",
   "id": "f74f32ad",
   "metadata": {},
   "source": [
    "We have two best Indian fast bowlers who have bowled the most number of 'No Balls'."
   ]
  },
  {
   "cell_type": "markdown",
   "id": "4fbe79f2",
   "metadata": {},
   "source": [
    "**38. What is the result of an extra ball bowled after a 'No ball'?**"
   ]
  },
  {
   "cell_type": "markdown",
   "id": "7822f9f7",
   "metadata": {},
   "source": [
    "Through this question we would like to know how costly do results of 'no balls' have been in the history of IPL."
   ]
  },
  {
   "cell_type": "code",
   "execution_count": 125,
   "id": "480db264",
   "metadata": {},
   "outputs": [
    {
     "data": {
      "text/plain": [
       "Int64Index([   239,    693,    738,    886,   1294,   1301,   1313,   1319,\n",
       "              1391,   1539,\n",
       "            ...\n",
       "            191146, 192950, 193037, 193163, 193224, 193659, 193730, 193763,\n",
       "            193941, 194062],\n",
       "           dtype='int64', length=758)"
      ]
     },
     "execution_count": 125,
     "metadata": {},
     "output_type": "execute_result"
    }
   ],
   "source": [
    "no_ball = ipl_data1[ipl_data1['noballs'] == 1].index\n",
    "no_ball"
   ]
  },
  {
   "cell_type": "code",
   "execution_count": 126,
   "id": "70caad14",
   "metadata": {},
   "outputs": [
    {
     "data": {
      "text/plain": [
       "[240,\n",
       " 694,\n",
       " 739,\n",
       " 887,\n",
       " 1295,\n",
       " 1302,\n",
       " 1314,\n",
       " 1320,\n",
       " 1392,\n",
       " 1540,\n",
       " 1669,\n",
       " 1740,\n",
       " 1797,\n",
       " 1875,\n",
       " 1967,\n",
       " 2117,\n",
       " 2237,\n",
       " 2302,\n",
       " 2361,\n",
       " 2386,\n",
       " 2483,\n",
       " 2524,\n",
       " 2730,\n",
       " 2872,\n",
       " 2940,\n",
       " 3241,\n",
       " 3277,\n",
       " 3764,\n",
       " 3879,\n",
       " 3946,\n",
       " 4118,\n",
       " 4124,\n",
       " 4135,\n",
       " 4147,\n",
       " 4530,\n",
       " 4531,\n",
       " 4676,\n",
       " 4683,\n",
       " 4862,\n",
       " 5402,\n",
       " 5507,\n",
       " 5617,\n",
       " 6099,\n",
       " 6100,\n",
       " 6380,\n",
       " 6381,\n",
       " 6797,\n",
       " 6825,\n",
       " 7076,\n",
       " 7405,\n",
       " 7451,\n",
       " 7452,\n",
       " 7455,\n",
       " 7539,\n",
       " 7719,\n",
       " 7720,\n",
       " 7750,\n",
       " 8051,\n",
       " 8851,\n",
       " 8899,\n",
       " 9166,\n",
       " 9331,\n",
       " 9343,\n",
       " 9458,\n",
       " 9484,\n",
       " 10357,\n",
       " 10501,\n",
       " 10565,\n",
       " 10973,\n",
       " 11103,\n",
       " 11279,\n",
       " 11339,\n",
       " 11343,\n",
       " 11434,\n",
       " 11463,\n",
       " 11958,\n",
       " 12077,\n",
       " 12403,\n",
       " 12655,\n",
       " 13352,\n",
       " 13434,\n",
       " 13470,\n",
       " 13643,\n",
       " 15085,\n",
       " 15390,\n",
       " 15831,\n",
       " 15958,\n",
       " 16444,\n",
       " 16446,\n",
       " 16544,\n",
       " 16943,\n",
       " 17114,\n",
       " 17510,\n",
       " 17738,\n",
       " 17884,\n",
       " 18114,\n",
       " 18231,\n",
       " 18340,\n",
       " 18749,\n",
       " 19023,\n",
       " 19478,\n",
       " 19745,\n",
       " 19823,\n",
       " 19866,\n",
       " 19921,\n",
       " 19922,\n",
       " 20140,\n",
       " 20565,\n",
       " 21081,\n",
       " 21106,\n",
       " 21352,\n",
       " 21486,\n",
       " 21577,\n",
       " 21801,\n",
       " 22467,\n",
       " 22475,\n",
       " 22640,\n",
       " 22678,\n",
       " 22799,\n",
       " 22800,\n",
       " 22813,\n",
       " 22920,\n",
       " 22941,\n",
       " 23015,\n",
       " 23345,\n",
       " 23816,\n",
       " 23817,\n",
       " 23822,\n",
       " 23834,\n",
       " 23946,\n",
       " 24271,\n",
       " 24273,\n",
       " 24388,\n",
       " 24401,\n",
       " 24413,\n",
       " 24414,\n",
       " 24521,\n",
       " 24593,\n",
       " 24636,\n",
       " 24737,\n",
       " 24864,\n",
       " 24901,\n",
       " 25056,\n",
       " 25358,\n",
       " 25394,\n",
       " 25548,\n",
       " 26182,\n",
       " 26349,\n",
       " 26400,\n",
       " 26524,\n",
       " 26534,\n",
       " 26756,\n",
       " 26843,\n",
       " 27204,\n",
       " 27263,\n",
       " 27343,\n",
       " 27974,\n",
       " 27979,\n",
       " 28150,\n",
       " 28660,\n",
       " 29179,\n",
       " 29181,\n",
       " 29330,\n",
       " 29521,\n",
       " 30468,\n",
       " 30841,\n",
       " 31233,\n",
       " 31464,\n",
       " 31481,\n",
       " 31699,\n",
       " 31779,\n",
       " 31864,\n",
       " 32112,\n",
       " 32434,\n",
       " 32465,\n",
       " 32953,\n",
       " 32954,\n",
       " 33051,\n",
       " 33052,\n",
       " 33255,\n",
       " 33392,\n",
       " 33544,\n",
       " 33909,\n",
       " 33910,\n",
       " 34254,\n",
       " 34489,\n",
       " 34527,\n",
       " 34828,\n",
       " 35090,\n",
       " 35145,\n",
       " 35390,\n",
       " 35494,\n",
       " 35774,\n",
       " 35961,\n",
       " 36034,\n",
       " 36087,\n",
       " 36255,\n",
       " 36256,\n",
       " 36331,\n",
       " 38092,\n",
       " 38525,\n",
       " 38526,\n",
       " 38726,\n",
       " 38793,\n",
       " 39065,\n",
       " 39080,\n",
       " 39273,\n",
       " 40160,\n",
       " 40401,\n",
       " 40753,\n",
       " 40757,\n",
       " 40844,\n",
       " 41992,\n",
       " 42063,\n",
       " 42106,\n",
       " 42252,\n",
       " 42256,\n",
       " 42354,\n",
       " 43116,\n",
       " 43117,\n",
       " 43402,\n",
       " 43546,\n",
       " 43827,\n",
       " 43959,\n",
       " 43974,\n",
       " 44090,\n",
       " 44147,\n",
       " 44190,\n",
       " 44419,\n",
       " 45039,\n",
       " 45072,\n",
       " 45083,\n",
       " 45204,\n",
       " 45433,\n",
       " 45565,\n",
       " 45600,\n",
       " 46087,\n",
       " 46112,\n",
       " 46113,\n",
       " 46119,\n",
       " 46521,\n",
       " 46529,\n",
       " 46539,\n",
       " 46822,\n",
       " 47246,\n",
       " 47404,\n",
       " 47419,\n",
       " 47626,\n",
       " 48282,\n",
       " 48305,\n",
       " 48443,\n",
       " 48614,\n",
       " 48735,\n",
       " 48736,\n",
       " 50242,\n",
       " 50257,\n",
       " 50512,\n",
       " 50905,\n",
       " 51024,\n",
       " 51035,\n",
       " 51083,\n",
       " 51204,\n",
       " 51206,\n",
       " 51316,\n",
       " 51454,\n",
       " 51699,\n",
       " 51877,\n",
       " 51944,\n",
       " 52171,\n",
       " 52173,\n",
       " 52215,\n",
       " 52542,\n",
       " 52993,\n",
       " 53006,\n",
       " 53229,\n",
       " 53277,\n",
       " 53382,\n",
       " 54104,\n",
       " 54153,\n",
       " 54249,\n",
       " 54461,\n",
       " 55629,\n",
       " 55632,\n",
       " 55985,\n",
       " 55987,\n",
       " 56520,\n",
       " 56570,\n",
       " 57127,\n",
       " 57798,\n",
       " 57827,\n",
       " 58229,\n",
       " 58536,\n",
       " 59354,\n",
       " 59600,\n",
       " 60064,\n",
       " 60065,\n",
       " 60126,\n",
       " 60315,\n",
       " 61372,\n",
       " 61617,\n",
       " 61634,\n",
       " 62174,\n",
       " 62177,\n",
       " 63294,\n",
       " 63442,\n",
       " 63519,\n",
       " 63805,\n",
       " 63984,\n",
       " 64083,\n",
       " 64493,\n",
       " 64541,\n",
       " 65070,\n",
       " 65591,\n",
       " 65603,\n",
       " 65988,\n",
       " 66187,\n",
       " 66429,\n",
       " 66889,\n",
       " 67839,\n",
       " 68258,\n",
       " 68368,\n",
       " 68372,\n",
       " 68652,\n",
       " 68748,\n",
       " 68961,\n",
       " 69240,\n",
       " 69375,\n",
       " 69493,\n",
       " 69545,\n",
       " 71019,\n",
       " 71194,\n",
       " 71230,\n",
       " 71531,\n",
       " 71539,\n",
       " 72195,\n",
       " 72335,\n",
       " 72654,\n",
       " 72758,\n",
       " 72759,\n",
       " 72761,\n",
       " 73575,\n",
       " 73743,\n",
       " 73810,\n",
       " 74246,\n",
       " 74703,\n",
       " 74778,\n",
       " 75260,\n",
       " 75266,\n",
       " 75357,\n",
       " 75873,\n",
       " 76158,\n",
       " 76174,\n",
       " 76368,\n",
       " 76840,\n",
       " 77845,\n",
       " 78055,\n",
       " 78174,\n",
       " 78396,\n",
       " 78575,\n",
       " 79040,\n",
       " 79185,\n",
       " 79230,\n",
       " 79259,\n",
       " 79389,\n",
       " 79581,\n",
       " 79708,\n",
       " 79827,\n",
       " 80064,\n",
       " 80126,\n",
       " 80187,\n",
       " 80226,\n",
       " 80284,\n",
       " 81228,\n",
       " 81770,\n",
       " 81771,\n",
       " 83006,\n",
       " 83045,\n",
       " 83104,\n",
       " 83448,\n",
       " 83833,\n",
       " 83878,\n",
       " 84079,\n",
       " 84526,\n",
       " 84794,\n",
       " 85275,\n",
       " 85653,\n",
       " 85887,\n",
       " 86022,\n",
       " 86047,\n",
       " 86131,\n",
       " 86400,\n",
       " 86769,\n",
       " 86872,\n",
       " 86970,\n",
       " 87542,\n",
       " 87754,\n",
       " 88445,\n",
       " 88614,\n",
       " 89180,\n",
       " 89205,\n",
       " 89222,\n",
       " 89737,\n",
       " 89846,\n",
       " 90071,\n",
       " 90107,\n",
       " 91265,\n",
       " 91379,\n",
       " 91383,\n",
       " 91392,\n",
       " 93065,\n",
       " 93200,\n",
       " 93225,\n",
       " 93797,\n",
       " 94897,\n",
       " 95023,\n",
       " 95127,\n",
       " 95643,\n",
       " 95785,\n",
       " 96029,\n",
       " 96540,\n",
       " 96597,\n",
       " 96599,\n",
       " 97183,\n",
       " 97418,\n",
       " 97660,\n",
       " 97681,\n",
       " 98190,\n",
       " 98678,\n",
       " 98799,\n",
       " 98957,\n",
       " 99025,\n",
       " 99155,\n",
       " 99409,\n",
       " 99421,\n",
       " 99559,\n",
       " 100024,\n",
       " 100598,\n",
       " 100732,\n",
       " 100734,\n",
       " 100770,\n",
       " 101945,\n",
       " 102346,\n",
       " 102607,\n",
       " 103424,\n",
       " 103455,\n",
       " 103561,\n",
       " 103572,\n",
       " 103598,\n",
       " 103850,\n",
       " 103851,\n",
       " 103940,\n",
       " 104013,\n",
       " 104183,\n",
       " 105092,\n",
       " 105672,\n",
       " 106182,\n",
       " 106354,\n",
       " 106506,\n",
       " 106746,\n",
       " 106873,\n",
       " 107387,\n",
       " 107388,\n",
       " 108337,\n",
       " 108450,\n",
       " 108514,\n",
       " 108587,\n",
       " 108699,\n",
       " 109447,\n",
       " 109563,\n",
       " 109926,\n",
       " 110065,\n",
       " 110071,\n",
       " 110192,\n",
       " 110631,\n",
       " 111232,\n",
       " 111993,\n",
       " 111997,\n",
       " 112009,\n",
       " 112040,\n",
       " 112614,\n",
       " 112681,\n",
       " 112949,\n",
       " 112950,\n",
       " 113043,\n",
       " 113083,\n",
       " 113172,\n",
       " 113173,\n",
       " 113440,\n",
       " 113512,\n",
       " 113845,\n",
       " 113862,\n",
       " 113915,\n",
       " 114406,\n",
       " 115675,\n",
       " 115703,\n",
       " 115920,\n",
       " 116051,\n",
       " 116190,\n",
       " 116253,\n",
       " 116334,\n",
       " 117816,\n",
       " 119343,\n",
       " 119721,\n",
       " 119727,\n",
       " 119790,\n",
       " 120321,\n",
       " 120360,\n",
       " 120444,\n",
       " 120451,\n",
       " 120615,\n",
       " 120620,\n",
       " 120958,\n",
       " 121019,\n",
       " 121545,\n",
       " 122276,\n",
       " 122428,\n",
       " 122474,\n",
       " 122663,\n",
       " 122884,\n",
       " 123266,\n",
       " 123879,\n",
       " 124091,\n",
       " 124429,\n",
       " 124444,\n",
       " 124565,\n",
       " 125026,\n",
       " 125228,\n",
       " 125681,\n",
       " 126012,\n",
       " 126361,\n",
       " 126856,\n",
       " 126961,\n",
       " 127242,\n",
       " 127443,\n",
       " 128188,\n",
       " 128451,\n",
       " 128562,\n",
       " 128650,\n",
       " 129455,\n",
       " 129456,\n",
       " 129815,\n",
       " 130105,\n",
       " 130266,\n",
       " 130267,\n",
       " 130321,\n",
       " 130799,\n",
       " 132169,\n",
       " 132243,\n",
       " 132353,\n",
       " 132369,\n",
       " 132818,\n",
       " 132915,\n",
       " 132917,\n",
       " 132942,\n",
       " 132959,\n",
       " 133261,\n",
       " 133288,\n",
       " 133806,\n",
       " 133973,\n",
       " 134048,\n",
       " 134084,\n",
       " 134971,\n",
       " 135315,\n",
       " 135400,\n",
       " 135814,\n",
       " 136608,\n",
       " 136781,\n",
       " 138039,\n",
       " 138042,\n",
       " 138144,\n",
       " 138791,\n",
       " 139041,\n",
       " 139042,\n",
       " 139298,\n",
       " 139956,\n",
       " 139965,\n",
       " 140175,\n",
       " 140266,\n",
       " 141150,\n",
       " 141409,\n",
       " 141487,\n",
       " 141743,\n",
       " 141768,\n",
       " 142019,\n",
       " 142225,\n",
       " 142452,\n",
       " 142974,\n",
       " 142990,\n",
       " 143666,\n",
       " 143705,\n",
       " 144163,\n",
       " 144558,\n",
       " 144696,\n",
       " 145713,\n",
       " 147373,\n",
       " 148206,\n",
       " 148215,\n",
       " 148290,\n",
       " 148389,\n",
       " 149156,\n",
       " 149534,\n",
       " 149707,\n",
       " 150478,\n",
       " 150603,\n",
       " 150681,\n",
       " 150919,\n",
       " 150937,\n",
       " 151374,\n",
       " 151375,\n",
       " 151626,\n",
       " 151767,\n",
       " 152026,\n",
       " 152224,\n",
       " 152727,\n",
       " 153140,\n",
       " 153256,\n",
       " 153309,\n",
       " 153728,\n",
       " 154011,\n",
       " 154022,\n",
       " 154056,\n",
       " 154513,\n",
       " 154554,\n",
       " 154612,\n",
       " 154860,\n",
       " 154861,\n",
       " 154987,\n",
       " 155221,\n",
       " 155257,\n",
       " 155462,\n",
       " 155466,\n",
       " 155961,\n",
       " 156027,\n",
       " 156280,\n",
       " 156526,\n",
       " 156570,\n",
       " 157618,\n",
       " 157683,\n",
       " 158081,\n",
       " 158624,\n",
       " 158820,\n",
       " 158936,\n",
       " 159343,\n",
       " 159650,\n",
       " 159920,\n",
       " 160640,\n",
       " 160645,\n",
       " 160869,\n",
       " 160897,\n",
       " 161726,\n",
       " 161849,\n",
       " 162208,\n",
       " 162230,\n",
       " 162506,\n",
       " 163272,\n",
       " 163384,\n",
       " 163391,\n",
       " 164072,\n",
       " 164163,\n",
       " 164473,\n",
       " 165411,\n",
       " 165656,\n",
       " 165721,\n",
       " 166742,\n",
       " 166900,\n",
       " 167542,\n",
       " 167836,\n",
       " 167963,\n",
       " 168064,\n",
       " 168451,\n",
       " 169054,\n",
       " 169812,\n",
       " 170160,\n",
       " 171038,\n",
       " 171560,\n",
       " 171681,\n",
       " 172102,\n",
       " 172503,\n",
       " 172779,\n",
       " 173648,\n",
       " 173672,\n",
       " 174183,\n",
       " 174414,\n",
       " 174694,\n",
       " 174695,\n",
       " 175030,\n",
       " 175378,\n",
       " 176005,\n",
       " 176305,\n",
       " 176417,\n",
       " 176560,\n",
       " 176764,\n",
       " 177496,\n",
       " 177882,\n",
       " 177997,\n",
       " 178102,\n",
       " 178148,\n",
       " 178201,\n",
       " 178443,\n",
       " 178660,\n",
       " 179219,\n",
       " 179393,\n",
       " 179429,\n",
       " 179439,\n",
       " 179588,\n",
       " 179589,\n",
       " 179853,\n",
       " 179926,\n",
       " 179927,\n",
       " 180015,\n",
       " 180115,\n",
       " 180617,\n",
       " 180930,\n",
       " 181056,\n",
       " 182386,\n",
       " 182403,\n",
       " 182650,\n",
       " 182947,\n",
       " 182988,\n",
       " 183330,\n",
       " 183599,\n",
       " 183621,\n",
       " 183874,\n",
       " 183882,\n",
       " 184319,\n",
       " 184488,\n",
       " 184591,\n",
       " 184691,\n",
       " 185089,\n",
       " 185337,\n",
       " 185838,\n",
       " 186244,\n",
       " 186274,\n",
       " 186408,\n",
       " 187032,\n",
       " 187300,\n",
       " 187303,\n",
       " 187370,\n",
       " 187532,\n",
       " 187685,\n",
       " 188011,\n",
       " 188321,\n",
       " 189233,\n",
       " 189234,\n",
       " 189917,\n",
       " 189937,\n",
       " 191021,\n",
       " 191131,\n",
       " 191147,\n",
       " 192951,\n",
       " 193038,\n",
       " 193164,\n",
       " 193225,\n",
       " 193660,\n",
       " 193731,\n",
       " 193764,\n",
       " 193942,\n",
       " 194063]"
      ]
     },
     "execution_count": 126,
     "metadata": {},
     "output_type": "execute_result"
    }
   ],
   "source": [
    "new = []\n",
    "for i in range(len(no_ball)):\n",
    "    new.append(no_ball[i] + 1)\n",
    "new"
   ]
  },
  {
   "cell_type": "code",
   "execution_count": 127,
   "id": "2c8d7473",
   "metadata": {},
   "outputs": [
    {
     "data": {
      "text/html": [
       "<div>\n",
       "<style scoped>\n",
       "    .dataframe tbody tr th:only-of-type {\n",
       "        vertical-align: middle;\n",
       "    }\n",
       "\n",
       "    .dataframe tbody tr th {\n",
       "        vertical-align: top;\n",
       "    }\n",
       "\n",
       "    .dataframe thead th {\n",
       "        text-align: right;\n",
       "    }\n",
       "</style>\n",
       "<table border=\"1\" class=\"dataframe\">\n",
       "  <thead>\n",
       "    <tr style=\"text-align: right;\">\n",
       "      <th></th>\n",
       "      <th>match_id</th>\n",
       "      <th>season</th>\n",
       "      <th>start_date</th>\n",
       "      <th>venue</th>\n",
       "      <th>innings</th>\n",
       "      <th>ball</th>\n",
       "      <th>batting_team</th>\n",
       "      <th>bowling_team</th>\n",
       "      <th>striker</th>\n",
       "      <th>non_striker</th>\n",
       "      <th>...</th>\n",
       "      <th>runs_off_bat</th>\n",
       "      <th>extras</th>\n",
       "      <th>wides</th>\n",
       "      <th>noballs</th>\n",
       "      <th>byes</th>\n",
       "      <th>legbyes</th>\n",
       "      <th>wicket_type</th>\n",
       "      <th>player_dismissed</th>\n",
       "      <th>run</th>\n",
       "      <th>over</th>\n",
       "    </tr>\n",
       "  </thead>\n",
       "  <tbody>\n",
       "    <tr>\n",
       "      <th>240</th>\n",
       "      <td>335983</td>\n",
       "      <td>2008</td>\n",
       "      <td>2008-04-19</td>\n",
       "      <td>Punjab Cricket Association IS Bindra Stadium, ...</td>\n",
       "      <td>1</td>\n",
       "      <td>2.3</td>\n",
       "      <td>Chennai Super Kings</td>\n",
       "      <td>Kings XI Punjab</td>\n",
       "      <td>ML Hayden</td>\n",
       "      <td>PA Patel</td>\n",
       "      <td>...</td>\n",
       "      <td>0</td>\n",
       "      <td>0</td>\n",
       "      <td>0.0</td>\n",
       "      <td>0.0</td>\n",
       "      <td>0.0</td>\n",
       "      <td>0.0</td>\n",
       "      <td></td>\n",
       "      <td></td>\n",
       "      <td>0</td>\n",
       "      <td>2</td>\n",
       "    </tr>\n",
       "    <tr>\n",
       "      <th>694</th>\n",
       "      <td>335986</td>\n",
       "      <td>2008</td>\n",
       "      <td>2008-04-20</td>\n",
       "      <td>Eden Gardens</td>\n",
       "      <td>1</td>\n",
       "      <td>0.3</td>\n",
       "      <td>Deccan Chargers</td>\n",
       "      <td>Kolkata Knight Riders</td>\n",
       "      <td>Y Venugopal Rao</td>\n",
       "      <td>AC Gilchrist</td>\n",
       "      <td>...</td>\n",
       "      <td>2</td>\n",
       "      <td>0</td>\n",
       "      <td>0.0</td>\n",
       "      <td>0.0</td>\n",
       "      <td>0.0</td>\n",
       "      <td>0.0</td>\n",
       "      <td></td>\n",
       "      <td></td>\n",
       "      <td>2</td>\n",
       "      <td>0</td>\n",
       "    </tr>\n",
       "    <tr>\n",
       "      <th>739</th>\n",
       "      <td>335986</td>\n",
       "      <td>2008</td>\n",
       "      <td>2008-04-20</td>\n",
       "      <td>Eden Gardens</td>\n",
       "      <td>1</td>\n",
       "      <td>7.3</td>\n",
       "      <td>Deccan Chargers</td>\n",
       "      <td>Kolkata Knight Riders</td>\n",
       "      <td>AC Gilchrist</td>\n",
       "      <td>A Symonds</td>\n",
       "      <td>...</td>\n",
       "      <td>0</td>\n",
       "      <td>0</td>\n",
       "      <td>0.0</td>\n",
       "      <td>0.0</td>\n",
       "      <td>0.0</td>\n",
       "      <td>0.0</td>\n",
       "      <td></td>\n",
       "      <td></td>\n",
       "      <td>0</td>\n",
       "      <td>7</td>\n",
       "    </tr>\n",
       "    <tr>\n",
       "      <th>887</th>\n",
       "      <td>335986</td>\n",
       "      <td>2008</td>\n",
       "      <td>2008-04-20</td>\n",
       "      <td>Eden Gardens</td>\n",
       "      <td>2</td>\n",
       "      <td>11.9</td>\n",
       "      <td>Kolkata Knight Riders</td>\n",
       "      <td>Deccan Chargers</td>\n",
       "      <td>SC Ganguly</td>\n",
       "      <td>DJ Hussey</td>\n",
       "      <td>...</td>\n",
       "      <td>1</td>\n",
       "      <td>0</td>\n",
       "      <td>0.0</td>\n",
       "      <td>0.0</td>\n",
       "      <td>0.0</td>\n",
       "      <td>0.0</td>\n",
       "      <td></td>\n",
       "      <td></td>\n",
       "      <td>1</td>\n",
       "      <td>11</td>\n",
       "    </tr>\n",
       "    <tr>\n",
       "      <th>1295</th>\n",
       "      <td>335987</td>\n",
       "      <td>2008</td>\n",
       "      <td>2008-04-21</td>\n",
       "      <td>Sawai Mansingh Stadium</td>\n",
       "      <td>1</td>\n",
       "      <td>19.3</td>\n",
       "      <td>Kings XI Punjab</td>\n",
       "      <td>Rajasthan Royals</td>\n",
       "      <td>WA Mota</td>\n",
       "      <td>PP Chawla</td>\n",
       "      <td>...</td>\n",
       "      <td>1</td>\n",
       "      <td>0</td>\n",
       "      <td>0.0</td>\n",
       "      <td>0.0</td>\n",
       "      <td>0.0</td>\n",
       "      <td>0.0</td>\n",
       "      <td></td>\n",
       "      <td></td>\n",
       "      <td>1</td>\n",
       "      <td>19</td>\n",
       "    </tr>\n",
       "  </tbody>\n",
       "</table>\n",
       "<p>5 rows × 21 columns</p>\n",
       "</div>"
      ],
      "text/plain": [
       "      match_id  season  start_date  \\\n",
       "240     335983    2008  2008-04-19   \n",
       "694     335986    2008  2008-04-20   \n",
       "739     335986    2008  2008-04-20   \n",
       "887     335986    2008  2008-04-20   \n",
       "1295    335987    2008  2008-04-21   \n",
       "\n",
       "                                                  venue  innings  ball  \\\n",
       "240   Punjab Cricket Association IS Bindra Stadium, ...        1   2.3   \n",
       "694                                        Eden Gardens        1   0.3   \n",
       "739                                        Eden Gardens        1   7.3   \n",
       "887                                        Eden Gardens        2  11.9   \n",
       "1295                             Sawai Mansingh Stadium        1  19.3   \n",
       "\n",
       "               batting_team           bowling_team          striker  \\\n",
       "240     Chennai Super Kings        Kings XI Punjab        ML Hayden   \n",
       "694         Deccan Chargers  Kolkata Knight Riders  Y Venugopal Rao   \n",
       "739         Deccan Chargers  Kolkata Knight Riders     AC Gilchrist   \n",
       "887   Kolkata Knight Riders        Deccan Chargers       SC Ganguly   \n",
       "1295        Kings XI Punjab       Rajasthan Royals          WA Mota   \n",
       "\n",
       "       non_striker  ... runs_off_bat  extras  wides  noballs  byes  legbyes  \\\n",
       "240       PA Patel  ...            0       0    0.0      0.0   0.0      0.0   \n",
       "694   AC Gilchrist  ...            2       0    0.0      0.0   0.0      0.0   \n",
       "739      A Symonds  ...            0       0    0.0      0.0   0.0      0.0   \n",
       "887      DJ Hussey  ...            1       0    0.0      0.0   0.0      0.0   \n",
       "1295     PP Chawla  ...            1       0    0.0      0.0   0.0      0.0   \n",
       "\n",
       "      wicket_type player_dismissed run  over  \n",
       "240                                  0     2  \n",
       "694                                  2     0  \n",
       "739                                  0     7  \n",
       "887                                  1    11  \n",
       "1295                                 1    19  \n",
       "\n",
       "[5 rows x 21 columns]"
      ]
     },
     "execution_count": 127,
     "metadata": {},
     "output_type": "execute_result"
    }
   ],
   "source": [
    "after_no_ball = ipl_data1.iloc[new, :]\n",
    "after_no_ball.head()"
   ]
  },
  {
   "cell_type": "code",
   "execution_count": 128,
   "id": "32af14ca",
   "metadata": {},
   "outputs": [
    {
     "data": {
      "text/plain": [
       "6    100\n",
       "4    132\n",
       "3      3\n",
       "2     57\n",
       "1    248\n",
       "0    218\n",
       "Name: runs_off_bat, dtype: int64"
      ]
     },
     "execution_count": 128,
     "metadata": {},
     "output_type": "execute_result"
    }
   ],
   "source": [
    "no_ball_statistics = after_no_ball['runs_off_bat'].value_counts().sort_index(ascending=False)\n",
    "no_ball_statistics"
   ]
  },
  {
   "cell_type": "code",
   "execution_count": 129,
   "id": "38261840",
   "metadata": {},
   "outputs": [
    {
     "data": {
      "text/plain": [
       "<AxesSubplot:xlabel='runs_off_bat', ylabel='count'>"
      ]
     },
     "execution_count": 129,
     "metadata": {},
     "output_type": "execute_result"
    },
    {
     "data": {
      "image/png": "[encoded data removed]",
      "text/plain": [
       "<Figure size 432x288 with 1 Axes>"
      ]
     },
     "metadata": {
      "needs_background": "light"
     },
     "output_type": "display_data"
    }
   ],
   "source": [
    "sns.countplot(after_no_ball['runs_off_bat'])"
   ]
  },
  {
   "cell_type": "markdown",
   "id": "4de1203a",
   "metadata": {},
   "source": [
    "**39. Most runs given by a team as extras?**"
   ]
  },
  {
   "cell_type": "code",
   "execution_count": 130,
   "id": "93252fd8",
   "metadata": {},
   "outputs": [
    {
     "data": {
      "image/png": "[encoded data removed]",
      "text/plain": [
       "<Figure size 720x576 with 1 Axes>"
      ]
     },
     "metadata": {
      "needs_background": "light"
     },
     "output_type": "display_data"
    }
   ],
   "source": [
    "plt.figure(figsize=(10,8))\n",
    "data = ipl_data1.groupby(['batting_team'])['extras'].agg('sum').sort_values(ascending=False)\n",
    "sns.barplot(y=data.index,x=data,orient='h')\n",
    "plt.xlabel('Runs')\n",
    "plt.ylabel('Teams')\n",
    "plt.show()"
   ]
  },
  {
   "cell_type": "markdown",
   "id": "f0c7ad1b",
   "metadata": {},
   "source": [
    "### Player of the Match:-"
   ]
  },
  {
   "cell_type": "markdown",
   "id": "623db041",
   "metadata": {},
   "source": [
    "**40. Which player has won the most number of 'Man of the Match' awards in IPL?**"
   ]
  },
  {
   "cell_type": "code",
   "execution_count": 131,
   "id": "774d686a",
   "metadata": {},
   "outputs": [
    {
     "data": {
      "text/plain": [
       "CH Gayle          18\n",
       "YK Pathan         16\n",
       "DA Warner         15\n",
       "AB de Villiers    15\n",
       "RG Sharma         14\n",
       "Name: player_of_match, dtype: int64"
      ]
     },
     "execution_count": 131,
     "metadata": {},
     "output_type": "execute_result"
    }
   ],
   "source": [
    "match_data[\"player_of_match\"].value_counts()[:5]"
   ]
  },
  {
   "cell_type": "markdown",
   "id": "9c9be2ac",
   "metadata": {},
   "source": [
    "Christopher Henry Gayle has won the most number of \"Player of the Match\" awards in IPL."
   ]
  },
  {
   "cell_type": "markdown",
   "id": "330c61f9",
   "metadata": {},
   "source": [
    "## :: End of Analysis ::"
   ]
  },
  {
   "cell_type": "code",
   "execution_count": null,
   "id": "9a79daed",
   "metadata": {},
   "outputs": [],
   "source": []
  }
 ],
 "metadata": {
  "kernelspec": {
   "display_name": "Python 3 (ipykernel)",
   "language": "python",
   "name": "python3"
  },
  "language_info": {
   "codemirror_mode": {
    "name": "ipython",
    "version": 3
   },
   "file_extension": ".py",
   "mimetype": "text/x-python",
   "name": "python",
   "nbconvert_exporter": "python",
   "pygments_lexer": "ipython3",
   "version": "3.8.12"
  }
 },
 "nbformat": 4,
 "nbformat_minor": 5
}
